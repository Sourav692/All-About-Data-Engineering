{
 "cells": [
  {
   "cell_type": "code",
   "execution_count": 1,
   "id": "bfb289a3",
   "metadata": {},
   "outputs": [],
   "source": [
    "my_list = [11, 12, 17, 14, 10, 13]\n",
    "odd_numbers = list(filter(lambda x: x%2 != 0, my_list))"
   ]
  },
  {
   "cell_type": "code",
   "execution_count": 3,
   "id": "bfb4f6a1",
   "metadata": {},
   "outputs": [
    {
     "name": "stdout",
     "output_type": "stream",
     "text": [
      "odd_numbers [11, 17, 13]\n"
     ]
    }
   ],
   "source": [
    "print(f\"odd_numbers {odd_numbers}\")"
   ]
  },
  {
   "cell_type": "code",
   "execution_count": 6,
   "id": "aaacb201",
   "metadata": {},
   "outputs": [
    {
     "name": "stdout",
     "output_type": "stream",
     "text": [
      "squared_numbers = [121, 144, 289, 196, 100, 169]\n"
     ]
    }
   ],
   "source": [
    "def square(x):\n",
    "  return x**2\n",
    "\n",
    "squared_numbers = list(map(square, my_list))\n",
    "\n",
    "print(f\"squared_numbers = {squared_numbers}\")"
   ]
  },
  {
   "cell_type": "code",
   "execution_count": 7,
   "id": "87e4fa31",
   "metadata": {},
   "outputs": [
    {
     "name": "stdout",
     "output_type": "stream",
     "text": [
      "max_number = 17\n"
     ]
    }
   ],
   "source": [
    "from functools import reduce\n",
    "max_number = reduce(lambda x, y: x if x>y else y, my_list)\n",
    "print(\"max_number = {}\".format(max_number))"
   ]
  },
  {
   "cell_type": "markdown",
   "id": "da65a82a",
   "metadata": {},
   "source": [
    "#### Operations with RDD"
   ]
  },
  {
   "cell_type": "code",
   "execution_count": 1,
   "id": "5de9fec3",
   "metadata": {},
   "outputs": [],
   "source": [
    "import findspark\n",
    "findspark.init()\n",
    "from pyspark.sql import SparkSession\n",
    "\n"
   ]
  },
  {
   "cell_type": "code",
   "execution_count": null,
   "id": "d6a3e2db",
   "metadata": {},
   "outputs": [],
   "source": []
  },
  {
   "cell_type": "code",
   "execution_count": 2,
   "id": "8b9162d2",
   "metadata": {},
   "outputs": [
    {
     "data": {
      "text/plain": [
       "ParallelCollectionRDD[0] at readRDDFromFile at PythonRDD.scala:274"
      ]
     },
     "execution_count": 2,
     "metadata": {},
     "output_type": "execute_result"
    }
   ],
   "source": [
    "spark = SparkSession.builder.master(\"local[1]\") \\\n",
    "                    .appName('SparkByExamples.com') \\\n",
    "                    .getOrCreate()\n",
    "my_list = [11, 12, 17, 14, 10, 13]\n",
    "rdd = spark.sparkContext.parallelize(my_list)\n",
    "rdd"
   ]
  },
  {
   "cell_type": "code",
   "execution_count": 5,
   "id": "d0e6fafa",
   "metadata": {},
   "outputs": [
    {
     "name": "stdout",
     "output_type": "stream",
     "text": [
      "root\n",
      " |-- dept_name: string (nullable = true)\n",
      " |-- dept_id: long (nullable = true)\n",
      "\n"
     ]
    }
   ],
   "source": [
    "dept = [[\"Finance\",10], \n",
    "        [\"Marketing\",20], \n",
    "        [\"Sales\",30], \n",
    "        [\"IT\",40] \n",
    "      ]\n",
    "deptColumns = [\"dept_name\",\"dept_id\"]\n",
    "deptDF1 = spark.createDataFrame(data=dept, schema = deptColumns)\n",
    "deptDF1.printSchema()"
   ]
  },
  {
   "cell_type": "code",
   "execution_count": 18,
   "id": "f0028ca4",
   "metadata": {},
   "outputs": [
    {
     "data": {
      "text/plain": [
       "[11, 12, 17, 14, 10, 13]"
      ]
     },
     "execution_count": 18,
     "metadata": {},
     "output_type": "execute_result"
    }
   ],
   "source": [
    "rdd.collect()"
   ]
  },
  {
   "cell_type": "code",
   "execution_count": 20,
   "id": "be1f8817",
   "metadata": {},
   "outputs": [
    {
     "data": {
      "text/plain": [
       "1"
      ]
     },
     "execution_count": 20,
     "metadata": {},
     "output_type": "execute_result"
    }
   ],
   "source": [
    "rdd.getNumPartitions()"
   ]
  },
  {
   "cell_type": "code",
   "execution_count": 21,
   "id": "bbf56b76",
   "metadata": {},
   "outputs": [],
   "source": [
    "odd_numbers_rdd = rdd.filter(lambda x: x%2 != 0)"
   ]
  },
  {
   "cell_type": "code",
   "execution_count": 22,
   "id": "b8bcd0d7",
   "metadata": {},
   "outputs": [
    {
     "data": {
      "text/plain": [
       "PythonRDD[1] at RDD at PythonRDD.scala:53"
      ]
     },
     "execution_count": 22,
     "metadata": {},
     "output_type": "execute_result"
    }
   ],
   "source": [
    "odd_numbers_rdd"
   ]
  },
  {
   "cell_type": "code",
   "execution_count": 23,
   "id": "ec5efc84",
   "metadata": {},
   "outputs": [
    {
     "name": "stdout",
     "output_type": "stream",
     "text": [
      "RDD of odd numbers = [11, 17, 13]\n"
     ]
    }
   ],
   "source": [
    "lsit_of_odd_numbers = odd_numbers_rdd.collect()\n",
    "print(\"RDD of odd numbers = {}\".format(lsit_of_odd_numbers))"
   ]
  },
  {
   "cell_type": "code",
   "execution_count": 24,
   "id": "7010ce27",
   "metadata": {},
   "outputs": [
    {
     "name": "stdout",
     "output_type": "stream",
     "text": [
      "Sorted RDD = [10, 11, 12, 13, 14, 17]\n"
     ]
    }
   ],
   "source": [
    "sorted_rdd = rdd.sortBy(lambda x: x).collect()\n",
    "print(\"Sorted RDD = {}\".format(sorted_rdd))"
   ]
  },
  {
   "cell_type": "code",
   "execution_count": 25,
   "id": "0bf287d3",
   "metadata": {},
   "outputs": [
    {
     "name": "stdout",
     "output_type": "stream",
     "text": [
      "The max value from the RDD is 17\n"
     ]
    }
   ],
   "source": [
    "max_val = rdd.reduce(lambda x, y: x if x>y else y)\n",
    "print(\"The max value from the RDD is {}\".format(max_val))"
   ]
  },
  {
   "cell_type": "markdown",
   "id": "c3941925",
   "metadata": {},
   "source": [
    "#### Aggregations with RDD"
   ]
  },
  {
   "cell_type": "code",
   "execution_count": 42,
   "id": "42d907eb",
   "metadata": {},
   "outputs": [],
   "source": [
    "input_rdd = spark.sparkContext.textFile(\"./data/weather.csv\",2)"
   ]
  },
  {
   "cell_type": "code",
   "execution_count": 43,
   "id": "c89bbb04",
   "metadata": {},
   "outputs": [
    {
     "data": {
      "text/plain": [
       "2"
      ]
     },
     "execution_count": 43,
     "metadata": {},
     "output_type": "execute_result"
    }
   ],
   "source": [
    "input_rdd.getNumPartitions()"
   ]
  },
  {
   "cell_type": "code",
   "execution_count": 71,
   "id": "7168567e",
   "metadata": {},
   "outputs": [],
   "source": [
    "rdd1 = input_rdd.map(lambda x: (x[0],x[1],x[2]))"
   ]
  },
  {
   "cell_type": "code",
   "execution_count": 72,
   "id": "c3b30146",
   "metadata": {},
   "outputs": [
    {
     "data": {
      "text/plain": [
       "PythonRDD[31] at RDD at PythonRDD.scala:53"
      ]
     },
     "execution_count": 72,
     "metadata": {},
     "output_type": "execute_result"
    }
   ],
   "source": [
    "rdd1"
   ]
  },
  {
   "cell_type": "code",
   "execution_count": 73,
   "id": "812d01ad",
   "metadata": {},
   "outputs": [
    {
     "data": {
      "text/plain": [
       "[('2', '0', '1'),\n",
       " ('2', '0', '1'),\n",
       " ('2', '0', '1'),\n",
       " ('2', '0', '1'),\n",
       " ('2', '0', '1')]"
      ]
     },
     "execution_count": 73,
     "metadata": {},
     "output_type": "execute_result"
    }
   ],
   "source": [
    "rdd1.take(5)"
   ]
  },
  {
   "cell_type": "code",
   "execution_count": 61,
   "id": "6072751a",
   "metadata": {},
   "outputs": [
    {
     "data": {
      "text/plain": [
       "['2016-05-09,234893,34',\n",
       " '2019-09-08,234896,3',\n",
       " '2019-11-19,234895,24',\n",
       " '2017-04-04,234900,43',\n",
       " '2013-12-04,234900,47']"
      ]
     },
     "execution_count": 61,
     "metadata": {},
     "output_type": "execute_result"
    }
   ],
   "source": [
    "input_rdd.take(5)"
   ]
  },
  {
   "cell_type": "code",
   "execution_count": 58,
   "id": "941528c5",
   "metadata": {},
   "outputs": [
    {
     "data": {
      "text/plain": [
       "['2016-05-09,234893,34',\n",
       " '2019-09-08,234896,3',\n",
       " '2019-11-19,234895,24',\n",
       " '2017-04-04,234900,43',\n",
       " '2013-12-04,234900,47']"
      ]
     },
     "execution_count": 58,
     "metadata": {},
     "output_type": "execute_result"
    }
   ],
   "source": [
    "rdd1.take(5)"
   ]
  },
  {
   "cell_type": "code",
   "execution_count": 52,
   "id": "0e2f2f76",
   "metadata": {},
   "outputs": [],
   "source": [
    "data = [(\"James\",\"Smith\",\"USA\",\"CA\"),\n",
    "    (\"Michael\",\"Rose\",\"USA\",\"NY\"),\n",
    "    (\"Robert\",\"Williams\",\"USA\",\"CA\"),\n",
    "    (\"Maria\",\"Jones\",\"USA\",\"FL\")\n",
    "  ]\n",
    "\n",
    "rdd = spark.sparkContext.parallelize(data)"
   ]
  },
  {
   "cell_type": "code",
   "execution_count": 53,
   "id": "5c892a70",
   "metadata": {},
   "outputs": [
    {
     "data": {
      "text/plain": [
       "[('James', 'Smith', 'USA', 'CA'),\n",
       " ('Michael', 'Rose', 'USA', 'NY'),\n",
       " ('Robert', 'Williams', 'USA', 'CA'),\n",
       " ('Maria', 'Jones', 'USA', 'FL')]"
      ]
     },
     "execution_count": 53,
     "metadata": {},
     "output_type": "execute_result"
    }
   ],
   "source": [
    "rdd.collect()"
   ]
  },
  {
   "cell_type": "code",
   "execution_count": 62,
   "id": "e1d9b7cd",
   "metadata": {},
   "outputs": [],
   "source": [
    "result = rdd.map(lambda x: (x[0],x[1],x[2])).collect()"
   ]
  },
  {
   "cell_type": "code",
   "execution_count": 63,
   "id": "29b3a826",
   "metadata": {},
   "outputs": [
    {
     "data": {
      "text/plain": [
       "[('James', 'Smith', 'USA'),\n",
       " ('Michael', 'Rose', 'USA'),\n",
       " ('Robert', 'Williams', 'USA'),\n",
       " ('Maria', 'Jones', 'USA')]"
      ]
     },
     "execution_count": 63,
     "metadata": {},
     "output_type": "execute_result"
    }
   ],
   "source": [
    "result"
   ]
  },
  {
   "cell_type": "code",
   "execution_count": 74,
   "id": "05c6681b",
   "metadata": {},
   "outputs": [],
   "source": [
    "selected_fields_rdd = input_rdd.map(lambda line: (int(line.split(\",\")[0].split(\"-\")[0]), int(line.split(\",\")[2])))"
   ]
  },
  {
   "cell_type": "code",
   "execution_count": 75,
   "id": "77d169f9",
   "metadata": {},
   "outputs": [
    {
     "data": {
      "text/plain": [
       "[(2016, 34), (2019, 3), (2019, 24), (2017, 43), (2013, 47)]"
      ]
     },
     "execution_count": 75,
     "metadata": {},
     "output_type": "execute_result"
    }
   ],
   "source": [
    "selected_fields_rdd.take(5)"
   ]
  },
  {
   "cell_type": "code",
   "execution_count": 76,
   "id": "dab6849b",
   "metadata": {},
   "outputs": [],
   "source": [
    "# Get the maximum temperature corresponding to each year\n",
    "max_temperature_rdd = selected_fields_rdd.reduceByKey(lambda x, y: x if x>y else y)"
   ]
  },
  {
   "cell_type": "code",
   "execution_count": 77,
   "id": "6b6d98d8",
   "metadata": {},
   "outputs": [
    {
     "data": {
      "text/plain": [
       "[(2016, 36), (2018, 45), (2010, 39), (2014, 35), (2012, 40)]"
      ]
     },
     "execution_count": 77,
     "metadata": {},
     "output_type": "execute_result"
    }
   ],
   "source": [
    "max_temperature_rdd.take(5)"
   ]
  },
  {
   "cell_type": "code",
   "execution_count": 78,
   "id": "1688e7e2",
   "metadata": {},
   "outputs": [],
   "source": [
    "result = max_temperature_rdd.collect()"
   ]
  },
  {
   "cell_type": "code",
   "execution_count": 79,
   "id": "7406f162",
   "metadata": {},
   "outputs": [
    {
     "name": "stdout",
     "output_type": "stream",
     "text": [
      "[(2016, 36), (2018, 45), (2010, 39), (2014, 35), (2012, 40), (2019, 47), (2017, 47), (2013, 47), (2015, 41), (2011, 38)]\n"
     ]
    }
   ],
   "source": [
    "print(result)"
   ]
  },
  {
   "cell_type": "code",
   "execution_count": null,
   "id": "36ffe5a7",
   "metadata": {},
   "outputs": [],
   "source": []
  }
 ],
 "metadata": {
  "kernelspec": {
   "display_name": "Python 3",
   "language": "python",
   "name": "python3"
  },
  "language_info": {
   "codemirror_mode": {
    "name": "ipython",
    "version": 3
   },
   "file_extension": ".py",
   "mimetype": "text/x-python",
   "name": "python",
   "nbconvert_exporter": "python",
   "pygments_lexer": "ipython3",
   "version": "3.8.12"
  }
 },
 "nbformat": 4,
 "nbformat_minor": 5
}
