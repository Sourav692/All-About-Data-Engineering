{
 "cells": [
  {
   "cell_type": "markdown",
   "metadata": {},
   "source": [
    "https://towardsdatascience.com/six-spark-exercises-to-rule-them-all-242445b24565"
   ]
  },
  {
   "cell_type": "code",
   "execution_count": 5,
   "metadata": {},
   "outputs": [],
   "source": [
    "from pyspark.sql import SparkSession\n",
    "from pyspark.sql.functions import *\n",
    "\n",
    "# Create SparkSession\n",
    "spark = SparkSession.builder \\\n",
    "    .master(\"local\") \\\n",
    "    .config(\"spark.sql.autoBroadcastJoinThreshold\", -1) \\\n",
    "    .config(\"spark.executor.memory\", \"500mb\") \\\n",
    "    .appName(\"Exercise1\") \\\n",
    "    .getOrCreate()"
   ]
  },
  {
   "cell_type": "markdown",
   "metadata": {},
   "source": [
    "This exercise use below datasets:\n",
    "1. sales_parquet:\n",
    "   \n",
    "        Each row in this table is an order and every order can contain only one product. Each row stores the following fields:\n",
    "        order_id: The order ID\n",
    "        product_id: The single product sold in the order. All orders have exactly one product)\n",
    "        seller_id: The selling employee ID that sold the product\n",
    "        num_pieces_sold: The number of units sold for the specific product in the order\n",
    "        bill_raw_text: A string that represents the raw text of the bill associated with the order\n",
    "        date: The date of the order.\n",
    "\n",
    "2. Product_parquet:\n",
    "   \n",
    "        Each row represents a distinct product. The fields are:\n",
    "        product_id: The product ID\n",
    "        product_name: The product name\n",
    "        price: The product price\n",
    "\n",
    "3. Seller_parquet:\n",
    "   \n",
    "        This table contains the list of all the sellers:\n",
    "        seller_id: The seller ID\n",
    "        seller_name: The seller name\n",
    "        daily_target: The number of items (regardless of the product type) that the seller needs to hit his/her quota. For example, if the daily target is 100,000, the employee needs to sell 100,000 products he can hit the quota by selling 100,000 units of product_0, but also selling 30,000 units of product_1 and 70,000 units of product_2"
   ]
  },
  {
   "cell_type": "markdown",
   "metadata": {},
   "source": [
    "### How many distinct products have been sold in each day?\n"
   ]
  },
  {
   "cell_type": "code",
   "execution_count": 6,
   "metadata": {},
   "outputs": [],
   "source": [
    "\n",
    "#   Read the source tables in Parquet format\n",
    "products_table = spark.read.parquet(\"./data/products_parquet\")\n",
    "sales_table = spark.read.parquet(\"./data/sales_parquet\")\n",
    "sellers_table = spark.read.parquet(\"./data/sellers_parquet\")"
   ]
  },
  {
   "cell_type": "code",
   "execution_count": 8,
   "metadata": {},
   "outputs": [
    {
     "name": "stdout",
     "output_type": "stream",
     "text": [
      "root\n",
      " |-- product_id: string (nullable = true)\n",
      " |-- product_name: string (nullable = true)\n",
      " |-- price: string (nullable = true)\n",
      "\n"
     ]
    }
   ],
   "source": [
    "products_table.printSchema()"
   ]
  },
  {
   "cell_type": "code",
   "execution_count": 9,
   "metadata": {},
   "outputs": [
    {
     "name": "stdout",
     "output_type": "stream",
     "text": [
      "root\n",
      " |-- order_id: string (nullable = true)\n",
      " |-- product_id: string (nullable = true)\n",
      " |-- seller_id: string (nullable = true)\n",
      " |-- date: string (nullable = true)\n",
      " |-- num_pieces_sold: string (nullable = true)\n",
      " |-- bill_raw_text: string (nullable = true)\n",
      "\n"
     ]
    }
   ],
   "source": [
    "sales_table.printSchema()"
   ]
  },
  {
   "cell_type": "code",
   "execution_count": 10,
   "metadata": {},
   "outputs": [
    {
     "name": "stdout",
     "output_type": "stream",
     "text": [
      "root\n",
      " |-- seller_id: string (nullable = true)\n",
      " |-- seller_name: string (nullable = true)\n",
      " |-- daily_target: string (nullable = true)\n",
      "\n"
     ]
    }
   ],
   "source": [
    "sellers_table.printSchema()"
   ]
  },
  {
   "cell_type": "markdown",
   "metadata": {},
   "source": [
    "![picture 1](../images/3c4a71d13ae38c36f9f0901c2cec18a6f2c8fc4cc208eb673476839ff4a308bf.png)  \n"
   ]
  },
  {
   "cell_type": "code",
   "execution_count": 13,
   "metadata": {},
   "outputs": [
    {
     "name": "stdout",
     "output_type": "stream",
     "text": [
      "Number of seller in sales table 10\n"
     ]
    }
   ],
   "source": [
    "sellers_table.select(\"seller_id\").distinct().count()\n",
    "print(\"Number of seller in sales table\", str( sales_table.select(\"seller_id\").distinct().count()))"
   ]
  },
  {
   "cell_type": "code",
   "execution_count": 30,
   "metadata": {},
   "outputs": [
    {
     "name": "stdout",
     "output_type": "stream",
     "text": [
      "+----------+----------------------+\n",
      "|      date|distinct_products_sold|\n",
      "+----------+----------------------+\n",
      "|2020-07-06|                100765|\n",
      "|2020-07-09|                100501|\n",
      "|2020-07-01|                100337|\n",
      "|2020-07-03|                100017|\n",
      "|2020-07-02|                 99807|\n",
      "|2020-07-05|                 99796|\n",
      "|2020-07-04|                 99791|\n",
      "|2020-07-07|                 99756|\n",
      "|2020-07-08|                 99662|\n",
      "|2020-07-10|                 98973|\n",
      "+----------+----------------------+\n",
      "\n"
     ]
    }
   ],
   "source": [
    "#sales_table.select(\"product_id\",\"date\").show(10,False)\n",
    "\n",
    "sales_table.groupBy(\"date\").agg(countDistinct(\"product_id\").alias(\"distinct_products_sold\")).orderBy(col(\"distinct_products_sold\").desc()).show()"
   ]
  },
  {
   "cell_type": "markdown",
   "metadata": {},
   "source": [
    "### Find out how many orders, how many products and how many sellers are in the data.\n",
    "\n",
    "### How many products have been sold at least once? Which is the product contained in more orders?"
   ]
  },
  {
   "cell_type": "code",
   "execution_count": 31,
   "metadata": {},
   "outputs": [
    {
     "name": "stdout",
     "output_type": "stream",
     "text": [
      "Number of Orders: 20000040\n",
      "Number of sellers: 10\n",
      "Number of products: 75000000\n"
     ]
    }
   ],
   "source": [
    "#  Find out how many orders, how many products and how many sellers are in the data.\n",
    "\n",
    "#   Print the number of orders\n",
    "print(\"Number of Orders: {}\".format(sales_table.count()))\n",
    "\n",
    "#   Print the number of sellers\n",
    "print(\"Number of sellers: {}\".format(sellers_table.count()))\n",
    "\n",
    "#   Print the number of products\n",
    "print(\"Number of products: {}\".format(products_table.count()))"
   ]
  },
  {
   "cell_type": "code",
   "execution_count": 32,
   "metadata": {},
   "outputs": [
    {
     "name": "stdout",
     "output_type": "stream",
     "text": [
      "Number of products sold at least once\n",
      "+-----------------+\n",
      "|count(product_id)|\n",
      "+-----------------+\n",
      "|           993429|\n",
      "+-----------------+\n",
      "\n"
     ]
    }
   ],
   "source": [
    "#   Output how many products have been actually sold at least once\n",
    "print(\"Number of products sold at least once\")\n",
    "sales_table.agg(countDistinct(col(\"product_id\"))).show()"
   ]
  },
  {
   "cell_type": "code",
   "execution_count": 33,
   "metadata": {},
   "outputs": [
    {
     "name": "stdout",
     "output_type": "stream",
     "text": [
      "Product present in more orders\n",
      "+----------+--------+\n",
      "|product_id|     cnt|\n",
      "+----------+--------+\n",
      "|         0|19000000|\n",
      "+----------+--------+\n",
      "\n"
     ]
    }
   ],
   "source": [
    "\n",
    "#   Output which is the product that has been sold in more orders\n",
    "print(\"Product present in more orders\")\n",
    "sales_table.groupBy(col(\"product_id\")).agg(\n",
    "    count(\"*\").alias(\"cnt\")).orderBy(col(\"cnt\").desc()).limit(1).show()"
   ]
  },
  {
   "cell_type": "markdown",
   "metadata": {},
   "source": [
    "### What is the average revenue of the orders?\n"
   ]
  },
  {
   "cell_type": "code",
   "execution_count": null,
   "metadata": {},
   "outputs": [],
   "source": []
  },
  {
   "cell_type": "markdown",
   "metadata": {},
   "source": [
    "### Who are the second most selling and the least selling persons (sellers) for each product? Who are those for product with `product_id = 0`"
   ]
  },
  {
   "cell_type": "markdown",
   "metadata": {},
   "source": [
    "![picture 1](../images/3c4a71d13ae38c36f9f0901c2cec18a6f2c8fc4cc208eb673476839ff4a308bf.png)  \n"
   ]
  },
  {
   "cell_type": "code",
   "execution_count": 35,
   "metadata": {},
   "outputs": [
    {
     "data": {
      "text/plain": [
       "999276"
      ]
     },
     "execution_count": 35,
     "metadata": {},
     "output_type": "execute_result"
    }
   ],
   "source": [
    "# We get the sum of sales for each product and seller pairs.\n",
    "\n",
    "sales_table = sales_table.groupby(col(\"product_id\"), col(\"seller_id\")). \\\n",
    "    agg(sum(\"num_pieces_sold\").alias(\"num_pieces_sold\"))\n",
    "    \n",
    "sales_table.count()"
   ]
  },
  {
   "cell_type": "code",
   "execution_count": 36,
   "metadata": {},
   "outputs": [],
   "source": [
    "# Create the window functions, one will sort ascending the other one descending. Partition by the product_id\n",
    "# and sort by the pieces sold\n",
    "\n",
    "# So in question whichever has been mentioned as each we have to partition on that\n",
    "from pyspark.sql import Row, Window\n",
    "from pyspark.sql.types import IntegerType\n",
    "window_desc = Window.partitionBy(col(\"product_id\")).orderBy(col(\"num_pieces_sold\").desc())\n",
    "window_asc = Window.partitionBy(col(\"product_id\")).orderBy(col(\"num_pieces_sold\").asc())"
   ]
  },
  {
   "cell_type": "code",
   "execution_count": 37,
   "metadata": {},
   "outputs": [
    {
     "name": "stdout",
     "output_type": "stream",
     "text": [
      "+----------+---------+---------------+--------+---------+\n",
      "|product_id|seller_id|num_pieces_sold|rank_asc|rank_desc|\n",
      "+----------+---------+---------------+--------+---------+\n",
      "|  10005243|        6|           98.0|       1|        1|\n",
      "|  10023464|        9|           59.0|       1|        1|\n",
      "|  10050363|        6|           18.0|       1|        1|\n",
      "|  10089524|        2|           53.0|       1|        1|\n",
      "|  10122266|        2|           25.0|       1|        1|\n",
      "|  10134574|        3|           28.0|       1|        1|\n",
      "|  10150439|        4|           72.0|       1|        1|\n",
      "|  10158822|        9|           86.0|       1|        1|\n",
      "|  10160884|        7|           89.0|       1|        1|\n",
      "|  10172594|        2|           60.0|       1|        1|\n",
      "|  10175294|        7|           29.0|       1|        1|\n",
      "|   1017716|        9|           82.0|       1|        1|\n",
      "|  10200802|        2|           42.0|       1|        1|\n",
      "|  10215353|        1|           22.0|       1|        1|\n",
      "|  10218345|        4|           98.0|       1|        1|\n",
      "|  10220977|        5|           76.0|       1|        1|\n",
      "|  10255853|        7|           26.0|       1|        1|\n",
      "|  10288525|        6|           63.0|       1|        1|\n",
      "|  10304712|        9|           48.0|       1|        1|\n",
      "|  10324080|        6|            5.0|       1|        1|\n",
      "+----------+---------+---------------+--------+---------+\n",
      "only showing top 20 rows\n",
      "\n"
     ]
    }
   ],
   "source": [
    "# Create a Dense Rank (to avoid holes)\n",
    "\n",
    "sales_table = sales_table.withColumn(\"rank_asc\", dense_rank().over(window_asc)). \\\n",
    "    withColumn(\"rank_desc\", dense_rank().over(window_desc))\n"
   ]
  },
  {
   "cell_type": "code",
   "execution_count": 45,
   "metadata": {},
   "outputs": [
    {
     "name": "stdout",
     "output_type": "stream",
     "text": [
      "+----------+---------+---------------+--------+---------+\n",
      "|product_id|seller_id|num_pieces_sold|rank_asc|rank_desc|\n",
      "+----------+---------+---------------+--------+---------+\n",
      "|10005243  |6        |98.0           |1       |1        |\n",
      "|10023464  |9        |59.0           |1       |1        |\n",
      "|10050363  |6        |18.0           |1       |1        |\n",
      "|10089524  |2        |53.0           |1       |1        |\n",
      "|10122266  |2        |25.0           |1       |1        |\n",
      "|10134574  |3        |28.0           |1       |1        |\n",
      "|10150439  |4        |72.0           |1       |1        |\n",
      "|10158822  |9        |86.0           |1       |1        |\n",
      "|10160884  |7        |89.0           |1       |1        |\n",
      "|10172594  |2        |60.0           |1       |1        |\n",
      "|10175294  |7        |29.0           |1       |1        |\n",
      "|1017716   |9        |82.0           |1       |1        |\n",
      "|10200802  |2        |42.0           |1       |1        |\n",
      "|10215353  |1        |22.0           |1       |1        |\n",
      "|10218345  |4        |98.0           |1       |1        |\n",
      "|10220977  |5        |76.0           |1       |1        |\n",
      "|10255853  |7        |26.0           |1       |1        |\n",
      "|10288525  |6        |63.0           |1       |1        |\n",
      "|10304712  |9        |48.0           |1       |1        |\n",
      "|10324080  |6        |5.0            |1       |1        |\n",
      "|10329337  |9        |66.0           |1       |1        |\n",
      "|10329669  |8        |58.0           |1       |1        |\n",
      "|103432    |1        |98.0           |1       |1        |\n",
      "|10378833  |8        |26.0           |1       |1        |\n",
      "|10398868  |3        |9.0            |1       |1        |\n",
      "|10405009  |9        |90.0           |1       |1        |\n",
      "|1040583   |7        |38.0           |1       |1        |\n",
      "|10482901  |7        |38.0           |1       |1        |\n",
      "|10494099  |4        |71.0           |1       |1        |\n",
      "|10505003  |3        |28.0           |1       |1        |\n",
      "|10524893  |4        |6.0            |1       |1        |\n",
      "|10551133  |3        |81.0           |1       |1        |\n",
      "|1055308   |4        |63.0           |1       |1        |\n",
      "|10637985  |9        |5.0            |1       |1        |\n",
      "|10648633  |4        |98.0           |1       |1        |\n",
      "|10689536  |1        |80.0           |1       |1        |\n",
      "|10711413  |4        |51.0           |1       |1        |\n",
      "|1073482   |6        |92.0           |1       |1        |\n",
      "|10735560  |1        |36.0           |1       |1        |\n",
      "|10740789  |1        |5.0            |1       |1        |\n",
      "|10749424  |8        |63.0           |1       |1        |\n",
      "|10752659  |1        |70.0           |1       |1        |\n",
      "|10777100  |9        |84.0           |1       |1        |\n",
      "|10818496  |3        |41.0           |1       |1        |\n",
      "|10852025  |5        |4.0            |1       |1        |\n",
      "|10867431  |9        |66.0           |1       |1        |\n",
      "|10869417  |5        |97.0           |1       |1        |\n",
      "|10880368  |3        |12.0           |1       |1        |\n",
      "|10893006  |5        |66.0           |1       |1        |\n",
      "|10914575  |9        |60.0           |1       |1        |\n",
      "+----------+---------+---------------+--------+---------+\n",
      "only showing top 50 rows\n",
      "\n"
     ]
    }
   ],
   "source": [
    "sales_table.show(50,False)"
   ]
  },
  {
   "cell_type": "code",
   "execution_count": 41,
   "metadata": {},
   "outputs": [],
   "source": [
    "# Get products that only have one row OR the products in which multiple sellers sold the same amount\n",
    "# (i.e. all the employees that ever sold the product, sold the same exact amount)\n",
    "single_seller = sales_table.where(col(\"rank_asc\") == col(\"rank_desc\")).select(\n",
    "    col(\"product_id\").alias(\"single_seller_product_id\"), col(\"seller_id\").alias(\"single_seller_seller_id\"),\n",
    "    lit(\"Only seller or multiple sellers with the same results\").alias(\"type\"))"
   ]
  },
  {
   "cell_type": "code",
   "execution_count": 44,
   "metadata": {},
   "outputs": [
    {
     "name": "stdout",
     "output_type": "stream",
     "text": [
      "+------------------------+-----------------------+-----------------------------------------------------+\n",
      "|single_seller_product_id|single_seller_seller_id|type                                                 |\n",
      "+------------------------+-----------------------+-----------------------------------------------------+\n",
      "|10005243                |6                      |Only seller or multiple sellers with the same results|\n",
      "|10023464                |9                      |Only seller or multiple sellers with the same results|\n",
      "|10050363                |6                      |Only seller or multiple sellers with the same results|\n",
      "|10089524                |2                      |Only seller or multiple sellers with the same results|\n",
      "|10122266                |2                      |Only seller or multiple sellers with the same results|\n",
      "|10134574                |3                      |Only seller or multiple sellers with the same results|\n",
      "|10150439                |4                      |Only seller or multiple sellers with the same results|\n",
      "|10158822                |9                      |Only seller or multiple sellers with the same results|\n",
      "|10160884                |7                      |Only seller or multiple sellers with the same results|\n",
      "|10172594                |2                      |Only seller or multiple sellers with the same results|\n",
      "|10175294                |7                      |Only seller or multiple sellers with the same results|\n",
      "|1017716                 |9                      |Only seller or multiple sellers with the same results|\n",
      "|10200802                |2                      |Only seller or multiple sellers with the same results|\n",
      "|10215353                |1                      |Only seller or multiple sellers with the same results|\n",
      "|10218345                |4                      |Only seller or multiple sellers with the same results|\n",
      "|10220977                |5                      |Only seller or multiple sellers with the same results|\n",
      "|10255853                |7                      |Only seller or multiple sellers with the same results|\n",
      "|10288525                |6                      |Only seller or multiple sellers with the same results|\n",
      "|10304712                |9                      |Only seller or multiple sellers with the same results|\n",
      "|10324080                |6                      |Only seller or multiple sellers with the same results|\n",
      "+------------------------+-----------------------+-----------------------------------------------------+\n",
      "only showing top 20 rows\n",
      "\n"
     ]
    }
   ],
   "source": [
    "single_seller.show(truncate= False)"
   ]
  },
  {
   "cell_type": "code",
   "execution_count": 46,
   "metadata": {},
   "outputs": [],
   "source": [
    "# Get the second top sellers\n",
    "second_seller = sales_table.where(col(\"rank_desc\") == 2).select(\n",
    "    col(\"product_id\").alias(\"second_seller_product_id\"), col(\"seller_id\").alias(\"second_seller_seller_id\"),\n",
    "    lit(\"Second top seller\").alias(\"type\")\n",
    ")\n"
   ]
  },
  {
   "cell_type": "code",
   "execution_count": 47,
   "metadata": {},
   "outputs": [],
   "source": [
    "# Get the least sellers and exclude those rows that are already included in the first piece\n",
    "# We also exclude the \"second top sellers\" that are also \"least sellers\"\n",
    "least_seller = sales_table.where(col(\"rank_asc\") == 1).select(\n",
    "    col(\"product_id\"), col(\"seller_id\"),\n",
    "    lit(\"Least Seller\").alias(\"type\")\n",
    ").join(single_seller, (sales_table[\"seller_id\"] == single_seller[\"single_seller_seller_id\"]) & (\n",
    "        sales_table[\"product_id\"] == single_seller[\"single_seller_product_id\"]), \"left_anti\"). \\\n",
    "    join(second_seller, (sales_table[\"seller_id\"] == second_seller[\"second_seller_seller_id\"]) & (\n",
    "        sales_table[\"product_id\"] == second_seller[\"second_seller_product_id\"]), \"left_anti\")\n"
   ]
  },
  {
   "cell_type": "code",
   "execution_count": 48,
   "metadata": {},
   "outputs": [
    {
     "name": "stdout",
     "output_type": "stream",
     "text": [
      "+----------+---------+------------+\n",
      "|product_id|seller_id|        type|\n",
      "+----------+---------+------------+\n",
      "|  19986717|        1|Least Seller|\n",
      "|  40496308|        5|Least Seller|\n",
      "|  52606213|        7|Least Seller|\n",
      "|  14542470|        5|Least Seller|\n",
      "|  28592106|        5|Least Seller|\n",
      "|  17944574|        8|Least Seller|\n",
      "|  61475460|        7|Least Seller|\n",
      "|   3534470|        3|Least Seller|\n",
      "|  35669461|        4|Least Seller|\n",
      "|  32602520|        9|Least Seller|\n",
      "|  72017876|        1|Least Seller|\n",
      "|  67723231|        5|Least Seller|\n",
      "|  56011040|        5|Least Seller|\n",
      "|  34681047|        5|Least Seller|\n",
      "|  57735075|        9|Least Seller|\n",
      "|  18182299|        7|Least Seller|\n",
      "|  69790381|        5|Least Seller|\n",
      "|  31136332|        9|Least Seller|\n",
      "|  10978356|        7|Least Seller|\n",
      "|  20774718|        9|Least Seller|\n",
      "+----------+---------+------------+\n",
      "only showing top 20 rows\n",
      "\n"
     ]
    }
   ],
   "source": [
    "# Union all the pieces\n",
    "union_table = least_seller.select(\n",
    "    col(\"product_id\"),\n",
    "    col(\"seller_id\"),\n",
    "    col(\"type\")\n",
    ").union(second_seller.select(\n",
    "    col(\"second_seller_product_id\").alias(\"product_id\"),\n",
    "    col(\"second_seller_seller_id\").alias(\"seller_id\"),\n",
    "    col(\"type\")\n",
    ")).union(single_seller.select(\n",
    "    col(\"single_seller_product_id\").alias(\"product_id\"),\n",
    "    col(\"single_seller_seller_id\").alias(\"seller_id\"),\n",
    "    col(\"type\")\n",
    "))\n",
    "union_table.show()"
   ]
  },
  {
   "cell_type": "code",
   "execution_count": 49,
   "metadata": {},
   "outputs": [
    {
     "name": "stdout",
     "output_type": "stream",
     "text": [
      "+----------+---------+--------------------+\n",
      "|product_id|seller_id|                type|\n",
      "+----------+---------+--------------------+\n",
      "|         0|        0|Only seller or mu...|\n",
      "+----------+---------+--------------------+\n",
      "\n"
     ]
    }
   ],
   "source": [
    "# Which are the second top seller and least seller of product 0?\n",
    "union_table.where(col(\"product_id\") == 0).show()"
   ]
  },
  {
   "cell_type": "code",
   "execution_count": null,
   "metadata": {},
   "outputs": [],
   "source": []
  }
 ],
 "metadata": {
  "interpreter": {
   "hash": "0012cd877e37c553ce082c8a53dbb8150686811a71a997c633aba52086b562f8"
  },
  "kernelspec": {
   "display_name": "Python 3.8.12 64-bit ('pyspark3': conda)",
   "language": "python",
   "name": "python3"
  },
  "language_info": {
   "codemirror_mode": {
    "name": "ipython",
    "version": 3
   },
   "file_extension": ".py",
   "mimetype": "text/x-python",
   "name": "python",
   "nbconvert_exporter": "python",
   "pygments_lexer": "ipython3",
   "version": "3.8.12"
  },
  "orig_nbformat": 4
 },
 "nbformat": 4,
 "nbformat_minor": 2
}
