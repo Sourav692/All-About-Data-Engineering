{
 "cells": [
  {
   "cell_type": "markdown",
   "metadata": {},
   "source": [
    "### Create a dummy env_config"
   ]
  },
  {
   "cell_type": "code",
   "execution_count": 253,
   "metadata": {},
   "outputs": [],
   "source": [
    "env_config = {}\n",
    "env_config[\"curated_path\"] = \"/mnt/test/\"\n",
    "env_config[\"malcode\"] = \"caedw\""
   ]
  },
  {
   "cell_type": "markdown",
   "metadata": {},
   "source": [
    "### Convert to Spark SQL"
   ]
  },
  {
   "cell_type": "code",
   "execution_count": 291,
   "metadata": {},
   "outputs": [],
   "source": [
    "def convert_to_spark_sql(text,env_config):\n",
    "    \"\"\"[summary]\n",
    "\n",
    "    Args:\n",
    "        text ([type]): List genrated from synapse sql or hiveQL\n",
    "        env_config ([type]): config object\n",
    "\n",
    "    Returns:\n",
    "        text1: list contains spark SQL \n",
    "    \"\"\"\n",
    "    text1 = []\n",
    "    curated_path = env_config.get(\"curated_path\")\n",
    "    for elem in text:\n",
    "        elem_converted = elem.replace(\"\\n\",\"\").replace(\"\\t\",\"\").strip().lower()\n",
    "        if elem.lower().__contains__(\"create view\"):\n",
    "            elem_converted = elem_converted.replace(\"create view\",\"create or replace view\")\n",
    "            elem_converted = elem_converted \\\n",
    "            .replace(elem_converted[(elem_converted.index(\"view\")):int(elem_converted.index(\"as\"))-1]\n",
    "                    ,elem_converted[(elem_converted.index(\"view\")):int(elem_converted.index(\"as\"))-1]+\"_vw\") \n",
    "        if text.index(elem) != 0 and elem.lower().__contains__(env_config.get(\"malcode\")):\n",
    "            elem_converted = elem.replace(\"\\n\",\"\").replace(\"\\t\",\"\").strip().lower()\n",
    "            start_index = elem_converted.index(env_config.get(\"malcode\"))\n",
    "            end_index = elem_converted.index(\" \",elem_converted.index(env_config.get(\"malcode\")))\n",
    "            job_name_index = elem_converted.index(\".\",elem_converted.index(env_config.get(\"malcode\")))\n",
    "            job_name = elem_converted[job_name_index+1:end_index]        \n",
    "            elem_converted = elem_converted.replace(elem_converted[start_index:end_index],f\"delta.`{curated_path}{job_name}`\")       \n",
    "        text1.append(elem_converted)\n",
    "    return text1"
   ]
  },
  {
   "cell_type": "markdown",
   "metadata": {},
   "source": [
    "### Read from synapse SQL file, Convert to Spark SQL and Write to Output .sql file\n"
   ]
  },
  {
   "cell_type": "code",
   "execution_count": 293,
   "metadata": {},
   "outputs": [],
   "source": [
    "with open('./data/sql2.sql','r') as file:\n",
    "    text = file.read().lower()\n",
    "text = text[text.index(\"create\"):].split(\"\\n\")\n",
    "#print(text)\n",
    "text = convert_to_spark_sql(text,env_config)\n",
    "#print(text)\n",
    "\n",
    "f = open(\"./data/sql2_convrted.sql\", \"w\")\n",
    "for item in text:\n",
    "   f.write(item + \"\\n\")\n",
    "f.close()"
   ]
  },
  {
   "cell_type": "code",
   "execution_count": null,
   "metadata": {},
   "outputs": [],
   "source": [
    "# for elem in text:\n",
    "#     if elem.__contains__(\"create\"):\n",
    "#         start_index = text.index(elem)\n",
    "# text[start_index:] "
   ]
  },
  {
   "cell_type": "code",
   "execution_count": 288,
   "metadata": {},
   "outputs": [],
   "source": [
    "# text1 = []\n",
    "# curated_path = env_config.get(\"curated_path\")\n",
    "# for elem in text:\n",
    "#     elem_converted = elem.replace(\"\\n\",\"\").replace(\"\\t\",\"\").strip().lower()\n",
    "#     if elem.lower().__contains__(\"create view\"):\n",
    "#         elem_converted = elem_converted.replace(\"create view\",\"create or replace view\")\n",
    "#         elem_converted = elem_converted \\\n",
    "#         .replace(elem_converted[(elem_converted.index(\"view\")):int(elem_converted.index(\"as\"))-1]\n",
    "#                  ,elem_converted[(elem_converted.index(\"view\")):int(elem_converted.index(\"as\"))-1]+\"_vw\") \n",
    "#     if text.index(elem) != 0 and elem.lower().__contains__(env_config.get(\"malcode\")):\n",
    "#         elem_converted = elem.replace(\"\\n\",\"\").replace(\"\\t\",\"\").strip().lower()\n",
    "#         start_index = elem_converted.index(env_config.get(\"malcode\"))\n",
    "#         end_index = elem_converted.index(\" \",elem_converted.index(env_config.get(\"malcode\")))\n",
    "#         job_name_index = elem_converted.index(\".\",elem_converted.index(env_config.get(\"malcode\")))\n",
    "#         job_name = elem_converted[job_name_index+1:end_index]        \n",
    "#         elem_converted = elem_converted.replace(elem_converted[start_index:end_index],f\"delta.`{curated_path}{job_name}`\")       \n",
    "#     text1.append(elem_converted)\n",
    "# text1"
   ]
  },
  {
   "cell_type": "markdown",
   "metadata": {},
   "source": [
    "### Converted SQL to output file"
   ]
  },
  {
   "cell_type": "code",
   "execution_count": 273,
   "metadata": {},
   "outputs": [],
   "source": [
    "# f = open(\"./data/sql2_convrted.sql\", \"w\")\n",
    "# for item in text:\n",
    "#    f.write(item + \"\\n\")\n",
    "# f.close()"
   ]
  },
  {
   "cell_type": "code",
   "execution_count": null,
   "metadata": {},
   "outputs": [],
   "source": [
    "# lis1 = elem.split(\".\")\n",
    "# print(lis1)\n",
    "\n",
    "# for elem_view_name in lis1:\n",
    "#     if elem_view_name.__contains__(\"as\"):\n",
    "#         print(str(elem_view_name[0:elem_view_name.index(\"as\")-1])+\"_vw\")\n",
    "# lis1"
   ]
  }
 ],
 "metadata": {
  "interpreter": {
   "hash": "0012cd877e37c553ce082c8a53dbb8150686811a71a997c633aba52086b562f8"
  },
  "kernelspec": {
   "display_name": "Python 3.8.12 64-bit ('pyspark3': conda)",
   "language": "python",
   "name": "python3"
  },
  "language_info": {
   "codemirror_mode": {
    "name": "ipython",
    "version": 3
   },
   "file_extension": ".py",
   "mimetype": "text/x-python",
   "name": "python",
   "nbconvert_exporter": "python",
   "pygments_lexer": "ipython3",
   "version": "3.8.12"
  },
  "orig_nbformat": 4
 },
 "nbformat": 4,
 "nbformat_minor": 2
}
