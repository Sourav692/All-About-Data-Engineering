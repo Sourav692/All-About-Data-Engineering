{
 "cells": [
  {
   "cell_type": "markdown",
   "metadata": {},
   "source": [
    "1. https://www.geeksforgeeks.org/regular-expression-python-examples-set-1/?ref=lbp\n",
    "2. https://www.geeksforgeeks.org/regular-expressions-python-set-1-search-match-find/?ref=lbp\n",
    "3. https://www.geeksforgeeks.org/python-regex-cheat-sheet/\n",
    "4. https://www.geeksforgeeks.org/python-regex-re-search-vs-re-findall/?ref=lbp\n",
    "5. https://www.geeksforgeeks.org/verbose-in-python-regex/?ref=lbp\n",
    "6. https://www.geeksforgeeks.org/password-validation-in-python/?ref=lbp\n",
    "7. https://www.geeksforgeeks.org/python-programming-language/?ref=ghm\n",
    "8. https://docs.python.org/2/library/re.html\n",
    "9. https://developers.google.com/edu/python/regular-expressions  ******************\n",
    "10.https://www.datacamp.com/community/tutorials/python-regular-expression-tutorial  ****************"
   ]
  },
  {
   "cell_type": "markdown",
   "metadata": {},
   "source": [
    "1. https://towardsdatascience.com/a-very-easy-tutorial-to-learn-python-regular-expression-re-c42fbbc01ef2\n",
    "2. https://realpython.com/regex-python-part-2/\n",
    "4. https://www.learnx.org/dashboard/python/11/1\n",
    "5. https://medium.com/javarevisited/7-best-regular-expression-courses-for-developers-to-learn-in-2021-9b8cb37bb3a5\n",
    "6. https://stackoverflow.com/questions/20802056/python-regular-expression-1/20802242\n",
    "7. https://www.w3schools.com/python/python_regex.asp"
   ]
  },
  {
   "cell_type": "code",
   "execution_count": null,
   "metadata": {},
   "outputs": [],
   "source": []
  }
 ],
 "metadata": {
  "kernelspec": {
   "display_name": "Python 3",
   "language": "python",
   "name": "python3"
  },
  "language_info": {
   "codemirror_mode": {
    "name": "ipython",
    "version": 3
   },
   "file_extension": ".py",
   "mimetype": "text/x-python",
   "name": "python",
   "nbconvert_exporter": "python",
   "pygments_lexer": "ipython3",
   "version": "3.8.5"
  }
 },
 "nbformat": 4,
 "nbformat_minor": 4
}
