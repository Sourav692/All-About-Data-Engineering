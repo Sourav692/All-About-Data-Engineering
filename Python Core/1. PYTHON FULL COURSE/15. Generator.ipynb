{
 "cells": [
  {
   "cell_type": "raw",
   "metadata": {},
   "source": [
    "Iterators are objects that are regularly used with for loops. \n",
    "In other words, iterators are objects that implement the iteration protocol. \n",
    "A Python generator is a convenient way to implement an iterator. \n",
    "Instead of a class, a generator is a function which returns a value each time the yield keyword is used."
   ]
  },
  {
   "cell_type": "code",
   "execution_count": 87,
   "metadata": {},
   "outputs": [
    {
     "name": "stdout",
     "output_type": "stream",
     "text": [
      "1\n",
      "2\n",
      "3\n"
     ]
    }
   ],
   "source": [
    "def myRange(a,b):\n",
    "    while a<b:\n",
    "        yield a\n",
    "        a = a+1\n",
    "\n",
    "a = myRange(1,4)\n",
    "print(next(a))\n",
    "print(next(a))\n",
    "print(next(a))\n",
    "#print(next(a)) This will give StopIteration Error"
   ]
  },
  {
   "cell_type": "code",
   "execution_count": 19,
   "metadata": {},
   "outputs": [
    {
     "name": "stdout",
     "output_type": "stream",
     "text": [
      "1\n",
      "2\n",
      "3\n"
     ]
    }
   ],
   "source": [
    "def myRange(a,b):\n",
    "    while a<b:\n",
    "        yield a\n",
    "        a = a+1\n",
    "\n",
    "a = myRange(1,4)\n",
    "for elem in a:\n",
    "    print(elem)"
   ]
  },
  {
   "cell_type": "raw",
   "metadata": {},
   "source": [
    "Under the hood, generators behave similarly to iterators. As can be seen in the example below, uncommenting the line 8 should give an error:"
   ]
  },
  {
   "cell_type": "code",
   "execution_count": 25,
   "metadata": {},
   "outputs": [
    {
     "name": "stdout",
     "output_type": "stream",
     "text": [
      "1\n",
      "2\n"
     ]
    }
   ],
   "source": [
    "def myrange(a, b):\n",
    "    while a < b:\n",
    "        yield a\n",
    "        a += 1\n",
    "seq = myrange(1,3)\n",
    "print(next(seq))\n",
    "print(next(seq))\n",
    "# next(seq)"
   ]
  },
  {
   "cell_type": "raw",
   "metadata": {},
   "source": [
    "The interesting thing about generators is the yield keyword. The yield\n",
    "keyword works much like the return keyword, but—unlike return —it allows\n",
    "the function to eventually resume its execution. In other words, each time the\n",
    "next value of a generator is needed, Python wakes up the function and\n",
    "resumes its execution from the yield line as if the function had never exited."
   ]
  },
  {
   "cell_type": "code",
   "execution_count": 31,
   "metadata": {},
   "outputs": [
    {
     "name": "stdout",
     "output_type": "stream",
     "text": [
      "0\n",
      "1\n",
      "4\n",
      "9\n",
      "16\n"
     ]
    }
   ],
   "source": [
    "def squares(n):\n",
    "    for value in range(n):\n",
    "        yield value * value\n",
    "sqr = squares(8)\n",
    "\n",
    "print(next(sqr))\n",
    "print(next(sqr))\n",
    "print(next(sqr))\n",
    "print(next(sqr))\n",
    "print(next(sqr))"
   ]
  },
  {
   "cell_type": "code",
   "execution_count": 29,
   "metadata": {},
   "outputs": [
    {
     "name": "stdout",
     "output_type": "stream",
     "text": [
      "0\n",
      "1\n",
      "4\n",
      "9\n",
      "16\n",
      "25\n",
      "36\n",
      "49\n"
     ]
    }
   ],
   "source": [
    "def squares(n):\n",
    "    for value in range(n):\n",
    "        yield value * value\n",
    "sqr = squares(8)\n",
    "\n",
    "for elem in sqr:\n",
    "    print(elem)"
   ]
  },
  {
   "cell_type": "markdown",
   "metadata": {},
   "source": [
    "#### 1.Problem Statement:\n",
    "Create a generator to yield all the odd numbers from 1 to n .\n"
   ]
  },
  {
   "cell_type": "raw",
   "metadata": {},
   "source": [
    "Input #\n",
    "A number n\n",
    "Output #\n",
    "All odd numbers from 1 uptil n\n",
    "Sample Input #\n",
    "8\n",
    "Sample Output #\n",
    "1, 3, 5, 7"
   ]
  },
  {
   "cell_type": "code",
   "execution_count": 44,
   "metadata": {},
   "outputs": [
    {
     "name": "stdout",
     "output_type": "stream",
     "text": [
      "1\n",
      "3\n",
      "5\n",
      "7\n"
     ]
    }
   ],
   "source": [
    "def odd(n):\n",
    "    i = 1\n",
    "    while i < n:\n",
    "        if i%2 != 0:\n",
    "            yield i\n",
    "        i = i+1\n",
    "for elem in odd(8):\n",
    "    print(elem)"
   ]
  },
  {
   "cell_type": "code",
   "execution_count": 43,
   "metadata": {},
   "outputs": [
    {
     "name": "stdout",
     "output_type": "stream",
     "text": [
      "1\n",
      "3\n",
      "5\n",
      "7\n"
     ]
    }
   ],
   "source": [
    "def odd(n):\n",
    "    for value in range(n):\n",
    "        if value % 2 != 0:\n",
    "            yield value\n",
    "for elem in odd(8):\n",
    "    print(elem)"
   ]
  },
  {
   "cell_type": "markdown",
   "metadata": {},
   "source": [
    "#### 2.Problem Statement:\n",
    "Implement a generator reverse(n) that returns All numbers from n down to 0"
   ]
  },
  {
   "cell_type": "raw",
   "metadata": {},
   "source": [
    "Input #\n",
    "A number n\n",
    "Output #\n",
    "All numbers from n down to 0.\n",
    "Sample Input #\n",
    "8\n",
    "Sample Output #\n",
    "8, 7, 6, 5, 4, 3, 2, 1, 0"
   ]
  },
  {
   "cell_type": "code",
   "execution_count": 60,
   "metadata": {},
   "outputs": [
    {
     "name": "stdout",
     "output_type": "stream",
     "text": [
      "8\n",
      "7\n",
      "6\n",
      "5\n",
      "4\n",
      "3\n",
      "2\n",
      "1\n",
      "0\n"
     ]
    }
   ],
   "source": [
    "def reverse(n):\n",
    "    for elem in range(n,-1,-1):\n",
    "        yield elem\n",
    "\n",
    "for elem in reverse(8):\n",
    "    print(elem)"
   ]
  },
  {
   "cell_type": "markdown",
   "metadata": {},
   "source": [
    "#### 3.Problem Statement:\n",
    "Create a generator to return the Fibonacci sequence starting from the first element up to n ."
   ]
  },
  {
   "cell_type": "raw",
   "metadata": {},
   "source": [
    "Input #\n",
    "A number n\n",
    "Output #\n",
    "The range of fibonacci numbers from 0 to n\n",
    "Sample Input #\n",
    "8\n",
    "Sample Output #\n",
    "[0, 1, 1, 2, 3, 5, 8, 13]"
   ]
  },
  {
   "cell_type": "code",
   "execution_count": 73,
   "metadata": {},
   "outputs": [
    {
     "name": "stdout",
     "output_type": "stream",
     "text": [
      "0\n",
      "1\n",
      "1\n",
      "2\n",
      "3\n",
      "5\n",
      "8\n",
      "13\n"
     ]
    }
   ],
   "source": [
    "def fibonacci(n):\n",
    "    a,b = 0,1\n",
    "    for i in range(n):\n",
    "            yield a\n",
    "            a, b = b, a + b\n",
    "    i = i+1\n",
    "for elem in fibonacci(8):\n",
    "    print(elem)"
   ]
  },
  {
   "cell_type": "code",
   "execution_count": null,
   "metadata": {},
   "outputs": [],
   "source": []
  }
 ],
 "metadata": {
  "kernelspec": {
   "display_name": "Python 3",
   "language": "python",
   "name": "python3"
  },
  "language_info": {
   "codemirror_mode": {
    "name": "ipython",
    "version": 3
   },
   "file_extension": ".py",
   "mimetype": "text/x-python",
   "name": "python",
   "nbconvert_exporter": "python",
   "pygments_lexer": "ipython3",
   "version": "3.8.5"
  }
 },
 "nbformat": 4,
 "nbformat_minor": 4
}
