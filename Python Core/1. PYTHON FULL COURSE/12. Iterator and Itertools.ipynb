{
 "cells": [
  {
   "cell_type": "raw",
   "metadata": {},
   "source": [
    "An iterator is an object that contains a countable number of values.\n",
    "An iterator is an object that can be iterated upon, meaning that you can traverse through all the values.\n",
    "Technically, in Python, an iterator is an object which implements the iterator method, which consist of the methods __iter__() and __next__()."
   ]
  },
  {
   "cell_type": "markdown",
   "metadata": {},
   "source": [
    "## Iterator vs Iterable"
   ]
  },
  {
   "cell_type": "raw",
   "metadata": {},
   "source": [
    "List,tuple,set and dictionaries all are Iterable. They are iterable containers from which you can get an iterator.\n",
    "We can get Iterator from Iterable using method iter(). \n",
    "iterator = iter(iterable)"
   ]
  },
  {
   "cell_type": "code",
   "execution_count": 1,
   "metadata": {},
   "outputs": [
    {
     "name": "stdout",
     "output_type": "stream",
     "text": [
      "apple\n",
      "banana\n",
      "cherry\n"
     ]
    }
   ],
   "source": [
    "mytuple = (\"apple\", \"banana\", \"cherry\")\n",
    "myiter = iter(mytuple)\n",
    "\n",
    "print(myiter.__next__())\n",
    "print(myiter.__next__())\n",
    "print(myiter.__next__())\n"
   ]
  },
  {
   "cell_type": "code",
   "execution_count": 2,
   "metadata": {},
   "outputs": [
    {
     "name": "stdout",
     "output_type": "stream",
     "text": [
      "apple\n",
      "banana\n",
      "cherry\n"
     ]
    }
   ],
   "source": [
    "mytuple = (\"apple\", \"banana\", \"cherry\")\n",
    "myit = iter(mytuple)\n",
    "print(next(myit))\n",
    "print(next(myit))\n",
    "print(next(myit))"
   ]
  },
  {
   "cell_type": "markdown",
   "metadata": {},
   "source": [
    "Even strings are iterable objects, and can return an iterator:"
   ]
  },
  {
   "cell_type": "code",
   "execution_count": 3,
   "metadata": {},
   "outputs": [
    {
     "name": "stdout",
     "output_type": "stream",
     "text": [
      "b\n",
      "a\n",
      "n\n",
      "a\n",
      "n\n",
      "a\n"
     ]
    }
   ],
   "source": [
    "mystr = \"banana\"\n",
    "myit = iter(mystr)\n",
    "\n",
    "print(next(myit))\n",
    "print(next(myit))\n",
    "print(next(myit))\n",
    "print(next(myit))\n",
    "print(next(myit))\n",
    "print(next(myit))\n"
   ]
  },
  {
   "cell_type": "markdown",
   "metadata": {},
   "source": [
    "## Looping Through an Itrable"
   ]
  },
  {
   "cell_type": "code",
   "execution_count": 4,
   "metadata": {},
   "outputs": [
    {
     "name": "stdout",
     "output_type": "stream",
     "text": [
      "apple\n",
      "banana\n",
      "cherry\n"
     ]
    }
   ],
   "source": [
    "mytuple = (\"apple\", \"banana\", \"cherry\")\n",
    "\n",
    "for x in mytuple:\n",
    "  print(x)"
   ]
  },
  {
   "cell_type": "code",
   "execution_count": 5,
   "metadata": {},
   "outputs": [
    {
     "name": "stdout",
     "output_type": "stream",
     "text": [
      "b\n",
      "a\n",
      "n\n",
      "a\n",
      "n\n",
      "a\n"
     ]
    }
   ],
   "source": [
    "mystr = \"banana\"\n",
    "\n",
    "for x in mystr:\n",
    "  print(x)"
   ]
  },
  {
   "cell_type": "markdown",
   "metadata": {},
   "source": [
    "## Create an Iterator"
   ]
  },
  {
   "cell_type": "raw",
   "metadata": {},
   "source": [
    "To create an object/class as an iterator you have to implement the methods __iter__() and __next__() to your object.\n",
    "\n",
    "As you have learned in the Python Classes/Objects chapter, all classes have a function called __init__(), which allows you do some initializing when the object is being created.\n",
    "\n",
    "The __iter__() method acts similar, you can do operations (initializing etc.), but must always return the iterator object itself.\n",
    "\n",
    "The __next__() method also allows you to do operations, and must return the next item in the sequence."
   ]
  },
  {
   "cell_type": "markdown",
   "metadata": {},
   "source": [
    "Create an iterator that returns numbers, starting with 1, and each sequence will increase by one (returning 1,2,3,4,5 etc.):"
   ]
  },
  {
   "cell_type": "code",
   "execution_count": 6,
   "metadata": {},
   "outputs": [
    {
     "name": "stdout",
     "output_type": "stream",
     "text": [
      "1\n",
      "2\n",
      "3\n",
      "4\n",
      "5\n",
      "6\n",
      "7\n",
      "8\n",
      "9\n",
      "10\n",
      "11\n",
      "12\n",
      "13\n",
      "14\n",
      "15\n",
      "16\n",
      "17\n",
      "18\n",
      "19\n",
      "20\n"
     ]
    }
   ],
   "source": [
    "class MyNumbers:\n",
    "  def __iter__(self):\n",
    "    self.a = 1\n",
    "    return self\n",
    "\n",
    "  def __next__(self):\n",
    "    if self.a <= 20:\n",
    "      x = self.a\n",
    "      self.a += 1\n",
    "      return x\n",
    "    else:\n",
    "      raise StopIteration\n",
    "\n",
    "myclass = MyNumbers()\n",
    "myiter = iter(myclass)\n",
    "\n",
    "for x in myiter:\n",
    "  print(x)"
   ]
  },
  {
   "cell_type": "code",
   "execution_count": 7,
   "metadata": {},
   "outputs": [],
   "source": [
    "class Count:\n",
    "\n",
    "    \"\"\"Iterator that counts upward forever.\"\"\"\n",
    "\n",
    "    def __init__(self, start=0):\n",
    "        self.num = start\n",
    "\n",
    "    def __iter__(self):\n",
    "        return self\n",
    "\n",
    "    def __next__(self):\n",
    "        num = self.num\n",
    "        self.num += 1\n",
    "        return num"
   ]
  },
  {
   "cell_type": "raw",
   "metadata": {},
   "source": [
    "The iter function is supposed to return an iterator. So our __iter__ function must return an iterator. But our object is an iterator, so should return ourself. Therefore our Count object returns self from its __iter__ method because it is its own iterator."
   ]
  },
  {
   "cell_type": "raw",
   "metadata": {},
   "source": [
    "The next function is supposed to return the next item in our iterator or raise a StopIteration exception when there are no more items. We’re returning the current number and incrementing the number so it’ll be larger during the next __next__ call."
   ]
  },
  {
   "cell_type": "code",
   "execution_count": 8,
   "metadata": {},
   "outputs": [
    {
     "data": {
      "text/plain": [
       "0"
      ]
     },
     "execution_count": 8,
     "metadata": {},
     "output_type": "execute_result"
    }
   ],
   "source": [
    "c = Count()\n",
    "m = iter(c)\n",
    "next(m)"
   ]
  },
  {
   "cell_type": "code",
   "execution_count": 9,
   "metadata": {},
   "outputs": [
    {
     "data": {
      "text/plain": [
       "0"
      ]
     },
     "execution_count": 9,
     "metadata": {},
     "output_type": "execute_result"
    }
   ],
   "source": [
    "c = Count()\n",
    "next(c)"
   ]
  },
  {
   "cell_type": "markdown",
   "metadata": {},
   "source": [
    "## Create Interator which take List as argument"
   ]
  },
  {
   "cell_type": "code",
   "execution_count": 35,
   "metadata": {},
   "outputs": [
    {
     "name": "stdout",
     "output_type": "stream",
     "text": [
      "0\n",
      "23\n",
      "1\n",
      "45\n",
      "2\n",
      "67\n",
      "3\n",
      "89\n"
     ]
    }
   ],
   "source": [
    "class MyNumbers:\n",
    "    i=0\n",
    "    def __init__(self,lst):\n",
    "        self.a = lst[0]\n",
    "    def __iter__(self):\n",
    "        return self  \n",
    "    def __next__(self):\n",
    "        x = self.a\n",
    "        print(self.i)\n",
    "        self.a = lst[self.i+1]\n",
    "        self.i += 1\n",
    "        return x\n",
    "\n",
    "lst = [23,45,67,89,34]    \n",
    "c = MyNumbers(lst)\n",
    "myiter = iter(c)\n",
    "\n",
    "print(next(myiter))\n",
    "print(next(myiter))\n",
    "print(next(myiter))\n",
    "print(next(myiter))\n"
   ]
  },
  {
   "cell_type": "code",
   "execution_count": 29,
   "metadata": {},
   "outputs": [
    {
     "name": "stdout",
     "output_type": "stream",
     "text": [
      "23\n",
      "45\n",
      "67\n",
      "89\n"
     ]
    }
   ],
   "source": [
    "class MyNumbers:\n",
    "    i=0\n",
    "    def __init__(self,lst):\n",
    "        self.a = lst[0]\n",
    "    def __iter__(self):\n",
    "        return self  \n",
    "    def __next__(self):\n",
    "        x = self.a\n",
    "        self.a = lst[self.i+1]\n",
    "        self.i += 1\n",
    "        return x\n",
    "\n",
    "lst = [23,45,67,89,34]    \n",
    "c = MyNumbers(lst)\n",
    "\n",
    "\n",
    "print(next(c))\n",
    "print(next(c))\n",
    "print(next(c))\n",
    "print(next(c))"
   ]
  },
  {
   "cell_type": "markdown",
   "metadata": {},
   "source": [
    "## StopIteration"
   ]
  },
  {
   "cell_type": "raw",
   "metadata": {},
   "source": [
    "The example above would continue forever if you had enough next() statements, or if it was used in a for loop.\n",
    "To prevent the iteration to go on forever, we can use the StopIteration statement.\n",
    "In the __next__() method, we can add a terminating condition to raise an error if the iteration is done a specified number of times:"
   ]
  },
  {
   "cell_type": "code",
   "execution_count": 30,
   "metadata": {},
   "outputs": [
    {
     "name": "stdout",
     "output_type": "stream",
     "text": [
      "2\n",
      "4\n",
      "6\n",
      "8\n",
      "10\n",
      "12\n",
      "14\n",
      "16\n",
      "18\n",
      "20\n"
     ]
    }
   ],
   "source": [
    "class MyNumbers:\n",
    "  def __iter__(self):\n",
    "    self.a = 2\n",
    "    return self\n",
    "\n",
    "  def __next__(self):\n",
    "    if self.a <= 20:\n",
    "      x = self.a\n",
    "      self.a += 2\n",
    "      return x\n",
    "    else:\n",
    "      raise StopIteration\n",
    "\n",
    "myclass = MyNumbers()\n",
    "myiter = iter(myclass)\n",
    "\n",
    "for x in myiter:\n",
    "  print(x)"
   ]
  },
  {
   "cell_type": "code",
   "execution_count": 58,
   "metadata": {},
   "outputs": [
    {
     "name": "stdout",
     "output_type": "stream",
     "text": [
      "10\n",
      "11\n",
      "12\n",
      "13\n",
      "14\n",
      "15\n"
     ]
    }
   ],
   "source": [
    "# A simple Python program to demonstrate \n",
    "# working of iterators using an example type \n",
    "# that iterates from 10 to given value \n",
    "\n",
    "class Test():\n",
    "    x = 10\n",
    "    def __init__(self, limit): \n",
    "        self.limit = limit \n",
    "    def __iter__(self):\n",
    "        return self\n",
    "    def __next__(self):\n",
    "        x = self.x\n",
    "        if self.x > self.limit:\n",
    "            raise StopIteration \n",
    "        self.x = self.x + 1 \n",
    "        return x  \n",
    "        \n",
    "test = Test(15)\n",
    "myit_test = test.__iter__()\n",
    "\n",
    "for elem in myit_test:\n",
    "    print(elem)"
   ]
  },
  {
   "cell_type": "code",
   "execution_count": 33,
   "metadata": {},
   "outputs": [
    {
     "name": "stdout",
     "output_type": "stream",
     "text": [
      "10\n",
      "11\n",
      "12\n",
      "13\n",
      "14\n",
      "15\n"
     ]
    }
   ],
   "source": [
    "class Test1():\n",
    "    x = 10\n",
    "    def __init__(self, limit): \n",
    "        self.limit = limit \n",
    "    def __iter__(self):\n",
    "        return self\n",
    "    def __next__(self):\n",
    "        x = self.x\n",
    "        if self.x > self.limit:\n",
    "            raise StopIteration \n",
    "        self.x = self.x + 1 \n",
    "        return x  \n",
    "        \n",
    "test = Test1(15)\n",
    "myit_test = test.__iter__()\n",
    "\n",
    "print(next(myit_test))\n",
    "print(next(myit_test))\n",
    "print(next(myit_test))\n",
    "print(next(myit_test))\n",
    "print(next(myit_test))\n",
    "print(next(myit_test))\n"
   ]
  },
  {
   "cell_type": "markdown",
   "metadata": {},
   "source": [
    "## Itertools "
   ]
  },
  {
   "cell_type": "markdown",
   "metadata": {},
   "source": [
    "Python in its definition also allows some interesting and useful iterator functions for efficient looping and making execution of the code faster. There are many build-in iterators in the module “itertools“."
   ]
  },
  {
   "cell_type": "markdown",
   "metadata": {},
   "source": [
    "#### accumulate(iter, func)\n",
    "This iterator takes two arguments, iterable target and the function which would be followed at each iteration of value in target. If no function is passed, addition takes place by default.If the input iterable is empty, the output iterable will also be empty."
   ]
  },
  {
   "cell_type": "code",
   "execution_count": 65,
   "metadata": {},
   "outputs": [],
   "source": [
    "import itertools \n",
    "import operator\n",
    "li1 = [1, 4, 5, 7] \n",
    "li2 = [1, 6, 5, 9] \n",
    "li3 = [8, 10, 5, 4] "
   ]
  },
  {
   "cell_type": "code",
   "execution_count": 67,
   "metadata": {},
   "outputs": [
    {
     "data": {
      "text/plain": [
       "[1, 5, 10, 17]"
      ]
     },
     "execution_count": 67,
     "metadata": {},
     "output_type": "execute_result"
    }
   ],
   "source": [
    "list(itertools.accumulate(li1))"
   ]
  },
  {
   "cell_type": "code",
   "execution_count": 68,
   "metadata": {},
   "outputs": [
    {
     "data": {
      "text/plain": [
       "[1, 6, 30, 270]"
      ]
     },
     "execution_count": 68,
     "metadata": {},
     "output_type": "execute_result"
    }
   ],
   "source": [
    "list(itertools.accumulate(li2,operator.mul))"
   ]
  },
  {
   "cell_type": "markdown",
   "metadata": {},
   "source": [
    "#### chain(iter1, iter2..) \n",
    "This function is used to print all the values in iterable targets one after another mentioned in its arguments."
   ]
  },
  {
   "cell_type": "code",
   "execution_count": 70,
   "metadata": {},
   "outputs": [
    {
     "data": {
      "text/plain": [
       "[1, 4, 5, 7, 1, 6, 5, 9, 8, 10, 5, 4]"
      ]
     },
     "execution_count": 70,
     "metadata": {},
     "output_type": "execute_result"
    }
   ],
   "source": [
    "list(itertools.chain(li1,li2,li3))"
   ]
  },
  {
   "cell_type": "code",
   "execution_count": 73,
   "metadata": {},
   "outputs": [
    {
     "data": {
      "text/plain": [
       "[1, 4, 5, 7, 1, 6, 5, 9, 8, 10, 5, 4]"
      ]
     },
     "execution_count": 73,
     "metadata": {},
     "output_type": "execute_result"
    }
   ],
   "source": [
    "li4 = [[1, 4, 5, 7],[1, 6, 5, 9],[8, 10, 5, 4]] #Unpack sublist in a list\n",
    "list(itertools.chain(*li4))"
   ]
  },
  {
   "cell_type": "markdown",
   "metadata": {},
   "source": [
    "#### chain.from_iterable() \n",
    "This function is implemented similarly as chain() but the argument here is a list of lists or any other iterable container."
   ]
  },
  {
   "cell_type": "code",
   "execution_count": 74,
   "metadata": {},
   "outputs": [
    {
     "name": "stdout",
     "output_type": "stream",
     "text": [
      "[[1, 4, 5, 7], [1, 6, 5, 9], [8, 10, 5, 4]]\n"
     ]
    }
   ],
   "source": [
    "import itertools \n",
    "  \n",
    "# initializing list 1 \n",
    "li1 = [1, 4, 5, 7] \n",
    "  \n",
    "# initializing list 2 \n",
    "li2 = [1, 6, 5, 9] \n",
    "  \n",
    "# initializing list 3 \n",
    "li3 = [8, 10, 5, 4] \n",
    "  \n",
    "# intializing list of list \n",
    "li4 = [li1, li2, li3] \n",
    "\n",
    "print(li4)"
   ]
  },
  {
   "cell_type": "code",
   "execution_count": 75,
   "metadata": {},
   "outputs": [
    {
     "name": "stdout",
     "output_type": "stream",
     "text": [
      "[1, 4, 5, 7, 1, 6, 5, 9, 8, 10, 5, 4]\n"
     ]
    }
   ],
   "source": [
    "print (list(itertools.chain.from_iterable(li4))) "
   ]
  },
  {
   "cell_type": "markdown",
   "metadata": {},
   "source": [
    "#### dropwhile(func, seq)\n",
    "It keeps removing the values until the function return false for 1st time."
   ]
  },
  {
   "cell_type": "code",
   "execution_count": 76,
   "metadata": {},
   "outputs": [
    {
     "name": "stdout",
     "output_type": "stream",
     "text": [
      "[5, 7, 8]\n"
     ]
    }
   ],
   "source": [
    "# Python code to demonstrate the working of  \n",
    "# dropwhile() and filterfalse() \n",
    "  \n",
    "# importing \"itertools\" for iterator operations \n",
    "import itertools \n",
    "  \n",
    "# initializing list  \n",
    "li = [2, 4, 5, 7, 8] \n",
    "\n",
    "print (list(itertools.dropwhile(lambda x : x%2==0,li)))"
   ]
  },
  {
   "cell_type": "markdown",
   "metadata": {},
   "source": [
    "#### takewhile(func, iterable) \n",
    "It keeps print or take the values until the function return false for 1st time."
   ]
  },
  {
   "cell_type": "code",
   "execution_count": 78,
   "metadata": {},
   "outputs": [
    {
     "name": "stdout",
     "output_type": "stream",
     "text": [
      "[2, 4]\n"
     ]
    }
   ],
   "source": [
    "print (list(itertools.takewhile(lambda x : x%2==0,li)))"
   ]
  },
  {
   "cell_type": "markdown",
   "metadata": {},
   "source": [
    "#### filterfalse(func, seq) \n",
    "As the name suggests, this iterator prints only values that return false for the passed function."
   ]
  },
  {
   "cell_type": "code",
   "execution_count": 79,
   "metadata": {},
   "outputs": [
    {
     "name": "stdout",
     "output_type": "stream",
     "text": [
      "[5, 7]\n"
     ]
    }
   ],
   "source": [
    "print (list(itertools.filterfalse(lambda x : x%2==0,li))) "
   ]
  },
  {
   "cell_type": "markdown",
   "metadata": {},
   "source": [
    "#### islice(iterable, start, stop, step) \n",
    "This iterator selectively prints the values mentioned in its iterable container passed as argument. This iterator takes 4 arguments, iterable container, starting pos., ending position and step."
   ]
  },
  {
   "cell_type": "code",
   "execution_count": 81,
   "metadata": {},
   "outputs": [
    {
     "name": "stdout",
     "output_type": "stream",
     "text": [
      "[4, 7, 10]\n"
     ]
    }
   ],
   "source": [
    "li = [2, 4, 5, 7, 8, 10, 20] \n",
    "print (list(itertools.islice(li,1, 6, 2))) "
   ]
  },
  {
   "cell_type": "markdown",
   "metadata": {},
   "source": [
    "#### starmap(func., tuple list)\n",
    "This iterator takes a function and tuple list as argument and returns the value according to the function from each tuple of list."
   ]
  },
  {
   "cell_type": "code",
   "execution_count": 82,
   "metadata": {},
   "outputs": [
    {
     "name": "stdout",
     "output_type": "stream",
     "text": [
      "[1, 1, 4, 1]\n"
     ]
    }
   ],
   "source": [
    "li1 = [ (1, 10, 5), (8, 4, 1), (5, 4, 9), (11, 10 , 1) ] \n",
    "print (list(itertools.starmap(min,li1))) "
   ]
  },
  {
   "cell_type": "markdown",
   "metadata": {},
   "source": [
    "#### tee(iterator, count) \n",
    "This iterator splits the container into a number of iterators mentioned in the argument."
   ]
  },
  {
   "cell_type": "code",
   "execution_count": 86,
   "metadata": {},
   "outputs": [
    {
     "name": "stdout",
     "output_type": "stream",
     "text": [
      "[2, 4, 6, 7, 8, 10, 20]\n",
      "[2, 4, 6, 7, 8, 10, 20]\n",
      "[2, 4, 6, 7, 8, 10, 20]\n"
     ]
    }
   ],
   "source": [
    "li = [2, 4, 6, 7, 8, 10, 20] \n",
    "iti = iter(li) \n",
    "it = itertools.tee(iti, 3) \n",
    "list(it)\n",
    "for i in range (0,3): \n",
    "    print (list(it[i])) "
   ]
  },
  {
   "cell_type": "markdown",
   "metadata": {},
   "source": [
    "#### zip_longest( iterable1, iterable2, fillval.)\n",
    "This iterator prints the values of iterables alternatively in sequence. If one of the iterables is printed fully, remaining values are filled by the values assigned to fillvalue."
   ]
  },
  {
   "cell_type": "code",
   "execution_count": 87,
   "metadata": {},
   "outputs": [
    {
     "name": "stdout",
     "output_type": "stream",
     "text": [
      "('G', 'e') ('e', 'k') ('s', 'f') ('o', 'r') ('G', 'e') ('e', 'k') ('s', '_')\n"
     ]
    }
   ],
   "source": [
    "import itertools \n",
    "print (*(itertools.zip_longest('GesoGes','ekfrek',fillvalue='_' ))) "
   ]
  },
  {
   "cell_type": "markdown",
   "metadata": {},
   "source": [
    "### Combinatoric Iterators"
   ]
  },
  {
   "cell_type": "markdown",
   "metadata": {},
   "source": [
    "#### product(iter1, iter2)\n",
    "This iterator prints the cartesian product of the two iterable containers passed as arguments."
   ]
  },
  {
   "cell_type": "code",
   "execution_count": 88,
   "metadata": {},
   "outputs": [
    {
     "name": "stdout",
     "output_type": "stream",
     "text": [
      "[('A', '1'), ('A', '2'), ('B', '1'), ('B', '2')]\n"
     ]
    }
   ],
   "source": [
    "import itertools\n",
    "print (list(itertools.product('AB','12'))) "
   ]
  },
  {
   "cell_type": "markdown",
   "metadata": {},
   "source": [
    "#### permutations(iter, group_size) \n",
    "This iterator prints all possible permutation of all elements of iterable. The size of each permuted group is decided by group_size argument."
   ]
  },
  {
   "cell_type": "code",
   "execution_count": 89,
   "metadata": {},
   "outputs": [
    {
     "name": "stdout",
     "output_type": "stream",
     "text": [
      "[('G', 'f'), ('G', 'G'), ('f', 'G'), ('f', 'G'), ('G', 'G'), ('G', 'f')]\n"
     ]
    }
   ],
   "source": [
    "print (list(itertools.permutations('GfG',2))) "
   ]
  },
  {
   "cell_type": "code",
   "execution_count": 90,
   "metadata": {},
   "outputs": [
    {
     "name": "stdout",
     "output_type": "stream",
     "text": [
      "[('G', 'f', 'G'), ('G', 'G', 'f'), ('f', 'G', 'G'), ('f', 'G', 'G'), ('G', 'G', 'f'), ('G', 'f', 'G')]\n"
     ]
    }
   ],
   "source": [
    "print (list(itertools.permutations('GfG',3))) "
   ]
  },
  {
   "cell_type": "markdown",
   "metadata": {},
   "source": [
    "#### combinations(iterable, group_size)\n",
    "This iterator prints all the possible combinations(without replacement) of the container passed in arguments in the specified group size in sorted order."
   ]
  },
  {
   "cell_type": "code",
   "execution_count": 91,
   "metadata": {},
   "outputs": [
    {
     "name": "stdout",
     "output_type": "stream",
     "text": [
      "[('1', '2'), ('1', '3'), ('1', '4'), ('2', '3'), ('2', '4'), ('3', '4')]\n"
     ]
    }
   ],
   "source": [
    "print (list(itertools.combinations('1234',2))) "
   ]
  },
  {
   "cell_type": "markdown",
   "metadata": {},
   "source": [
    "#### combinations_with_replacement(iterable, group_size)\n",
    "This iterator prints all the possible combinations(with replacement) of the container passed in arguments in the specified group size in sorted order."
   ]
  },
  {
   "cell_type": "code",
   "execution_count": 92,
   "metadata": {},
   "outputs": [
    {
     "name": "stdout",
     "output_type": "stream",
     "text": [
      "[('G', 'G'), ('G', 'f'), ('G', 'G'), ('f', 'f'), ('f', 'G'), ('G', 'G')]\n"
     ]
    }
   ],
   "source": [
    "print (list(itertools.combinations_with_replacement('GfG',2))) "
   ]
  },
  {
   "cell_type": "markdown",
   "metadata": {},
   "source": [
    "### Infinite Iterators"
   ]
  },
  {
   "cell_type": "markdown",
   "metadata": {},
   "source": [
    "#### count(start, step) \n",
    "This iterator starts printing from the “start” number and prints infinitely. If steps are mentioned, the numbers are skipped else step is 1 by default."
   ]
  },
  {
   "cell_type": "markdown",
   "metadata": {},
   "source": [
    "#### cycle(iterable) \n",
    "This iterator prints all values in order from the passed container. It restarts printing from beginning again when all elements are printed in a cyclic manner."
   ]
  },
  {
   "cell_type": "markdown",
   "metadata": {},
   "source": [
    "#### repeat(val, num) \n",
    "This iterator repeatedly prints the passed value infinite number of times. If num. is mentioned, them till that number."
   ]
  },
  {
   "cell_type": "markdown",
   "metadata": {},
   "source": [
    "Function ‘iterable’ will return True, if the object ‘obj’ is an iterable and False otherwise."
   ]
  },
  {
   "cell_type": "code",
   "execution_count": 93,
   "metadata": {},
   "outputs": [
    {
     "name": "stdout",
     "output_type": "stream",
     "text": [
      "34  is iterable :  False\n",
      "[4, 5]  is iterable :  True\n",
      "(4, 5)  is iterable :  True\n",
      "{'a': 4}  is iterable :  True\n",
      "dfsdf  is iterable :  True\n",
      "4.5  is iterable :  False\n"
     ]
    }
   ],
   "source": [
    "def iterable(obj): \n",
    "    try: \n",
    "        iter(obj) \n",
    "        return True\n",
    "          \n",
    "    except TypeError: \n",
    "        return False\n",
    "  \n",
    "# Driver Code      \n",
    "for element in [34, [4, 5], (4, 5), \n",
    "             {\"a\":4}, \"dfsdf\", 4.5]: \n",
    "                   \n",
    "    print(element, \" is iterable : \", iterable(element)) \n"
   ]
  }
 ],
 "metadata": {
  "kernelspec": {
   "display_name": "Python 3",
   "language": "python",
   "name": "python3"
  },
  "language_info": {
   "codemirror_mode": {
    "name": "ipython",
    "version": 3
   },
   "file_extension": ".py",
   "mimetype": "text/x-python",
   "name": "python",
   "nbconvert_exporter": "python",
   "pygments_lexer": "ipython3",
   "version": "3.8.5"
  }
 },
 "nbformat": 4,
 "nbformat_minor": 4
}
