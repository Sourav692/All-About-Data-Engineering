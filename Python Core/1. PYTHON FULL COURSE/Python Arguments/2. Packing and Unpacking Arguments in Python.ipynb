{
 "cells": [
  {
   "cell_type": "markdown",
   "metadata": {},
   "source": [
    "We use two operators * (for tuples) and ** (for dictionaries).\n",
    " \n",
    "\n",
    "Background \n",
    "\n",
    "    Consider a situation where we have a function that receives four arguments. We want to make a call to this function and we have a list of size 4 with us that has all arguments for the function. If we simply pass a list to the function, the call doesn’t work. "
   ]
  },
  {
   "cell_type": "code",
   "execution_count": 1,
   "metadata": {},
   "outputs": [
    {
     "ename": "TypeError",
     "evalue": "fun() missing 3 required positional arguments: 'b', 'c', and 'd'",
     "output_type": "error",
     "traceback": [
      "\u001b[1;31m---------------------------------------------------------------------------\u001b[0m",
      "\u001b[1;31mTypeError\u001b[0m                                 Traceback (most recent call last)",
      "\u001b[1;32mC:\\Users\\SOURAV~1\\AppData\\Local\\Temp/ipykernel_33428/394698262.py\u001b[0m in \u001b[0;36m<module>\u001b[1;34m\u001b[0m\n\u001b[0;32m     11\u001b[0m \u001b[1;33m\u001b[0m\u001b[0m\n\u001b[0;32m     12\u001b[0m \u001b[1;31m# This doesn't work\u001b[0m\u001b[1;33m\u001b[0m\u001b[1;33m\u001b[0m\u001b[1;33m\u001b[0m\u001b[0m\n\u001b[1;32m---> 13\u001b[1;33m \u001b[0mfun\u001b[0m\u001b[1;33m(\u001b[0m\u001b[0mmy_list\u001b[0m\u001b[1;33m)\u001b[0m\u001b[1;33m\u001b[0m\u001b[1;33m\u001b[0m\u001b[0m\n\u001b[0m",
      "\u001b[1;31mTypeError\u001b[0m: fun() missing 3 required positional arguments: 'b', 'c', and 'd'"
     ]
    }
   ],
   "source": [
    "# A Python program to demonstrate need\n",
    "# of packing and unpacking\n",
    " \n",
    "# A sample function that takes 4 arguments\n",
    "# and prints them.\n",
    "def fun(a, b, c, d):\n",
    "    print(a, b, c, d)\n",
    " \n",
    "# Driver Code\n",
    "my_list = [1, 2, 3, 4]\n",
    " \n",
    "# This doesn't work\n",
    "fun(my_list)"
   ]
  },
  {
   "cell_type": "code",
   "execution_count": 2,
   "metadata": {},
   "outputs": [
    {
     "name": "stdout",
     "output_type": "stream",
     "text": [
      "1 2 3 4\n"
     ]
    }
   ],
   "source": [
    "## To make this work we have to provide * operator.\n",
    "fun(*my_list)"
   ]
  },
  {
   "cell_type": "code",
   "execution_count": 3,
   "metadata": {},
   "outputs": [
    {
     "ename": "TypeError",
     "evalue": "func() takes 3 positional arguments but 4 were given",
     "output_type": "error",
     "traceback": [
      "\u001b[1;31m---------------------------------------------------------------------------\u001b[0m",
      "\u001b[1;31mTypeError\u001b[0m                                 Traceback (most recent call last)",
      "\u001b[1;32mC:\\Users\\SOURAV~1\\AppData\\Local\\Temp/ipykernel_33428/3712191154.py\u001b[0m in \u001b[0;36m<module>\u001b[1;34m\u001b[0m\n\u001b[0;32m     10\u001b[0m \u001b[1;33m\u001b[0m\u001b[0m\n\u001b[0;32m     11\u001b[0m \u001b[1;31m# calling function with unpacking args\u001b[0m\u001b[1;33m\u001b[0m\u001b[1;33m\u001b[0m\u001b[1;33m\u001b[0m\u001b[0m\n\u001b[1;32m---> 12\u001b[1;33m \u001b[0mfunc\u001b[0m\u001b[1;33m(\u001b[0m\u001b[1;33m*\u001b[0m\u001b[0margs\u001b[0m\u001b[1;33m)\u001b[0m\u001b[1;33m\u001b[0m\u001b[1;33m\u001b[0m\u001b[0m\n\u001b[0m",
      "\u001b[1;31mTypeError\u001b[0m: func() takes 3 positional arguments but 4 were given"
     ]
    }
   ],
   "source": [
    "\n",
    "# Error when len(args) != no of actual arguments\n",
    "# required by the function\n",
    " \n",
    "args = [0, 1, 4, 9]\n",
    " \n",
    " \n",
    "def func(a, b, c):\n",
    "    return a + b + c\n",
    " \n",
    " \n",
    "# calling function with unpacking args\n",
    "func(*args)"
   ]
  },
  {
   "cell_type": "markdown",
   "metadata": {},
   "source": [
    "As another example, consider the built-in range() function that expects separate start and stops arguments. If they are not available separately, write the function call with the *-operator to unpack the arguments out of a list or tuple: "
   ]
  },
  {
   "cell_type": "code",
   "execution_count": 6,
   "metadata": {},
   "outputs": [
    {
     "name": "stdout",
     "output_type": "stream",
     "text": [
      "1\n",
      "2\n",
      "3\n",
      "4\n",
      "5\n"
     ]
    }
   ],
   "source": [
    "for i in range(1,6):\n",
    "    print(i)"
   ]
  },
  {
   "cell_type": "code",
   "execution_count": 34,
   "metadata": {},
   "outputs": [
    {
     "ename": "TypeError",
     "evalue": "'list' object cannot be interpreted as an integer",
     "output_type": "error",
     "traceback": [
      "\u001b[1;31m---------------------------------------------------------------------------\u001b[0m",
      "\u001b[1;31mTypeError\u001b[0m                                 Traceback (most recent call last)",
      "\u001b[1;32mC:\\Users\\SOURAV~1\\AppData\\Local\\Temp/ipykernel_33428/1664450200.py\u001b[0m in \u001b[0;36m<module>\u001b[1;34m\u001b[0m\n\u001b[0;32m      1\u001b[0m \u001b[1;31m## Now if we provide list in range then this would not work.\u001b[0m\u001b[1;33m\u001b[0m\u001b[1;33m\u001b[0m\u001b[1;33m\u001b[0m\u001b[0m\n\u001b[0;32m      2\u001b[0m \u001b[0mlist4\u001b[0m \u001b[1;33m=\u001b[0m \u001b[1;33m[\u001b[0m\u001b[1;36m1\u001b[0m\u001b[1;33m,\u001b[0m\u001b[1;36m6\u001b[0m\u001b[1;33m]\u001b[0m\u001b[1;33m\u001b[0m\u001b[1;33m\u001b[0m\u001b[0m\n\u001b[1;32m----> 3\u001b[1;33m \u001b[1;32mfor\u001b[0m \u001b[0mi\u001b[0m \u001b[1;32min\u001b[0m \u001b[0mrange\u001b[0m\u001b[1;33m(\u001b[0m\u001b[0mlist4\u001b[0m\u001b[1;33m)\u001b[0m\u001b[1;33m:\u001b[0m\u001b[1;33m\u001b[0m\u001b[1;33m\u001b[0m\u001b[0m\n\u001b[0m\u001b[0;32m      4\u001b[0m     \u001b[0mprint\u001b[0m\u001b[1;33m(\u001b[0m\u001b[0mi\u001b[0m\u001b[1;33m)\u001b[0m\u001b[1;33m\u001b[0m\u001b[1;33m\u001b[0m\u001b[0m\n",
      "\u001b[1;31mTypeError\u001b[0m: 'list' object cannot be interpreted as an integer"
     ]
    }
   ],
   "source": [
    "## Now if we provide list in range then this would not work.\n",
    "list4 = [1,6]\n",
    "for i in range(list4):\n",
    "    print(i)"
   ]
  },
  {
   "cell_type": "code",
   "execution_count": 8,
   "metadata": {},
   "outputs": [
    {
     "name": "stdout",
     "output_type": "stream",
     "text": [
      "1\n",
      "2\n",
      "3\n",
      "4\n",
      "5\n"
     ]
    }
   ],
   "source": [
    "## TO make this work we have to use * to unpack.\n",
    "for i in range(*list):\n",
    "    print(i)"
   ]
  },
  {
   "cell_type": "code",
   "execution_count": 10,
   "metadata": {},
   "outputs": [
    {
     "name": "stdout",
     "output_type": "stream",
     "text": [
      "[1, 2, 3, 4]\n",
      "1 2 3 4\n"
     ]
    }
   ],
   "source": [
    "list1 =[1,2,3,4]\n",
    "print(list1)\n",
    "print(*list1)"
   ]
  },
  {
   "cell_type": "code",
   "execution_count": 15,
   "metadata": {},
   "outputs": [
    {
     "name": "stdout",
     "output_type": "stream",
     "text": [
      "<class 'tuple'>\n"
     ]
    }
   ],
   "source": [
    "tup = 1,2,3,4\n",
    "print(type(tup))"
   ]
  },
  {
   "cell_type": "code",
   "execution_count": 18,
   "metadata": {},
   "outputs": [
    {
     "name": "stdout",
     "output_type": "stream",
     "text": [
      "1 2 3 4\n"
     ]
    }
   ],
   "source": [
    "print(*tup)"
   ]
  },
  {
   "cell_type": "markdown",
   "metadata": {},
   "source": [
    "Packing \n",
    "\n",
    "    When we don’t know how many arguments need to be passed to a python function, we can use Packing to pack all arguments in a tuple. "
   ]
  },
  {
   "cell_type": "code",
   "execution_count": 21,
   "metadata": {},
   "outputs": [
    {
     "name": "stdout",
     "output_type": "stream",
     "text": [
      "15\n",
      "30\n"
     ]
    }
   ],
   "source": [
    "# A Python program to demonstrate use\n",
    "# of packing\n",
    " \n",
    "# This function uses packing to sum\n",
    "# unknown number of arguments\n",
    "def mySum(*args):\n",
    "    return sum(args)\n",
    " \n",
    "# Driver code\n",
    "print(mySum(1, 2, 3, 4, 5))\n",
    "print(mySum(10, 20))"
   ]
  },
  {
   "cell_type": "code",
   "execution_count": 23,
   "metadata": {},
   "outputs": [
    {
     "name": "stdout",
     "output_type": "stream",
     "text": [
      "1 2 3 4\n"
     ]
    }
   ],
   "source": [
    "lis2 = [1,2,3,4]\n",
    "print(*lis2)"
   ]
  },
  {
   "cell_type": "code",
   "execution_count": 40,
   "metadata": {},
   "outputs": [
    {
     "name": "stdout",
     "output_type": "stream",
     "text": [
      "Geeksforgeeks awesome world!\n"
     ]
    }
   ],
   "source": [
    "# A Python program to demonstrate both packing and\n",
    "# unpacking.\n",
    " \n",
    "# A sample python function that takes three arguments\n",
    "# and prints them\n",
    "def fun1(a, b, c):\n",
    "    print(a, b, c)\n",
    " \n",
    "# Another sample function.\n",
    "# This is an example of PACKING. All arguments passed\n",
    "# to fun2 are packed into tuple *args.\n",
    "def fun2(*args):\n",
    " \n",
    "    # Convert args tuple to a list so we can modify it\n",
    "    args = list(args)\n",
    " \n",
    "    # Modifying args\n",
    "    args[0] = 'Geeksforgeeks'\n",
    "    args[1] = 'awesome'\n",
    " \n",
    "    # UNPACKING args and calling fun1()\n",
    "    fun1(*args)\n",
    " \n",
    "# Driver code\n",
    "fun2('Hello', 'beautiful', 'world!')"
   ]
  },
  {
   "cell_type": "code",
   "execution_count": 39,
   "metadata": {},
   "outputs": [],
   "source": [
    "tup1 = (1,2,3)\n",
    "lis1 = list(tup1)"
   ]
  },
  {
   "cell_type": "code",
   "execution_count": 38,
   "metadata": {},
   "outputs": [
    {
     "name": "stdout",
     "output_type": "stream",
     "text": [
      "<class 'list'>\n",
      "[67, 28, 41, 37]\n"
     ]
    }
   ],
   "source": [
    "#initialize tuple\n",
    "aTuple = (67, 28, 41, 37)\n",
    " \n",
    "#tuple to list\n",
    "aList = list(aTuple)\n",
    " \n",
    "#print list\n",
    "print(type(aList))\n",
    "print(aList)"
   ]
  },
  {
   "cell_type": "code",
   "execution_count": 37,
   "metadata": {},
   "outputs": [],
   "source": []
  },
  {
   "cell_type": "markdown",
   "metadata": {},
   "source": [
    "** is used for dictionaries \n"
   ]
  },
  {
   "cell_type": "code",
   "execution_count": 41,
   "metadata": {},
   "outputs": [
    {
     "name": "stdout",
     "output_type": "stream",
     "text": [
      "2 4 10\n"
     ]
    }
   ],
   "source": [
    "def fun(a, b, c):\n",
    "    print(a, b, c)\n",
    " \n",
    "# A call with unpacking of dictionary\n",
    "d = {'a':2, 'b':4, 'c':10}\n",
    "fun(**d)"
   ]
  },
  {
   "cell_type": "markdown",
   "metadata": {},
   "source": [
    "Here ** unpacked the dictionary used with it, and passed the items in the dictionary as keyword arguments to the function. So writing “fun(1, **d)” was equivalent to writing “fun(1, b=4, c=10)”."
   ]
  },
  {
   "cell_type": "code",
   "execution_count": 42,
   "metadata": {},
   "outputs": [
    {
     "name": "stdout",
     "output_type": "stream",
     "text": [
      "<class 'dict'>\n",
      "name = geeks\n",
      "ID = 101\n",
      "language = Python\n"
     ]
    }
   ],
   "source": [
    "def fun(**kwargs):\n",
    " \n",
    "    # kwargs is a dict\n",
    "    print(type(kwargs))\n",
    " \n",
    "    # Printing dictionary items\n",
    "    for key in kwargs:\n",
    "        print(\"%s = %s\" % (key, kwargs[key]))\n",
    " \n",
    "# Driver code\n",
    "fun(name=\"geeks\", ID=\"101\", language=\"Python\")"
   ]
  },
  {
   "cell_type": "markdown",
   "metadata": {},
   "source": [
    "Applications and Important Points \n",
    "\n",
    "    Used in socket programming to send a vast number of requests to a server.\n",
    "    Used in the Django framework to send variable arguments to view functions.\n",
    "    There are wrapper functions that require us to pass in variable arguments.\n",
    "    Modification of arguments becomes easy, but at the same time validation is not proper, so they must be used with care."
   ]
  },
  {
   "cell_type": "code",
   "execution_count": null,
   "metadata": {},
   "outputs": [],
   "source": []
  }
 ],
 "metadata": {
  "interpreter": {
   "hash": "0012cd877e37c553ce082c8a53dbb8150686811a71a997c633aba52086b562f8"
  },
  "kernelspec": {
   "display_name": "Python 3.8.12 ('pyspark3')",
   "language": "python",
   "name": "python3"
  },
  "language_info": {
   "codemirror_mode": {
    "name": "ipython",
    "version": 3
   },
   "file_extension": ".py",
   "mimetype": "text/x-python",
   "name": "python",
   "nbconvert_exporter": "python",
   "pygments_lexer": "ipython3",
   "version": "3.8.12"
  },
  "orig_nbformat": 4
 },
 "nbformat": 4,
 "nbformat_minor": 2
}
