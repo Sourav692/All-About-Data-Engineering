{
 "cells": [
  {
   "cell_type": "raw",
   "metadata": {},
   "source": [
    "In Python, anonymous function means that a function is without a name. As we already know that def keyword is used to define the normal functions and the lambda keyword is used to create anonymous functions. It has the following syntax:\n",
    "\n",
    "Syntax\n",
    "\n",
    "lambda arguments : expression\n",
    "This function can have any number of arguments but only one expression, which is evaluated and returned.\n",
    "One is free to use lambda functions wherever function objects are required.\n",
    "You need to keep in your knowledge that lambda functions are syntactically restricted to a single expression.\n",
    "It has various uses in particular fields of programming besides other types of expressions in functions."
   ]
  },
  {
   "cell_type": "code",
   "execution_count": 6,
   "metadata": {},
   "outputs": [
    {
     "name": "stdout",
     "output_type": "stream",
     "text": [
      "GeeksforGeeks\n"
     ]
    }
   ],
   "source": [
    "# Python program to demonstrate\n",
    "# lambda functions\n",
    "\n",
    "\n",
    "string =\"GeeksforGeeks\"\n",
    "\n",
    "# lambda gets pass to print\n",
    "a = lambda x : print(x)\n",
    "a(string)\n"
   ]
  },
  {
   "cell_type": "code",
   "execution_count": 7,
   "metadata": {},
   "outputs": [
    {
     "name": "stdout",
     "output_type": "stream",
     "text": [
      "343\n",
      "125\n"
     ]
    }
   ],
   "source": [
    "# Python program to illustrate cube of a number\n",
    "# showing difference between def() and lambda().\n",
    "\n",
    "\n",
    "def cube(y):\n",
    "\treturn y*y*y;\n",
    "\t\n",
    "g = lambda x: x*x*x\n",
    "print(g(7))\n",
    "\t\n",
    "print(cube(5))\n"
   ]
  },
  {
   "cell_type": "code",
   "execution_count": 8,
   "metadata": {},
   "outputs": [
    {
     "name": "stdout",
     "output_type": "stream",
     "text": [
      "Now power is set to 2\n",
      "8 powerof 2 =  64\n",
      "Now power is set to 5\n",
      "8 powerof 5 =  32768\n"
     ]
    }
   ],
   "source": [
    "# Python program to demonstrate\n",
    "# lmabda functions\n",
    "\n",
    "\n",
    "def power(n):\n",
    "\treturn lambda a : a ** n\n",
    "\n",
    "# base = lambda a : a**2 get\n",
    "# returned to base\n",
    "base = power(2)\n",
    "\n",
    "print(\"Now power is set to 2\")\n",
    "\n",
    "# when calling base it gets\n",
    "# executed with already set with 2\n",
    "print(\"8 powerof 2 = \", base(8))\n",
    "\n",
    "# base = lambda a : a**5 get\n",
    "# returned to base\n",
    "base = power(5)\n",
    "print(\"Now power is set to 5\")\n",
    "\n",
    "# when calling base it gets executed\n",
    "# with already set with newly 2\n",
    "print(\"8 powerof 5 = \", base(8))\n"
   ]
  },
  {
   "cell_type": "code",
   "execution_count": 9,
   "metadata": {},
   "outputs": [
    {
     "name": "stdout",
     "output_type": "stream",
     "text": [
      "[100, 2, 8, 60, 4, 10]\n",
      "[True, True, True, True, False, True, False, False, True, False]\n"
     ]
    }
   ],
   "source": [
    "# Python program to demonstrate\n",
    "# lambda functions inside map()\n",
    "# and filter()\n",
    "\n",
    "\n",
    "a = [100, 2, 8, 60, 5, 4, 3, 31, 10, 11]\n",
    "\n",
    "# in filter either we use assignment or\n",
    "# conditional operator, the pass actual\n",
    "# parameter will get return\n",
    "filtered = filter (lambda x: x % 2 == 0, a)\n",
    "print(list(filtered))\n",
    "\n",
    "# in map either we use assignment or\n",
    "# conditional operator, the result of\n",
    "# the value will get returned\n",
    "maped = map (lambda x: x % 2 == 0, a)\n",
    "print(list(maped))\n"
   ]
  },
  {
   "cell_type": "code",
   "execution_count": 10,
   "metadata": {},
   "outputs": [
    {
     "name": "stdout",
     "output_type": "stream",
     "text": [
      "193\n"
     ]
    }
   ],
   "source": [
    "#Using lambda() Function with reduce()\n",
    "# Python code to illustrate\n",
    "# reduce() with lambda()\n",
    "# to get sum of a list\n",
    "\n",
    "from functools import reduce\n",
    "li = [5, 8, 10, 20, 50, 100]\n",
    "sum = reduce((lambda x, y: x + y), li)\n",
    "print (sum)\n"
   ]
  },
  {
   "cell_type": "code",
   "execution_count": 11,
   "metadata": {},
   "outputs": [
    {
     "name": "stdout",
     "output_type": "stream",
     "text": [
      "The maximum element of the list is : 6\n"
     ]
    }
   ],
   "source": [
    "# python code to demonstrate working of reduce()\n",
    "# with a lambda function\n",
    "\n",
    "# importing functools for reduce()\n",
    "import functools\n",
    "\n",
    "# initializing list\n",
    "lis = [ 1 , 3, 5, 6, 2, ]\n",
    "\n",
    "# using reduce to compute maximum element from list\n",
    "print (\"The maximum element of the list is : \",end=\"\")\n",
    "print (functools.reduce(lambda a,b : a if a > b else b,lis))\n"
   ]
  },
  {
   "cell_type": "markdown",
   "metadata": {},
   "source": [
    "### Lambda and filter in Python Examples"
   ]
  },
  {
   "cell_type": "markdown",
   "metadata": {},
   "source": [
    "#### Given a list of numbers, find all numbers divisible by 13.\n",
    "Input : my_list = [12, 65, 54, 39, 102, \n",
    "                     339, 221, 50, 70]\n",
    "\n",
    "Output : [65, 39, 221]"
   ]
  },
  {
   "cell_type": "code",
   "execution_count": 12,
   "metadata": {},
   "outputs": [
    {
     "name": "stdout",
     "output_type": "stream",
     "text": [
      "[65, 39, 221]\n"
     ]
    }
   ],
   "source": [
    "my_list = [12, 65, 54, 39, 102, 339, 221, 50, 70, ]\n",
    "\n",
    "result = filter(lambda x:(x%13 == 0),my_list)\n",
    "print(list(result))"
   ]
  },
  {
   "cell_type": "markdown",
   "metadata": {},
   "source": [
    "#### Given a list of strings, find all palindromes."
   ]
  },
  {
   "cell_type": "code",
   "execution_count": 14,
   "metadata": {},
   "outputs": [
    {
     "name": "stdout",
     "output_type": "stream",
     "text": [
      "['geeg', 'keek', 'aa']\n"
     ]
    }
   ],
   "source": [
    "my_list = [\"geeks\", \"geeg\", \"keek\", \"practice\", \"aa\"]\n",
    "\n",
    "result = filter(lambda x:(x==\"\".join(reversed(x))),my_list)\n",
    "print(list(result))"
   ]
  },
  {
   "cell_type": "markdown",
   "metadata": {},
   "source": [
    "#### Given a list of strings and a string str, print all anagrams of str"
   ]
  },
  {
   "cell_type": "code",
   "execution_count": 15,
   "metadata": {},
   "outputs": [
    {
     "name": "stdout",
     "output_type": "stream",
     "text": [
      "['geeks', 'keegs']\n"
     ]
    }
   ],
   "source": [
    "# Python Program to find all anagrams of str in\n",
    "# a list of strings.\n",
    "from collections import Counter\n",
    "\n",
    "my_list = [\"geeks\", \"geeg\", \"keegs\", \"practice\", \"aa\"]\n",
    "str = \"eegsk\"\n",
    "\n",
    "# use anonymous function to filter anagrams of x.\n",
    "# Please refer below article for details of reversed\n",
    "# https://www.geeksforgeeks.org/anagram-checking-python-collections-counter/\n",
    "result = list(filter(lambda x: (Counter(str) == Counter(x)), my_list))\n",
    "\n",
    "# printing the result\n",
    "print(result)\n"
   ]
  },
  {
   "cell_type": "markdown",
   "metadata": {},
   "source": [
    "#### Intersection of two arrays in Python"
   ]
  },
  {
   "cell_type": "raw",
   "metadata": {},
   "source": [
    "Given two arrays, find their intersection.\n",
    "\n",
    "Examples:\n",
    "\n",
    "Input:  arr1[] = [1, 3, 4, 5, 7]\n",
    "        arr2[] = [2, 3, 5, 6]\n",
    "Output: Intersection : [3, 5]"
   ]
  },
  {
   "cell_type": "code",
   "execution_count": 18,
   "metadata": {},
   "outputs": [
    {
     "name": "stdout",
     "output_type": "stream",
     "text": [
      "Intersection :  [3, 5]\n"
     ]
    }
   ],
   "source": [
    "arr1 = [1, 3, 4, 5, 7]\n",
    "arr2 = [2, 3, 5, 6]\n",
    "result = list(filter(lambda x: x in arr1, arr2)) \n",
    "print (\"Intersection : \",result)"
   ]
  },
  {
   "cell_type": "code",
   "execution_count": null,
   "metadata": {},
   "outputs": [],
   "source": []
  }
 ],
 "metadata": {
  "kernelspec": {
   "display_name": "Python 3",
   "language": "python",
   "name": "python3"
  },
  "language_info": {
   "codemirror_mode": {
    "name": "ipython",
    "version": 3
   },
   "file_extension": ".py",
   "mimetype": "text/x-python",
   "name": "python",
   "nbconvert_exporter": "python",
   "pygments_lexer": "ipython3",
   "version": "3.8.5"
  }
 },
 "nbformat": 4,
 "nbformat_minor": 4
}
