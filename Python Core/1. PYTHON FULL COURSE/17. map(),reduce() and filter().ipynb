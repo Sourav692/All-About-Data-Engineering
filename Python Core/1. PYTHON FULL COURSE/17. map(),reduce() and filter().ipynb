{
 "cells": [
  {
   "cell_type": "markdown",
   "metadata": {},
   "source": [
    "### Python map() function"
   ]
  },
  {
   "cell_type": "raw",
   "metadata": {},
   "source": [
    "map() function returns a map object(which is an iterator) of the results after applying the given function to each item of a given iterable (list, tuple etc.)"
   ]
  },
  {
   "cell_type": "raw",
   "metadata": {},
   "source": [
    "Syntex:\n",
    "map(func,iter)\n",
    "\n",
    "func: Function to be appied on each element of interable\n",
    "iter: Iterable to be passed"
   ]
  },
  {
   "cell_type": "raw",
   "metadata": {},
   "source": [
    "Returns:\n",
    "Returns a list of the results after applying the given function  \n",
    "to each item of a given iterable (list, tuple etc.) "
   ]
  },
  {
   "cell_type": "markdown",
   "metadata": {},
   "source": [
    "#### Examples for map():\n"
   ]
  },
  {
   "cell_type": "code",
   "execution_count": 1,
   "metadata": {},
   "outputs": [
    {
     "name": "stdout",
     "output_type": "stream",
     "text": [
      "[2, 4, 6, 8, 10]\n"
     ]
    }
   ],
   "source": [
    "# Double all the element in list\n",
    "\n",
    "def double(n):\n",
    "    return 2*n\n",
    "\n",
    "lis1 = [1,2,3,4,5]\n",
    "result = map(double,lis1)\n",
    "print(list(result))"
   ]
  },
  {
   "cell_type": "code",
   "execution_count": 3,
   "metadata": {},
   "outputs": [
    {
     "name": "stdout",
     "output_type": "stream",
     "text": [
      "[2, 4, 6, 8, 10, 12]\n"
     ]
    }
   ],
   "source": [
    "#lambda expression in map. Do the above operation using lambda\n",
    "lis2 = [1,2,3,4,5,6]\n",
    "result2 = map(lambda x:2*x,lis2)\n",
    "print(list(result2))"
   ]
  },
  {
   "cell_type": "code",
   "execution_count": 8,
   "metadata": {},
   "outputs": [
    {
     "name": "stdout",
     "output_type": "stream",
     "text": [
      "[12, 14, 16, 18, 20, 22]\n"
     ]
    }
   ],
   "source": [
    "#add 2 list using map\n",
    "lis3 = [1,2,3,4,5,6]\n",
    "lis4 = [11,12,13,14,15,16]\n",
    "\n",
    "result3 = map(lambda x,y:x+y,lis3,lis4)\n",
    "print(list(result3))"
   ]
  },
  {
   "cell_type": "code",
   "execution_count": 9,
   "metadata": {},
   "outputs": [
    {
     "name": "stdout",
     "output_type": "stream",
     "text": [
      "[12, 14, 16, 18, 20]\n"
     ]
    }
   ],
   "source": [
    "## do the above operation but this time the lenght of lists are not equal\n",
    "lis3 = [1,2,3,4,5]\n",
    "lis4 = [11,12,13,14,15,16]\n",
    "\n",
    "result3 = map(lambda x,y:x+y,lis3,lis4)\n",
    "print(list(result3))\n"
   ]
  },
  {
   "cell_type": "raw",
   "metadata": {},
   "source": [
    "So from above we can see it would return iterable with the size of smaller input iterable"
   ]
  },
  {
   "cell_type": "code",
   "execution_count": 11,
   "metadata": {},
   "outputs": [
    {
     "name": "stdout",
     "output_type": "stream",
     "text": [
      "[['s', 'a', 't'], ['b', 'a', 't'], ['c', 'a', 't'], ['m', 'a', 't']]\n"
     ]
    }
   ],
   "source": [
    "lis5 = ['sat', 'bat', 'cat', 'mat']\n",
    "# map() can listify the list of strings individually\n",
    "test = list(map(list, lis5))\n",
    "print(test)"
   ]
  },
  {
   "cell_type": "markdown",
   "metadata": {},
   "source": [
    "### Python reduce() function"
   ]
  },
  {
   "cell_type": "raw",
   "metadata": {},
   "source": [
    "The reduce(fun,seq) function is used to apply a particular function passed in its argument to all of the list elements mentioned in the sequence passed along.This function is defined in “functools” module."
   ]
  },
  {
   "cell_type": "code",
   "execution_count": 1,
   "metadata": {},
   "outputs": [
    {
     "data": {
      "text/plain": [
       "21"
      ]
     },
     "execution_count": 1,
     "metadata": {},
     "output_type": "execute_result"
    }
   ],
   "source": [
    "## lambda and reduce\n",
    "import functools\n",
    "lis = [1,2,3,4,5,6]\n",
    "functools.reduce(lambda a,b:a+b,lis)"
   ]
  },
  {
   "cell_type": "code",
   "execution_count": 3,
   "metadata": {},
   "outputs": [
    {
     "data": {
      "text/plain": [
       "6"
      ]
     },
     "execution_count": 3,
     "metadata": {},
     "output_type": "execute_result"
    }
   ],
   "source": [
    "# using reduce to compute maximum element from list\n",
    "functools.reduce(lambda a,b:a if a>b else b,lis)"
   ]
  },
  {
   "cell_type": "code",
   "execution_count": 4,
   "metadata": {},
   "outputs": [
    {
     "name": "stdout",
     "output_type": "stream",
     "text": [
      "The sum of the list elements is : 17\n",
      "The product of list elements is : 180\n",
      "The concatenated product is : geeksforgeeks\n"
     ]
    }
   ],
   "source": [
    "##operator function and reduce\n",
    "import functools\n",
    "import operator\n",
    "lis = [ 1 , 3, 5, 6, 2, ]\n",
    "# using reduce to compute sum of list\n",
    "# using operator functions\n",
    "print (\"The sum of the list elements is : \",end=\"\")\n",
    "print (functools.reduce(operator.add,lis))\n",
    "  \n",
    "# using reduce to compute product\n",
    "# using operator functions\n",
    "print (\"The product of list elements is : \",end=\"\")\n",
    "print (functools.reduce(operator.mul,lis))\n",
    "  \n",
    "# using reduce to concatenate string\n",
    "print (\"The concatenated product is : \",end=\"\")\n",
    "print (functools.reduce(operator.add,[\"geeks\",\"for\",\"geeks\"]))"
   ]
  },
  {
   "cell_type": "markdown",
   "metadata": {},
   "source": [
    "### Difference of Reduce() and accumulate()"
   ]
  },
  {
   "cell_type": "raw",
   "metadata": {},
   "source": [
    "Both reduce() and accumulate() can be used to calculate the summation of a sequence elements. But there are differences in the implementation aspects in both of these.\n",
    "\n",
    ". reduce() is defined in “functools” module, accumulate() in “itertools” module.\n",
    ". reduce() stores the intermediate result and only returns the final summation value. Whereas, accumulate() returns a iterator   containing the intermediate results. The last number of the iterator returned is summation value of the list.\n",
    ". reduce(fun,seq) takes function as 1st and sequence as 2nd argument. In contrast accumulate(seq,fun) takes sequence as 1st       argument and function as 2nd argument."
   ]
  },
  {
   "cell_type": "code",
   "execution_count": 5,
   "metadata": {},
   "outputs": [
    {
     "name": "stdout",
     "output_type": "stream",
     "text": [
      "The summation of list using accumulate is :[1, 4, 8, 18, 22]\n",
      "The summation of list using reduce is :22\n"
     ]
    }
   ],
   "source": [
    "# python code to demonstrate summation\n",
    "# using reduce() and accumulate()\n",
    "\n",
    "# importing itertools for accumulate()\n",
    "import itertools\n",
    "\n",
    "# importing functools for reduce()\n",
    "import functools\n",
    "\n",
    "# initializing list\n",
    "lis = [ 1, 3, 4, 10, 4 ]\n",
    "\n",
    "# priting summation using accumulate()\n",
    "print (\"The summation of list using accumulate is :\",end=\"\")\n",
    "print (list(itertools.accumulate(lis,lambda x,y : x+y)))\n",
    "\n",
    "# priting summation using reduce()\n",
    "print (\"The summation of list using reduce is :\",end=\"\")\n",
    "print (functools.reduce(lambda x,y:x+y,lis))\n"
   ]
  },
  {
   "cell_type": "markdown",
   "metadata": {},
   "source": [
    "### filter() in python\n"
   ]
  },
  {
   "cell_type": "raw",
   "metadata": {},
   "source": [
    "The filter() method filters the given sequence with the help of a function that tests each element in the sequence to be true or not."
   ]
  },
  {
   "cell_type": "raw",
   "metadata": {},
   "source": [
    "filter() method is equivalent to:\n",
    "\n",
    "# when function is defined\n",
    "(element for element in iterable if function(element))\n",
    "\n",
    "# when function is None\n",
    "(element for element in iterable if element)"
   ]
  },
  {
   "cell_type": "code",
   "execution_count": 9,
   "metadata": {},
   "outputs": [
    {
     "name": "stdout",
     "output_type": "stream",
     "text": [
      "The filtered letters are:\n",
      "g\n",
      "e\n",
      "e\n"
     ]
    }
   ],
   "source": [
    "# function that filters vowels\n",
    "def fun(variable):\n",
    "\tletters = ['g', 'e', 'i', 'o', 'u']\n",
    "\tif (variable in letters):\n",
    "\t\treturn True\n",
    "\telse:\n",
    "\t\treturn False\n",
    "\n",
    "\n",
    "# sequence\n",
    "sequence = ['g', 'e', 'e', 'j', 'k', 's', 'p', 'r']\n",
    "\n",
    "# using filter function\n",
    "filtered = filter(fun, sequence)\n",
    "\n",
    "print('The filtered letters are:')\n",
    "for s in filtered:\n",
    "\tprint(s)\n"
   ]
  },
  {
   "cell_type": "raw",
   "metadata": {},
   "source": [
    "Now we can say filter and map is like dependent to each other. With map we would get true,false value and filter return us the value where the return is True.\n",
    "Below example would demonstrate is better:"
   ]
  },
  {
   "cell_type": "code",
   "execution_count": 10,
   "metadata": {},
   "outputs": [
    {
     "name": "stdout",
     "output_type": "stream",
     "text": [
      "[1, 3, 5, 13]\n",
      "[0, 2, 8]\n"
     ]
    }
   ],
   "source": [
    "# a list contains both even and odd numbers.\n",
    "seq = [0, 1, 2, 3, 5, 8, 13]\n",
    "\n",
    "# result contains odd numbers of the list\n",
    "result = filter(lambda x: x % 2 != 0, seq)\n",
    "print(list(result))\n",
    "\n",
    "# result contains even numbers of the list\n",
    "result = filter(lambda x: x % 2 == 0, seq)\n",
    "print(list(result))\n"
   ]
  },
  {
   "cell_type": "code",
   "execution_count": 11,
   "metadata": {},
   "outputs": [
    {
     "name": "stdout",
     "output_type": "stream",
     "text": [
      "[False, True, False, True, True, False, True]\n",
      "[True, False, True, False, False, True, False]\n"
     ]
    }
   ],
   "source": [
    "# a list contains both even and odd numbers.\n",
    "seq = [0, 1, 2, 3, 5, 8, 13]\n",
    "\n",
    "# result contains odd numbers of the list\n",
    "result = map(lambda x: x % 2 != 0, seq)\n",
    "print(list(result))\n",
    "\n",
    "# result contains even numbers of the list\n",
    "result = map(lambda x: x % 2 == 0, seq)\n",
    "print(list(result))"
   ]
  },
  {
   "cell_type": "markdown",
   "metadata": {},
   "source": [
    "#### Example 1: How filter() works for iterable list?"
   ]
  },
  {
   "cell_type": "code",
   "execution_count": 12,
   "metadata": {},
   "outputs": [
    {
     "name": "stdout",
     "output_type": "stream",
     "text": [
      "The filtered vowels are:\n",
      "a\n",
      "e\n",
      "i\n",
      "o\n"
     ]
    }
   ],
   "source": [
    "# list of letters\n",
    "letters = ['a', 'b', 'd', 'e', 'i', 'j', 'o']\n",
    "\n",
    "# function that filters vowels\n",
    "def filter_vowels(letter):\n",
    "    vowels = ['a', 'e', 'i', 'o', 'u']\n",
    "\n",
    "    if(letter in vowels):\n",
    "        return True\n",
    "    else:\n",
    "        return False\n",
    "\n",
    "filtered_vowels = filter(filter_vowels, letters)\n",
    "\n",
    "print('The filtered vowels are:')\n",
    "for vowel in filtered_vowels:\n",
    "    print(vowel)"
   ]
  },
  {
   "cell_type": "markdown",
   "metadata": {},
   "source": [
    "#### Example 2: How filter() method works without the filter function?\n"
   ]
  },
  {
   "cell_type": "code",
   "execution_count": 13,
   "metadata": {},
   "outputs": [
    {
     "name": "stdout",
     "output_type": "stream",
     "text": [
      "The filtered elements are:\n",
      "1\n",
      "a\n",
      "True\n",
      "0\n"
     ]
    }
   ],
   "source": [
    "# random list\n",
    "random_list = [1, 'a', 0, False, True, '0']\n",
    "filtered_list = filter(None, random_list)\n",
    "print('The filtered elements are:')\n",
    "for element in filtered_list:\n",
    "    print(element)"
   ]
  },
  {
   "cell_type": "raw",
   "metadata": {},
   "source": [
    "Here, we have a random list of numbers, string, and boolean in random_list.\n",
    "We pass random_list to the filter() method with first parameter (filter function) as None.\n",
    "With filter function as None, the function defaults to Identity function, and each element in random_list is checked if it's true or not.\n",
    "When we loop through the final filtered_list, we get the elements which are true: 1, a, True and '0' ('0' as a string is also true)."
   ]
  },
  {
   "cell_type": "code",
   "execution_count": null,
   "metadata": {},
   "outputs": [],
   "source": []
  }
 ],
 "metadata": {
  "kernelspec": {
   "display_name": "Python 3",
   "language": "python",
   "name": "python3"
  },
  "language_info": {
   "codemirror_mode": {
    "name": "ipython",
    "version": 3
   },
   "file_extension": ".py",
   "mimetype": "text/x-python",
   "name": "python",
   "nbconvert_exporter": "python",
   "pygments_lexer": "ipython3",
   "version": "3.8.5"
  }
 },
 "nbformat": 4,
 "nbformat_minor": 4
}
