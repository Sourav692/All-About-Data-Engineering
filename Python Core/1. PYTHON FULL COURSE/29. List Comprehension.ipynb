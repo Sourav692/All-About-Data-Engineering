{
 "cells": [
  {
   "cell_type": "markdown",
   "metadata": {},
   "source": [
    "### Exercise 156\n",
    "    The gaming.txt file is attached to this exercise. \n",
    "    This file has been loaded into the text variable. \n",
    "    From the text list delete all newline characters. Then delete empty lines and print the text to the console."
   ]
  },
  {
   "cell_type": "code",
   "execution_count": 32,
   "metadata": {},
   "outputs": [
    {
     "name": "stdout",
     "output_type": "stream",
     "text": [
      "['Activision Blizzard', 'Activision Blizzard, Inc. is a developer and publisher of interactive entertainment content and services. The Company develops and distributes content and services across various gaming platforms,', 'including video game consoles, personal computers (PC) and mobile devices. Its segments include Activision Publishing, Inc. (Activision), Blizzard Entertainment, Inc. (Blizzard),', 'King Digital Entertainment (King) and Other. Activision is a developer and publisher of interactive software products and content. Blizzard is engaged in developing and publishing of interactive', 'software products and entertainment content, particularly in PC gaming. King is a mobile entertainment company. It is engaged in other businesses, including The Major League Gaming (MLG) business;', 'The Activision Blizzard Studios (Studios) business, and The Activision Blizzard Distribution (Distribution) business. It also develops products spanning other genres, including action/adventure,', 'role-playing and simulation.']\n"
     ]
    }
   ],
   "source": [
    "with open('./data/gaming.txt','r') as file:\n",
    "    text = file.readlines()\n",
    "text = [elem.replace(\"\\n\",\"\").strip() for elem in text if elem.replace(\"\\n\",\"\") != \"\"]\n",
    "#text = [line for line in text if len(line) > 0]\n",
    "print(text)"
   ]
  },
  {
   "cell_type": "code",
   "execution_count": 29,
   "metadata": {},
   "outputs": [
    {
     "name": "stdout",
     "output_type": "stream",
     "text": [
      "['Activision Blizzard', 'Activision Blizzard, Inc. is a developer and publisher of interactive entertainment content and services. The Company develops and distributes content and services across various gaming platforms,', 'including video game consoles, personal computers (PC) and mobile devices. Its segments include Activision Publishing, Inc. (Activision), Blizzard Entertainment, Inc. (Blizzard),', 'King Digital Entertainment (King) and Other. Activision is a developer and publisher of interactive software products and content. Blizzard is engaged in developing and publishing of interactive', 'software products and entertainment content, particularly in PC gaming. King is a mobile entertainment company. It is engaged in other businesses, including The Major League Gaming (MLG) business;', 'The Activision Blizzard Studios (Studios) business, and The Activision Blizzard Distribution (Distribution) business. It also develops products spanning other genres, including action/adventure,', 'role-playing and simulation.']\n"
     ]
    }
   ],
   "source": [
    "with open('./data/gaming.txt','r') as file:\n",
    "    text = file.readlines()\n",
    "text = [line.replace('\\n', '') for line in text]\n",
    "text = [line for line in text if len(line) > 0]\n",
    "print(text)"
   ]
  },
  {
   "cell_type": "markdown",
   "metadata": {},
   "source": [
    "### Exercise 157\n",
    "    The list of product prices is given:\n",
    "    net_price = [5.5, 4.0, 9.0, 10.0]\n",
    "    The VAT for these products is equal to 23%:\n",
    "    tax = 0.23\n",
    "    Using the list comprehension, calculate the gross price for each product. Round the price to two decimal places and print result to the console."
   ]
  },
  {
   "cell_type": "code",
   "execution_count": 33,
   "metadata": {},
   "outputs": [
    {
     "name": "stdout",
     "output_type": "stream",
     "text": [
      "[6.76, 4.92, 11.07, 12.3]\n"
     ]
    }
   ],
   "source": [
    "tax = 0.23\n",
    "net_price = [5.5, 4.0, 9.0, 10.0]\n",
    "gross_price = [round(price * (1 + tax), 2) for price in net_price]\n",
    "print(gross_price)"
   ]
  },
  {
   "cell_type": "markdown",
   "metadata": {},
   "source": [
    "### Exercise 158\n",
    "    The present value - pv and the investment period - n are given below:\n",
    "    pv = 1000\n",
    "    n = 10\n",
    "    Depending on the interest rates given below, calculate the future value fv of your investment:\n",
    "    rate = [0.01, 0.02, 0.03, 0.04, 0.05, 0.06, 0.07]\n",
    "    Round the result to the full cent and print the result to the console."
   ]
  },
  {
   "cell_type": "code",
   "execution_count": 38,
   "metadata": {},
   "outputs": [
    {
     "name": "stdout",
     "output_type": "stream",
     "text": [
      "[1104.62, 1218.99, 1343.92, 1480.24, 1628.89, 1790.85, 1967.15]\n"
     ]
    }
   ],
   "source": [
    "pv = 1000\n",
    "n = 10\n",
    "rate = [0.01, 0.02, 0.03, 0.04, 0.05, 0.06, 0.07]\n",
    "fvs = [round(pv * (1 + r)**n, 2) for r in rate]\n",
    "print(fvs)"
   ]
  },
  {
   "cell_type": "markdown",
   "metadata": {},
   "source": [
    "### Exercise 159\n",
    "    The present value - pv and the investment period - n are given below:\n",
    "    pv = 1000\n",
    "    n = 10\n",
    "    Depending on the interest rates given below, calculate value interest of your investment:\n",
    "    rate = [0.01, 0.02, 0.03, 0.04, 0.05, 0.06, 0.07]\n",
    "    Round the result to the full cent and print the result to the console."
   ]
  },
  {
   "cell_type": "code",
   "execution_count": 40,
   "metadata": {},
   "outputs": [
    {
     "name": "stdout",
     "output_type": "stream",
     "text": [
      "[104.62, 218.99, 343.92, 480.24, 628.89, 790.85, 967.15]\n"
     ]
    }
   ],
   "source": [
    "pv = 1000\n",
    "n = 10\n",
    "rate = [0.01, 0.02, 0.03, 0.04, 0.05, 0.06, 0.07]\n",
    "interest = [round(round(pv * (1 + r)**n, 2)-pv,2) for r in rate]\n",
    "print(interest)"
   ]
  },
  {
   "cell_type": "markdown",
   "metadata": {},
   "source": [
    "## Exercise 160\n",
    "    The contents of the file plw.txt were loaded \n",
    "    Tasks to perform:\n",
    "    1. Get rid of blank lines.\n",
    "    2. Split each line into tokens/words as shown below and print result to the console."
   ]
  },
  {
   "cell_type": "code",
   "execution_count": 45,
   "metadata": {},
   "outputs": [
    {
     "name": "stdout",
     "output_type": "stream",
     "text": [
      "[['PLAYWAY'], ['PlayWay', 'is', 'a', 'producer', 'and', 'publisher', 'of', 'computer', 'and', 'mobile', 'games.', 'The', 'company', 'is', 'characterized', 'by', 'a', 'very', 'large', 'number', 'of', 'development', 'teams', 'and', 'a', 'large', 'number', 'of', 'games', 'produced', 'simultaneously.'], ['PlayWay', 'sells,', 'among', 'others', 'via', 'the', 'STEAM', 'portal,', 'AppStore', 'and', 'GooglePlay.', 'The', 'US', 'and', 'German', 'markets', 'are', 'the', 'two', 'largest', 'markets', 'for', 'the', \"Group's\", 'sales.'], ['In', 'addition,', 'the', 'company', 'has', 'PlayWay', 'Campus', '-', 'a', 'campus', 'for', 'cooperating', 'development', 'teams.']]\n"
     ]
    }
   ],
   "source": [
    "with open('./data/plw.txt', 'r') as file:\n",
    "    lines = file.read().splitlines()\n",
    "lines = [line.split(\" \") for line in lines if len(line) > 0]\n",
    "print(lines)"
   ]
  },
  {
   "cell_type": "markdown",
   "metadata": {},
   "source": [
    "## Exercise 161\n",
    "\n",
    "Read plw.txt and perform the following:\n",
    "1. Change uppercase letters to lowercase\n",
    "2. Remove commas and periods\n",
    "3. Split the text into tokens\n",
    "4. Extract words with minimum 8 characters length\n",
    "5. Sort the words alphabetically\n",
    "Print the result to the console."
   ]
  },
  {
   "cell_type": "code",
   "execution_count": 47,
   "metadata": {},
   "outputs": [
    {
     "name": "stdout",
     "output_type": "stream",
     "text": [
      "['addition', 'appstore', 'characterized', 'computer', 'cooperating', 'development', 'development', 'googleplay', 'produced', 'producer', 'publisher', 'simultaneously']\n"
     ]
    }
   ],
   "source": [
    "with open('./data/plw.txt', 'r') as file:\n",
    "    lines = file.read()\n",
    " \n",
    "lines = lines.lower()\n",
    "lines = lines.replace(',', '').replace('.', '')\n",
    "tokens = lines.split()\n",
    "tokens = [token for token in tokens if len(token) > 7]\n",
    "tokens.sort()\n",
    "print(tokens)"
   ]
  },
  {
   "cell_type": "markdown",
   "metadata": {},
   "source": [
    "### Exercise 162\n",
    "    The following dictionary is given:\n",
    "    data = dict(zip(('a', 'b', 'c', 'd', 'e', 'f'),(1, 2, 3, 4, 5, 6)))\n",
    "    Convert this dictionary into the following list and print the result to the console.\n",
    "    Expected result:\n",
    "    [['a', 1], ['b', 2], ['c', 3], ['d', 4], ['e', 5], ['f', 6]]"
   ]
  },
  {
   "cell_type": "code",
   "execution_count": 50,
   "metadata": {},
   "outputs": [
    {
     "name": "stdout",
     "output_type": "stream",
     "text": [
      "[['a', 1], ['b', 2], ['c', 3], ['d', 4], ['e', 5], ['f', 6]]\n"
     ]
    }
   ],
   "source": [
    "data = dict(zip(('a', 'b', 'c', 'd', 'e', 'f'),(1, 2, 3, 4, 5, 6)))\n",
    "result = [[key, val] for key, val in data.items()]\n",
    "print(result)"
   ]
  },
  {
   "cell_type": "code",
   "execution_count": null,
   "metadata": {},
   "outputs": [],
   "source": []
  }
 ],
 "metadata": {
  "interpreter": {
   "hash": "0012cd877e37c553ce082c8a53dbb8150686811a71a997c633aba52086b562f8"
  },
  "kernelspec": {
   "display_name": "Python 3.8.12 64-bit ('pyspark3': conda)",
   "language": "python",
   "name": "python3"
  },
  "language_info": {
   "codemirror_mode": {
    "name": "ipython",
    "version": 3
   },
   "file_extension": ".py",
   "mimetype": "text/x-python",
   "name": "python",
   "nbconvert_exporter": "python",
   "pygments_lexer": "ipython3",
   "version": "3.8.12"
  },
  "orig_nbformat": 4
 },
 "nbformat": 4,
 "nbformat_minor": 2
}
