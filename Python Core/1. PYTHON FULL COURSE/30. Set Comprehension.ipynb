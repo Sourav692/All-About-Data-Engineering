{
 "cells": [
  {
   "cell_type": "markdown",
   "metadata": {},
   "source": [
    "### Exercise:150\n",
    "    Consider the two-roll of the dice. \n",
    "    Create the probability space (omega) and count the probability of getting a \n",
    "    \n",
    "    sum of points higher than 10. Use set comprehension."
   ]
  },
  {
   "cell_type": "code",
   "execution_count": 5,
   "metadata": {},
   "outputs": [
    {
     "name": "stdout",
     "output_type": "stream",
     "text": [
      "Probability: 0.08\n"
     ]
    }
   ],
   "source": [
    "omega = {(i, j) for i in range(1, 7) for j in range(1, 7)}\n",
    "sum_gt_10 = {pair for pair in omega if pair[0] + pair[1] > 10}\n",
    "print(f'Probability: {len(sum_gt_10) / len(omega):.2f}')"
   ]
  },
  {
   "cell_type": "markdown",
   "metadata": {},
   "source": [
    "### Exercise 151\n",
    "\n",
    "    The following text is given:\n",
    "    desc = \"Playway: Playway is a producer of computer games.\"\n",
    "    Change all characters to lowercase, remove the colon, period and then split the text into words.\n",
    "    Create a set of unique words and print the length of this set to the console."
   ]
  },
  {
   "cell_type": "code",
   "execution_count": 36,
   "metadata": {},
   "outputs": [
    {
     "name": "stdout",
     "output_type": "stream",
     "text": [
      "7\n"
     ]
    }
   ],
   "source": [
    "desc = \"Playway: Playway is a producer of computer games.\"\n",
    "word_set = set()\n",
    "for elem in desc.split(\" \"):  \n",
    "    elem = elem.replace(':',\"\")\n",
    "    elem = elem.replace('.',\"\")\n",
    "    word_set.add(elem)\n",
    "print(len(word_set))"
   ]
  },
  {
   "cell_type": "code",
   "execution_count": 37,
   "metadata": {},
   "outputs": [
    {
     "name": "stdout",
     "output_type": "stream",
     "text": [
      "7\n"
     ]
    }
   ],
   "source": [
    "desc = \"Playway: Playway is a producer of computer games.\"\n",
    "word_list = desc.lower().replace(':', '').replace('.', '').split()\n",
    "word_unique = {word for word in word_list}\n",
    "print(len(word_unique))"
   ]
  },
  {
   "cell_type": "markdown",
   "metadata": {},
   "source": [
    "### Exercise 152\n",
    "    Consider the two-roll of the dice. Create the probability space (omega) and calculate the probability of getting a sum of squares higher or equal to 45. \n",
    "    Use set comprehension. Round the result to two decimal places and print the result to the console as shown below."
   ]
  },
  {
   "cell_type": "code",
   "execution_count": 38,
   "metadata": {},
   "outputs": [
    {
     "name": "stdout",
     "output_type": "stream",
     "text": [
      "Probability: 0.22\n"
     ]
    }
   ],
   "source": [
    "omega = {(i, j) for i in range(1, 7) for j in range(1, 7)}\n",
    "sum_eq_45 = {pair for pair in omega if pair[0]**2 + pair[1]**2 >= 45}\n",
    "print(f'Probability: {len(sum_eq_45) / len(omega):.2f}')"
   ]
  },
  {
   "cell_type": "code",
   "execution_count": 39,
   "metadata": {},
   "outputs": [
    {
     "name": "stdout",
     "output_type": "stream",
     "text": [
      "Probability: 0.22\n"
     ]
    }
   ],
   "source": [
    "omega = {(x, y) for x in range(1, 7) for y in range(1, 7)}\n",
    "a = {(x, y) for x, y in omega if x**2 + y**2 >= 45}\n",
    "prob = round(len(a) / len(omega), 2)\n",
    "print(f'Probability: {prob}')"
   ]
  },
  {
   "cell_type": "markdown",
   "metadata": {},
   "source": [
    "### Exercise 153\n",
    "    Consider a three-roll of the dice. Create the probability space (omega) and calculate the probability of obtaining three values which the sum is divisible by 7. \n",
    "    Use set comprehension. Round the result to two decimal places and print the result to the console as shown below."
   ]
  },
  {
   "cell_type": "code",
   "execution_count": 40,
   "metadata": {},
   "outputs": [
    {
     "name": "stdout",
     "output_type": "stream",
     "text": [
      "Probability: 0.14\n"
     ]
    }
   ],
   "source": [
    "omega = {(i, j,k) for i in range(1, 7) for j in range(1, 7) for k in range(1,7)}\n",
    "sum_div_7 = {pair for pair in omega if (pair[0] + pair[1] + pair[2])%7 == 0}\n",
    "print(f'Probability: {len(sum_div_7) / len(omega):.2f}')"
   ]
  },
  {
   "cell_type": "code",
   "execution_count": 41,
   "metadata": {},
   "outputs": [
    {
     "name": "stdout",
     "output_type": "stream",
     "text": [
      "Probability: 0.14\n"
     ]
    }
   ],
   "source": [
    "omega = {(x, y, z) for x in range(1, 7) for y in range(1, 7) for z in range(1, 7)}\n",
    "a = {(x, y, z) for x, y, z in omega if (x + y + z) % 7 == 0}\n",
    "prob = round(len(a) / len(omega), 2)\n",
    "print(f'Probability: {prob}')"
   ]
  },
  {
   "cell_type": "markdown",
   "metadata": {},
   "source": [
    "### Exercise 154\n",
    "    Calculate the probability that in three throws of symmetrical cubic dice, the sum of the squares of points will be divisible by 3. \n",
    "    Use set comprehension. Round the result to the fourth decimal place and print the result to the console as shown below."
   ]
  },
  {
   "cell_type": "code",
   "execution_count": 43,
   "metadata": {},
   "outputs": [
    {
     "name": "stdout",
     "output_type": "stream",
     "text": [
      "Probability: 0.3333\n"
     ]
    }
   ],
   "source": [
    "omega = {(i, j,k) for i in range(1, 7) for j in range(1, 7) for k in range(1,7)}\n",
    "sum_div_7 = {pair for pair in omega if (pair[0] + pair[1] + pair[2])%3 == 0}\n",
    "print(f'Probability: {len(sum_div_7) / len(omega):.4f}')"
   ]
  },
  {
   "cell_type": "markdown",
   "metadata": {},
   "source": [
    "### Exercise 155\n",
    "    We roll the symmetrical dice three times. Calculate the probability of the following:\n",
    "    - odd number of points in each roll\n",
    "    Use set comprehension. Round the result to three decimal places and print to the console as shown below."
   ]
  },
  {
   "cell_type": "code",
   "execution_count": 44,
   "metadata": {},
   "outputs": [
    {
     "name": "stdout",
     "output_type": "stream",
     "text": [
      "Probability: 0.125\n"
     ]
    }
   ],
   "source": [
    "omega = {(x, y, z) for x in range(1, 7) for y in range(1, 7) for z in range(1, 7)}\n",
    "a = {(x, y, z) for x, y, z in omega if x % 2 != 0 and y % 2 != 0 and z % 2 != 0}\n",
    "prob = round(len(a) / len(omega), 4)\n",
    "print(f'Probability: {prob}')"
   ]
  },
  {
   "cell_type": "code",
   "execution_count": null,
   "metadata": {},
   "outputs": [],
   "source": []
  }
 ],
 "metadata": {
  "interpreter": {
   "hash": "0012cd877e37c553ce082c8a53dbb8150686811a71a997c633aba52086b562f8"
  },
  "kernelspec": {
   "display_name": "Python 3.8.12 64-bit ('pyspark3': conda)",
   "language": "python",
   "name": "python3"
  },
  "language_info": {
   "codemirror_mode": {
    "name": "ipython",
    "version": 3
   },
   "file_extension": ".py",
   "mimetype": "text/x-python",
   "name": "python",
   "nbconvert_exporter": "python",
   "pygments_lexer": "ipython3",
   "version": "3.8.12"
  },
  "orig_nbformat": 4
 },
 "nbformat": 4,
 "nbformat_minor": 2
}
