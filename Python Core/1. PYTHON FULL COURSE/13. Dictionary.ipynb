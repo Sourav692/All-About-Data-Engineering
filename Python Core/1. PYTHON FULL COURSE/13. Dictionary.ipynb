{
 "cells": [
  {
   "cell_type": "markdown",
   "metadata": {},
   "source": [
    "### Exercise 64\n",
    "Create a dictionary from the following pairs (key, value):\n",
    "\n",
    "    'USA': 'Washington'\n",
    "    'Germany': 'Berlin'\n",
    "    'Austria': 'Vienna'\n",
    "\n",
    "and print it to the console.\n",
    "Expected result:\n",
    "\n",
    "    {'USA': 'Washington', 'Germany': 'Berlin', 'Austria': 'Vienna'}"
   ]
  },
  {
   "cell_type": "code",
   "execution_count": 1,
   "metadata": {},
   "outputs": [
    {
     "name": "stdout",
     "output_type": "stream",
     "text": [
      "{'USA': 'Washington', 'Germany': 'Berlin', 'Austria': 'Vienna'}\n"
     ]
    }
   ],
   "source": [
    "capitals = {\n",
    "    'USA': 'Washington',\n",
    "    'Germany': 'Berlin',\n",
    "    'Austria': 'Vienna'\n",
    "}\n",
    "\n",
    "print(capitals)"
   ]
  },
  {
   "cell_type": "markdown",
   "metadata": {},
   "source": [
    "### Exercise 65\n",
    "\n",
    "The following dictionary is given:\n",
    "\n",
    "    capitals = {\n",
    "        'USA': 'Washington',\n",
    "        'Germany': 'Berlin',\n",
    "        'Austria': 'Vienna'\n",
    "    }\n",
    "Use the appropriate method to extract all keys from the capitals dictionary and print to the console.\n",
    "\n",
    "Expected result:\n",
    "\n",
    "    dict_keys(['USA', 'Germany', 'Austria'])"
   ]
  },
  {
   "cell_type": "code",
   "execution_count": 3,
   "metadata": {},
   "outputs": [
    {
     "name": "stdout",
     "output_type": "stream",
     "text": [
      "dict_keys(['USA', 'Germany', 'Austria'])\n"
     ]
    }
   ],
   "source": [
    "capitals = {\n",
    "    'USA': 'Washington',\n",
    "    'Germany': 'Berlin',\n",
    "    'Austria': 'Vienna'\n",
    "}\n",
    "\n",
    "print(capitals.keys())"
   ]
  },
  {
   "cell_type": "markdown",
   "metadata": {},
   "source": [
    "### Exercise 66\n",
    "\n",
    "The following dictionary is given:\n",
    "\n",
    "    capitals = {\n",
    "        'USA': 'Washington',\n",
    "        'Germany': 'Berlin',\n",
    "        'Austria': 'Vienna'\n",
    "    }\n",
    "Use the appropriate method to extract all values from the capitals dictionary and print to the console.\n",
    "\n",
    "Expected result:\n",
    "\n",
    "    dict_values(['Washington', 'Berlin', 'Vienna'])"
   ]
  },
  {
   "cell_type": "code",
   "execution_count": 4,
   "metadata": {},
   "outputs": [
    {
     "name": "stdout",
     "output_type": "stream",
     "text": [
      "dict_values(['Washington', 'Berlin', 'Vienna'])\n"
     ]
    }
   ],
   "source": [
    "capitals = {\n",
    "    'USA': 'Washington',\n",
    "    'Germany': 'Berlin',\n",
    "    'Austria': 'Vienna'\n",
    "}\n",
    "print(capitals.values())"
   ]
  },
  {
   "cell_type": "markdown",
   "metadata": {},
   "source": [
    "### Exercise 67\n",
    "The following dictionary is given:\n",
    "\n",
    "    capitals = {\n",
    "        'USA': 'Washington',\n",
    "        'Germany': 'Berlin',\n",
    "        'Austria': 'Vienna'\n",
    "    }\n",
    "Using the appropriate method, extract the list containing tuple objects (key, value) from the capitals dictionary and print to the console as shown below.\n",
    "\n",
    "Expected result:\n",
    "\n",
    "    dict_items([('USA', 'Washington'), ('Germany', 'Berlin'), ('Austria', 'Vienna')])"
   ]
  },
  {
   "cell_type": "code",
   "execution_count": 5,
   "metadata": {},
   "outputs": [
    {
     "name": "stdout",
     "output_type": "stream",
     "text": [
      "dict_items([('USA', 'Washington'), ('Germany', 'Berlin'), ('Austria', 'Vienna')])\n"
     ]
    }
   ],
   "source": [
    "capitals = {\n",
    "    'USA': 'Washington',\n",
    "    'Germany': 'Berlin',\n",
    "    'Austria': 'Vienna'\n",
    "}\n",
    "\n",
    "print(capitals.items())"
   ]
  },
  {
   "cell_type": "markdown",
   "metadata": {},
   "source": [
    "### Exercise 68\n",
    "\n",
    "The following dictionary is given:\n",
    "\n",
    "    capitals = {\n",
    "        'USA': 'Washington',\n",
    "        'Germany': 'Berlin',\n",
    "        'Austria': 'Vienna'\n",
    "    }\n",
    "\n",
    "Using the dict.get() method, extract the value for the key 'Austria' and print it to the console.\n",
    "\n",
    "Expected result:\n",
    "\n",
    "    Vienna"
   ]
  },
  {
   "cell_type": "code",
   "execution_count": 7,
   "metadata": {},
   "outputs": [
    {
     "name": "stdout",
     "output_type": "stream",
     "text": [
      "Vienna\n"
     ]
    }
   ],
   "source": [
    "capitals = {\n",
    "    'USA': 'Washington',\n",
    "    'Germany': 'Berlin',\n",
    "    'Austria': 'Vienna'\n",
    "}\n",
    "\n",
    "print(capitals.get(\"Austria\"))"
   ]
  },
  {
   "cell_type": "markdown",
   "metadata": {},
   "source": [
    "### Exercise 69\n",
    "The following dictionary is given:\n",
    "\n",
    "    stocks = {\n",
    "        'MSFT.US': {'Microsoft Corp': 184},\n",
    "        'AAPL.US': {'Apple Inc': 310},\n",
    "        'MMM.US': {'3M Co': 148}\n",
    "    }\n",
    "\n",
    "Extract the value for the key 'AAPL.US' and print it to the console.\n",
    "\n",
    "Expected result:\n",
    "\n",
    "    {'Apple Inc': 310}"
   ]
  },
  {
   "cell_type": "code",
   "execution_count": 8,
   "metadata": {},
   "outputs": [
    {
     "name": "stdout",
     "output_type": "stream",
     "text": [
      "{'Apple Inc': 310}\n"
     ]
    }
   ],
   "source": [
    "stocks = {\n",
    "    'MSFT.US': {'Microsoft Corp': 184},\n",
    "    'AAPL.US': {'Apple Inc': 310},\n",
    "    'MMM.US': {'3M Co': 148}\n",
    "}\n",
    "\n",
    "print(stocks.get(\"AAPL.US\"))"
   ]
  },
  {
   "cell_type": "markdown",
   "metadata": {},
   "source": [
    "### Exercise 70\n",
    "The following dictionary is given:\n",
    "\n",
    "    stocks = {\n",
    "        'MSFT.US': {'Microsoft Corp': 184},\n",
    "        'AAPL.US': {'Apple Inc': 310},\n",
    "        'MMM.US': {'3M Co': 148}\n",
    "    }\n",
    "\n",
    "Get the price for Microsoft (value for the 'Microsoft Corp' key) and print it to the console.\n",
    "\n",
    "Expected result:\n",
    "\n",
    "    184"
   ]
  },
  {
   "cell_type": "code",
   "execution_count": 17,
   "metadata": {},
   "outputs": [
    {
     "name": "stdout",
     "output_type": "stream",
     "text": [
      "184\n"
     ]
    }
   ],
   "source": [
    "stocks = {\n",
    "    'MSFT.US': {'Microsoft Corp': 184},\n",
    "    'AAPL.US': {'Apple Inc': 310},\n",
    "    'MMM.US': {'3M Co': 148}\n",
    "}\n",
    "\n",
    "print(stocks.get(\"MSFT.US\").get('Microsoft Corp'))"
   ]
  },
  {
   "cell_type": "markdown",
   "metadata": {},
   "source": [
    "### Exercise 71\n",
    "\n",
    "The following dictionary is given:\n",
    "\n",
    "    stocks = {\n",
    "        'MSFT.US': {'Microsoft Corp': 184},\n",
    "        'AAPL.US': {'Apple Inc': 310},\n",
    "        'MMM.US': {'3M Co': 148}\n",
    "    }\n",
    "Update the price for Microsoft to 190 and print the value for the 'MSFT.US' key to the console.\n",
    "\n",
    "Expected result:\n",
    "\n",
    "    {'Microsoft Corp': 190}"
   ]
  },
  {
   "cell_type": "code",
   "execution_count": 18,
   "metadata": {},
   "outputs": [
    {
     "name": "stdout",
     "output_type": "stream",
     "text": [
      "{'Microsoft Corp': 190}\n"
     ]
    }
   ],
   "source": [
    "stocks = {\n",
    "    'MSFT.US': {'Microsoft Corp': 184},\n",
    "    'AAPL.US': {'Apple Inc': 310},\n",
    "    'MMM.US': {'3M Co': 148}\n",
    "}\n",
    "\n",
    "stocks[\"MSFT.US\"]['Microsoft Corp'] = 190\n",
    "\n",
    "print(stocks.get(\"MSFT.US\"))"
   ]
  },
  {
   "cell_type": "markdown",
   "metadata": {},
   "source": [
    "### Exercise 72\n",
    "\n",
    "The following dictionary is given:\n",
    "\n",
    "    stocks = {\n",
    "        'MSFT.US': {'Microsoft Corp': 184},\n",
    "        'AAPL.US': {'Apple Inc': 310},\n",
    "        'MMM.US': {'3M Co': 148}\n",
    "    }\n",
    "Add a fourth pair to this dictionary with the key 'V.US' and the value: {'Visa Inc': 185}. Print the values of the stocks dictionary to the console.\n",
    "\n"
   ]
  },
  {
   "cell_type": "code",
   "execution_count": 20,
   "metadata": {},
   "outputs": [
    {
     "name": "stdout",
     "output_type": "stream",
     "text": [
      "dict_values([{'Microsoft Corp': 184}, {'Apple Inc': 310}, {'3M Co': 148}, {'Visa Inc': 185}])\n"
     ]
    }
   ],
   "source": [
    "stocks = {\n",
    "    'MSFT.US': {'Microsoft Corp': 184},\n",
    "    'AAPL.US': {'Apple Inc': 310},\n",
    "    'MMM.US': {'3M Co': 148}\n",
    "}\n",
    "\n",
    "stocks[\"V.US\"] = {'Visa Inc': 185}\n",
    "\n",
    "print(stocks.values())"
   ]
  },
  {
   "cell_type": "markdown",
   "metadata": {},
   "source": [
    "\n",
    "### Exercise 73\n",
    "\n",
    "A list of tickers from the Dow Jones index is given:\n",
    "\n",
    "    tickers = [\n",
    "        'AAPL.US', 'AXP.US', 'BA.US', 'CAT.US',\n",
    "        'CSCO.US', 'CVX.US', 'DIS.US', 'DOW.US',\n",
    "        'GS.US', 'HD.US', 'IBM.US', 'INTC.US'\n",
    "    ]\n",
    "Transform this list into a list of two-element tuple objects (index, ticker) and print it to the console.\n",
    "\n",
    "Formatted result for better view:\n",
    "\n",
    "    [(0, 'AAPL.US'),\n",
    "    (1, 'AXP.US'),\n",
    "    (2, 'BA.US'),\n",
    "    (3, 'CAT.US'),\n",
    "    (4, 'CSCO.US'),\n",
    "    (5, 'CVX.US'),\n",
    "    (6, 'DIS.US'),\n",
    "    (7, 'DOW.US'),\n",
    "    (8, 'GS.US'),\n",
    "    (9, 'HD.US'),\n",
    "    (10, 'IBM.US'),\n",
    "    (11, 'INTC.US')]\n",
    "\n",
    "\n",
    "Expected result:\n",
    "\n",
    "    [(0, 'AAPL.US'), (1, 'AXP.US'), (2, 'BA.US'), (3, 'CAT.US'), (4, 'CSCO.US'), (5, "
   ]
  },
  {
   "cell_type": "code",
   "execution_count": 24,
   "metadata": {},
   "outputs": [
    {
     "name": "stdout",
     "output_type": "stream",
     "text": [
      "[(0, 'AAPL.US'), (1, 'AXP.US'), (2, 'BA.US'), (3, 'CAT.US'), (4, 'CSCO.US'), (5, 'CVX.US'), (6, 'DIS.US'), (7, 'DOW.US'), (8, 'GS.US'), (9, 'HD.US'), (10, 'IBM.US'), (11, 'INTC.US')]\n"
     ]
    }
   ],
   "source": [
    "tickers = [\n",
    "    'AAPL.US', 'AXP.US', 'BA.US', 'CAT.US',\n",
    "    'CSCO.US', 'CVX.US', 'DIS.US', 'DOW.US',\n",
    "    'GS.US', 'HD.US', 'IBM.US', 'INTC.US'\n",
    "]\n",
    "\n",
    "for elem in enumerate(tickers):\n",
    "    tickers[elem[0]] = elem\n",
    "print(tickers)"
   ]
  },
  {
   "cell_type": "code",
   "execution_count": 25,
   "metadata": {},
   "outputs": [
    {
     "name": "stdout",
     "output_type": "stream",
     "text": [
      "[(0, 'AAPL.US'), (1, 'AXP.US'), (2, 'BA.US'), (3, 'CAT.US'), (4, 'CSCO.US'), (5, 'CVX.US'), (6, 'DIS.US'), (7, 'DOW.US'), (8, 'GS.US'), (9, 'HD.US'), (10, 'IBM.US'), (11, 'INTC.US')]\n"
     ]
    }
   ],
   "source": [
    "tickers = [\n",
    "    'AAPL.US', 'AXP.US', 'BA.US', 'CAT.US',\n",
    "    'CSCO.US', 'CVX.US', 'DIS.US', 'DOW.US',\n",
    "    'GS.US', 'HD.US', 'IBM.US', 'INTC.US'\n",
    "]\n",
    "print(list(enumerate(tickers)))"
   ]
  },
  {
   "cell_type": "markdown",
   "metadata": {},
   "source": [
    "### Exercise 74\n",
    "\n",
    "A list of tickers from the Dow Jones index is given:\n",
    "\n",
    "    tickers = [\n",
    "        'AAPL.US', 'AXP.US', 'BA.US', 'CAT.US',\n",
    "        'CSCO.US', 'CVX.US', 'DIS.US', 'DOW.US',\n",
    "        'GS.US', 'HD.US', 'IBM.US', 'INTC.US'\n",
    "    ]\n",
    "\n",
    "Transform this list into a dictionary (index, ticker) and print it to the console.\n",
    "\n",
    "Formatted result for better view:\n",
    "\n",
    "    {0: 'AAPL.US',\n",
    "    1: 'AXP.US',\n",
    "    2: 'BA.US',\n",
    "    3: 'CAT.US',\n",
    "    4: 'CSCO.US',\n",
    "    5: 'CVX.US',\n",
    "    6: 'DIS.US',\n",
    "    7: 'DOW.US',\n",
    "    8: 'GS.US',\n",
    "    9: 'HD.US',\n",
    "    10: 'IBM.US',\n",
    "    11: 'INTC.US'}\n",
    "\n",
    "\n",
    "Expected result:\n",
    "\n",
    "    {0: 'AAPL.US', 1: 'AXP.US', 2: 'BA.US', 3: 'CAT.US', 4: 'CSCO.US', 5: 'CVX.US', 6: 'DIS."
   ]
  },
  {
   "cell_type": "code",
   "execution_count": 26,
   "metadata": {},
   "outputs": [
    {
     "name": "stdout",
     "output_type": "stream",
     "text": [
      "{0: 'AAPL.US', 1: 'AXP.US', 2: 'BA.US', 3: 'CAT.US', 4: 'CSCO.US', 5: 'CVX.US', 6: 'DIS.US', 7: 'DOW.US', 8: 'GS.US', 9: 'HD.US', 10: 'IBM.US', 11: 'INTC.US'}\n"
     ]
    }
   ],
   "source": [
    "tickers = [\n",
    "    'AAPL.US', 'AXP.US', 'BA.US', 'CAT.US',\n",
    "    'CSCO.US', 'CVX.US', 'DIS.US', 'DOW.US',\n",
    "    'GS.US', 'HD.US', 'IBM.US', 'INTC.US'\n",
    "]\n",
    "print(dict(enumerate(tickers)))"
   ]
  },
  {
   "cell_type": "markdown",
   "metadata": {},
   "source": [
    "### Exercise 75\n",
    "\n",
    "The following dictionary is given:\n",
    "\n",
    "    project_ids = {\n",
    "        '01': 'open', \n",
    "        '03': 'in progress',\n",
    "        '05': 'in progress',\n",
    "        '04': 'completed'\n",
    "    }\n",
    "\n",
    "Extract a list of unique values (sorted alphabetically) from the project_ids dictionary and print it to the console.\n",
    "\n",
    "Expected result:\n",
    "\n",
    "    ['completed', 'in progress', 'open']"
   ]
  },
  {
   "cell_type": "code",
   "execution_count": 32,
   "metadata": {},
   "outputs": [
    {
     "name": "stdout",
     "output_type": "stream",
     "text": [
      "['completed', 'in progress', 'open']\n"
     ]
    }
   ],
   "source": [
    "project_ids = {\n",
    "    '01': 'open', \n",
    "    '03': 'in progress',\n",
    "    '05': 'in progress',\n",
    "    '04': 'completed'\n",
    "}\n",
    "\n",
    "print(sorted(list(set(project_ids.values()))))"
   ]
  },
  {
   "cell_type": "markdown",
   "metadata": {},
   "source": [
    "### Exercise 76\n",
    "\n",
    "The following dictionary is given:\n",
    "\n",
    "    stats = {'site': 'e-smartdata.org', 'traffic': 100, 'type': 'organic'}\n",
    "\n",
    "Delete the 'traffic' key pair from this dictionary and print it to the console.\n",
    "\n",
    "Expected result:\n",
    "\n",
    "    {'site': 'e-smartdata.org', 'type': 'organic'}"
   ]
  },
  {
   "cell_type": "code",
   "execution_count": 33,
   "metadata": {},
   "outputs": [
    {
     "name": "stdout",
     "output_type": "stream",
     "text": [
      "{'site': 'e-smartdata.org', 'type': 'organic'}\n"
     ]
    }
   ],
   "source": [
    "stats = {'site': 'e-smartdata.org', 'traffic': 100, 'type': 'organic'}\n",
    "del stats['traffic']\n",
    "print(stats)"
   ]
  },
  {
   "cell_type": "markdown",
   "metadata": {},
   "source": [
    "### Exercise 77\n",
    "\n",
    "The following dictionary is given:\n",
    "\n",
    "    users = {'001': 'Mark', '002': 'Monica', '003': 'Jacob'}\n",
    "\n",
    "Try to print value for key '004'.\n",
    "\n",
    "In this exercise use the dict.get() method. When the key is not in the dictionary set default value to the string 'indefinite'.\n",
    "\n",
    "Expected result:\n",
    "\n",
    "    'indefinite'"
   ]
  },
  {
   "cell_type": "code",
   "execution_count": 34,
   "metadata": {},
   "outputs": [
    {
     "name": "stdout",
     "output_type": "stream",
     "text": [
      "indefinite\n"
     ]
    }
   ],
   "source": [
    "users = {'001': 'Mark', '002': 'Monica', '003': 'Jacob'}\n",
    "\n",
    "print(users.get(\"004\",\"indefinite\"))"
   ]
  },
  {
   "cell_type": "code",
   "execution_count": null,
   "metadata": {},
   "outputs": [],
   "source": []
  }
 ],
 "metadata": {
  "interpreter": {
   "hash": "0012cd877e37c553ce082c8a53dbb8150686811a71a997c633aba52086b562f8"
  },
  "kernelspec": {
   "display_name": "Python 3.8.12 64-bit ('pyspark3': conda)",
   "language": "python",
   "name": "python3"
  },
  "language_info": {
   "codemirror_mode": {
    "name": "ipython",
    "version": 3
   },
   "file_extension": ".py",
   "mimetype": "text/x-python",
   "name": "python",
   "nbconvert_exporter": "python",
   "pygments_lexer": "ipython3",
   "version": "3.8.12"
  },
  "orig_nbformat": 4
 },
 "nbformat": 4,
 "nbformat_minor": 2
}
