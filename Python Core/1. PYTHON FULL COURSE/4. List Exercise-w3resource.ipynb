{
 "cells": [
  {
   "cell_type": "markdown",
   "metadata": {},
   "source": [
    "### Write a Python program to sum all the items in a list"
   ]
  },
  {
   "cell_type": "code",
   "execution_count": 3,
   "metadata": {},
   "outputs": [
    {
     "data": {
      "text/plain": [
       "21"
      ]
     },
     "execution_count": 3,
     "metadata": {},
     "output_type": "execute_result"
    }
   ],
   "source": [
    "lst = [1,2,3,4,5,6]\n",
    "sum(lst)"
   ]
  },
  {
   "cell_type": "markdown",
   "metadata": {},
   "source": [
    "### Write a Python program to multiplies all the items in a list"
   ]
  },
  {
   "cell_type": "code",
   "execution_count": 6,
   "metadata": {},
   "outputs": [
    {
     "data": {
      "text/plain": [
       "720"
      ]
     },
     "execution_count": 6,
     "metadata": {},
     "output_type": "execute_result"
    }
   ],
   "source": [
    "import functools\n",
    "import operator\n",
    "functools.reduce(operator.mul,lst)"
   ]
  },
  {
   "cell_type": "markdown",
   "metadata": {},
   "source": [
    "### Write a Python program to get the largest number from a list."
   ]
  },
  {
   "cell_type": "code",
   "execution_count": 7,
   "metadata": {},
   "outputs": [
    {
     "data": {
      "text/plain": [
       "6"
      ]
     },
     "execution_count": 7,
     "metadata": {},
     "output_type": "execute_result"
    }
   ],
   "source": [
    "max(lst)"
   ]
  },
  {
   "cell_type": "code",
   "execution_count": 8,
   "metadata": {},
   "outputs": [],
   "source": [
    "def max_num_in_list( list ):\n",
    "    max = list[ 0 ]\n",
    "    for a in list:\n",
    "        if a > max:\n",
    "            max = a\n",
    "    return max"
   ]
  },
  {
   "cell_type": "code",
   "execution_count": 9,
   "metadata": {},
   "outputs": [
    {
     "data": {
      "text/plain": [
       "6"
      ]
     },
     "execution_count": 9,
     "metadata": {},
     "output_type": "execute_result"
    }
   ],
   "source": [
    "max_num_in_list(lst)"
   ]
  },
  {
   "cell_type": "markdown",
   "metadata": {},
   "source": [
    "### Write a Python program to count the number of strings where the string length is 2 or more and the first and last character are same from a given list of strings    "
   ]
  },
  {
   "cell_type": "raw",
   "metadata": {},
   "source": [
    "Sample List : ['abc', 'xyz', 'aba', '1221']\n",
    "Expected Result : 2"
   ]
  },
  {
   "cell_type": "code",
   "execution_count": 10,
   "metadata": {},
   "outputs": [],
   "source": [
    "def match_words(lst):\n",
    "    counter = 0\n",
    "    for item in lst:\n",
    "        if len(item) >=2 and item[0] == item[-1]:\n",
    "            counter = counter +1\n",
    "        else:\n",
    "            pass\n",
    "    return counter\n"
   ]
  },
  {
   "cell_type": "code",
   "execution_count": 11,
   "metadata": {},
   "outputs": [],
   "source": [
    "lst = ['abc', 'xyz', 'aba', '1221']"
   ]
  },
  {
   "cell_type": "code",
   "execution_count": 12,
   "metadata": {},
   "outputs": [
    {
     "data": {
      "text/plain": [
       "2"
      ]
     },
     "execution_count": 12,
     "metadata": {},
     "output_type": "execute_result"
    }
   ],
   "source": [
    "match_words(lst)"
   ]
  },
  {
   "cell_type": "markdown",
   "metadata": {},
   "source": [
    "### Write a Python program to get a list, sorted in increasing order by the last element in each tuple from a given list of non-empty tuples"
   ]
  },
  {
   "cell_type": "raw",
   "metadata": {},
   "source": [
    "Sample List : [(2, 5), (1, 2), (4, 4), (2, 3), (2, 1)]\n",
    "Expected Result : [(2, 1), (1, 2), (2, 3), (4, 4), (2, 5)]"
   ]
  },
  {
   "cell_type": "code",
   "execution_count": 14,
   "metadata": {},
   "outputs": [],
   "source": [
    "def last(n): return n[-1]\n",
    "def sort_list_last(lst):\n",
    "    return sorted(lst, key=last)\n"
   ]
  },
  {
   "cell_type": "code",
   "execution_count": 15,
   "metadata": {},
   "outputs": [
    {
     "name": "stdout",
     "output_type": "stream",
     "text": [
      "[(2, 1), (1, 2), (2, 3), (4, 4), (2, 5)]\n"
     ]
    }
   ],
   "source": [
    "print(sort_list_last([(2, 5), (1, 2), (4, 4), (2, 3), (2, 1)]))"
   ]
  },
  {
   "cell_type": "markdown",
   "metadata": {},
   "source": [
    "### Write a Python program to get a list, sorted in increasing order by the first element in each tuple from a given list of non-empty tuples"
   ]
  },
  {
   "cell_type": "code",
   "execution_count": 16,
   "metadata": {},
   "outputs": [],
   "source": [
    "def first(n): return n[0]\n",
    "def sort_list_first(lst):\n",
    "    return sorted(lst, key=first)\n"
   ]
  },
  {
   "cell_type": "code",
   "execution_count": 17,
   "metadata": {},
   "outputs": [
    {
     "name": "stdout",
     "output_type": "stream",
     "text": [
      "[(1, 2), (2, 5), (2, 3), (2, 1), (4, 4)]\n"
     ]
    }
   ],
   "source": [
    "print(sort_list_first([(2, 5), (1, 2), (4, 4), (2, 3), (2, 1)]))"
   ]
  },
  {
   "cell_type": "markdown",
   "metadata": {},
   "source": [
    "### Write a Python program to remove duplicates from a list"
   ]
  },
  {
   "cell_type": "code",
   "execution_count": 20,
   "metadata": {},
   "outputs": [],
   "source": [
    "def remove_duplicate(lst):\n",
    "    lst_set = set(lst)\n",
    "    return(sorted(lst_set))"
   ]
  },
  {
   "cell_type": "code",
   "execution_count": 21,
   "metadata": {},
   "outputs": [
    {
     "data": {
      "text/plain": [
       "[10, 20, 30, 40, 50, 60, 80]"
      ]
     },
     "execution_count": 21,
     "metadata": {},
     "output_type": "execute_result"
    }
   ],
   "source": [
    "lst = [10,20,30,20,10,50,60,40,80,50,40]\n",
    "remove_duplicate(lst)"
   ]
  },
  {
   "cell_type": "markdown",
   "metadata": {},
   "source": [
    "### Write a Python program to clone or copy a list"
   ]
  },
  {
   "cell_type": "code",
   "execution_count": 22,
   "metadata": {},
   "outputs": [
    {
     "name": "stdout",
     "output_type": "stream",
     "text": [
      "[10, 22, 44, 23, 4]\n",
      "[10, 22, 44, 23, 4]\n"
     ]
    }
   ],
   "source": [
    "original_list = [10, 22, 44, 23, 4]\n",
    "new_list = list(original_list)\n",
    "print(original_list)\n",
    "print(new_list)"
   ]
  },
  {
   "cell_type": "markdown",
   "metadata": {},
   "source": [
    "### Write a Python program to find the list of words that are longer than n from a given list of words."
   ]
  },
  {
   "cell_type": "code",
   "execution_count": 23,
   "metadata": {},
   "outputs": [
    {
     "name": "stdout",
     "output_type": "stream",
     "text": [
      "['quick', 'brown', 'jumps', 'over', 'lazy']\n"
     ]
    }
   ],
   "source": [
    "def long_words(n, str):\n",
    "    word_len = []\n",
    "    txt = str.split(\" \")\n",
    "    for x in txt:\n",
    "        if len(x) > n:\n",
    "            word_len.append(x)\n",
    "    return word_len\t\n",
    "print(long_words(3, \"The quick brown fox jumps over the lazy dog\"))"
   ]
  },
  {
   "cell_type": "markdown",
   "metadata": {},
   "source": [
    "### Write a Python function that takes two lists and returns True if they have at least one common member."
   ]
  },
  {
   "cell_type": "code",
   "execution_count": 33,
   "metadata": {},
   "outputs": [],
   "source": [
    "#Using Set\n",
    "def common_data(lst1,lst2):\n",
    "    s1,s2 = set(lst1),set(lst2)\n",
    "    common_list = sorted(s1.intersection(s2))\n",
    "    if len(common_list) >0:\n",
    "        return True\n",
    "    else:\n",
    "        return False"
   ]
  },
  {
   "cell_type": "code",
   "execution_count": 34,
   "metadata": {},
   "outputs": [
    {
     "name": "stdout",
     "output_type": "stream",
     "text": [
      "True\n"
     ]
    }
   ],
   "source": [
    "print(common_data([1,2,3,4,5], [5,6,7,8,9]))"
   ]
  },
  {
   "cell_type": "code",
   "execution_count": 35,
   "metadata": {},
   "outputs": [
    {
     "name": "stdout",
     "output_type": "stream",
     "text": [
      "False\n"
     ]
    }
   ],
   "source": [
    "print(common_data([1,2,3,4,5], [6,7,8,9]))\n"
   ]
  },
  {
   "cell_type": "markdown",
   "metadata": {},
   "source": [
    "### Write a Python program to generate a 3*4*6 3D array whose each element is *"
   ]
  },
  {
   "cell_type": "code",
   "execution_count": 36,
   "metadata": {},
   "outputs": [
    {
     "name": "stdout",
     "output_type": "stream",
     "text": [
      "[[['*', '*', '*', '*', '*', '*'], ['*', '*', '*', '*', '*', '*'], ['*', '*', '*', '*', '*', '*'], ['*', '*', '*', '*', '*', '*']], [['*', '*', '*', '*', '*', '*'], ['*', '*', '*', '*', '*', '*'], ['*', '*', '*', '*', '*', '*'], ['*', '*', '*', '*', '*', '*']], [['*', '*', '*', '*', '*', '*'], ['*', '*', '*', '*', '*', '*'], ['*', '*', '*', '*', '*', '*'], ['*', '*', '*', '*', '*', '*']]]\n"
     ]
    }
   ],
   "source": [
    "array = [[ ['*' for col in range(6)] for col in range(4)] for row in range(3)]\n",
    "print(array)"
   ]
  },
  {
   "cell_type": "markdown",
   "metadata": {},
   "source": [
    "### Write a Python program to shuffle and print a specified list."
   ]
  },
  {
   "cell_type": "code",
   "execution_count": 37,
   "metadata": {},
   "outputs": [
    {
     "name": "stdout",
     "output_type": "stream",
     "text": [
      "['Pink', 'Green', 'Black', 'Yellow', 'White', 'Red']\n"
     ]
    }
   ],
   "source": [
    "from random import shuffle\n",
    "color = ['Red', 'Green', 'White', 'Black', 'Pink', 'Yellow']\n",
    "shuffle(color)\n",
    "print(color)"
   ]
  },
  {
   "cell_type": "markdown",
   "metadata": {},
   "source": [
    "### Write a Python program to generate and print a list of first and last 5 elements where the values are square of numbers between 1 and 30 (both included)."
   ]
  },
  {
   "cell_type": "code",
   "execution_count": 38,
   "metadata": {},
   "outputs": [
    {
     "name": "stdout",
     "output_type": "stream",
     "text": [
      "[1, 4, 9, 16, 25]\n",
      "[676, 729, 784, 841, 900]\n"
     ]
    }
   ],
   "source": [
    "def printValues():\n",
    "\tl = list()\n",
    "\tfor i in range(1,31):\n",
    "\t\tl.append(i**2)\n",
    "\tprint(l[:5])\n",
    "\tprint(l[-5:])\n",
    "\n",
    "printValues()"
   ]
  },
  {
   "cell_type": "markdown",
   "metadata": {},
   "source": [
    "### Write a Python program to generate all permutations of a list in Python"
   ]
  },
  {
   "cell_type": "code",
   "execution_count": 39,
   "metadata": {},
   "outputs": [
    {
     "name": "stdout",
     "output_type": "stream",
     "text": [
      "[(1, 2, 3), (1, 3, 2), (2, 1, 3), (2, 3, 1), (3, 1, 2), (3, 2, 1)]\n"
     ]
    }
   ],
   "source": [
    "import itertools\n",
    "print(list(itertools.permutations([1,2,3])))"
   ]
  },
  {
   "cell_type": "markdown",
   "metadata": {},
   "source": [
    "### Write a Python program access the index of a list"
   ]
  },
  {
   "cell_type": "code",
   "execution_count": 40,
   "metadata": {},
   "outputs": [
    {
     "name": "stdout",
     "output_type": "stream",
     "text": [
      "0 5\n",
      "1 15\n",
      "2 35\n",
      "3 8\n",
      "4 98\n"
     ]
    }
   ],
   "source": [
    "nums = [5, 15, 35, 8, 98]\n",
    "for num_index, num_val in enumerate(nums):\n",
    "    print(num_index, num_val)"
   ]
  },
  {
   "cell_type": "code",
   "execution_count": 41,
   "metadata": {},
   "outputs": [
    {
     "data": {
      "text/plain": [
       "<enumerate at 0x2de25d28438>"
      ]
     },
     "execution_count": 41,
     "metadata": {},
     "output_type": "execute_result"
    }
   ],
   "source": [
    "enumerate(nums)"
   ]
  },
  {
   "cell_type": "markdown",
   "metadata": {},
   "source": [
    "### Write a Python program to convert a list of characters into a string"
   ]
  },
  {
   "cell_type": "code",
   "execution_count": 44,
   "metadata": {},
   "outputs": [
    {
     "name": "stdout",
     "output_type": "stream",
     "text": [
      "abcd\n"
     ]
    }
   ],
   "source": [
    "s = ['a', 'b', 'c', 'd']\n",
    "str1 = ''.join(s)\n",
    "print(str1)"
   ]
  },
  {
   "cell_type": "markdown",
   "metadata": {},
   "source": [
    "### Write a Python program to find the index of an item in a specified list."
   ]
  },
  {
   "cell_type": "code",
   "execution_count": 45,
   "metadata": {},
   "outputs": [
    {
     "name": "stdout",
     "output_type": "stream",
     "text": [
      "1\n"
     ]
    }
   ],
   "source": [
    "num =[10, 30, 4, -6]\n",
    "print(num.index(30))"
   ]
  },
  {
   "cell_type": "markdown",
   "metadata": {},
   "source": [
    "### Write a Python program to flatten a shallow lis"
   ]
  },
  {
   "cell_type": "code",
   "execution_count": 56,
   "metadata": {},
   "outputs": [
    {
     "name": "stdout",
     "output_type": "stream",
     "text": [
      "[2, 4, 3, 1, 5, 6, 9, 7, 9, 0]\n"
     ]
    }
   ],
   "source": [
    "import itertools\n",
    "original_list = [[2,4,3],[1,5,6], [9], [7,9,0]]\n",
    "new_merged_list = list(itertools.chain(*original_list))\n",
    "print(new_merged_list)"
   ]
  },
  {
   "cell_type": "markdown",
   "metadata": {},
   "source": [
    "### Append a list to the second list"
   ]
  },
  {
   "cell_type": "code",
   "execution_count": 55,
   "metadata": {},
   "outputs": [
    {
     "name": "stdout",
     "output_type": "stream",
     "text": [
      "[1, 2, 3, 0, 'Red', 'Green', 'Black']\n"
     ]
    }
   ],
   "source": [
    "list1 = [1, 2, 3, 0]\n",
    "list2 = ['Red', 'Green', 'Black']\n",
    "list1.extend(list2)\n",
    "print(list1)"
   ]
  },
  {
   "cell_type": "markdown",
   "metadata": {},
   "source": [
    "### Write a Python program to select an item randomly from a list."
   ]
  },
  {
   "cell_type": "code",
   "execution_count": 57,
   "metadata": {},
   "outputs": [
    {
     "name": "stdout",
     "output_type": "stream",
     "text": [
      "Blue\n"
     ]
    }
   ],
   "source": [
    "import random\n",
    "color_list = ['Red', 'Blue', 'Green', 'White', 'Black']\n",
    "print(random.choice(color_list))"
   ]
  },
  {
   "cell_type": "markdown",
   "metadata": {},
   "source": [
    "### Write a python program to check whether two lists are circularly identical"
   ]
  },
  {
   "cell_type": "code",
   "execution_count": 59,
   "metadata": {},
   "outputs": [],
   "source": [
    "list1 = [10, 10, 0, 0, 10]\n",
    "list2 = [10, 10, 10, 0, 0]\n",
    "list3 = [1, 10, 10, 0, 0]"
   ]
  },
  {
   "cell_type": "code",
   "execution_count": 61,
   "metadata": {},
   "outputs": [
    {
     "name": "stdout",
     "output_type": "stream",
     "text": [
      "Compare list1 and list2\n",
      "True\n",
      "Compare list1 and list3\n",
      "False\n"
     ]
    }
   ],
   "source": [
    "print('Compare list1 and list2')\n",
    "print(' '.join(map(str, list2)) in ' '.join(map(str, list1 * 2)))\n",
    "print('Compare list1 and list3')\n",
    "print(' '.join(map(str, list3)) in ' '.join(map(str, list1 * 2)))"
   ]
  },
  {
   "cell_type": "markdown",
   "metadata": {},
   "source": [
    "### Get unique values from a list"
   ]
  },
  {
   "cell_type": "code",
   "execution_count": 62,
   "metadata": {},
   "outputs": [
    {
     "name": "stdout",
     "output_type": "stream",
     "text": [
      "Original List :  [10, 20, 30, 40, 20, 50, 60, 40]\n",
      "List of unique numbers :  [40, 10, 50, 20, 60, 30]\n"
     ]
    }
   ],
   "source": [
    "my_list = [10, 20, 30, 40, 20, 50, 60, 40]\n",
    "print(\"Original List : \",my_list)\n",
    "my_set = set(my_list)\n",
    "my_new_list = list(my_set)\n",
    "print(\"List of unique numbers : \",my_new_list)"
   ]
  },
  {
   "cell_type": "markdown",
   "metadata": {},
   "source": [
    "### Get the frequency of the elements in a list"
   ]
  },
  {
   "cell_type": "code",
   "execution_count": 63,
   "metadata": {},
   "outputs": [
    {
     "name": "stdout",
     "output_type": "stream",
     "text": [
      "Original List :  [10, 10, 10, 10, 20, 20, 20, 20, 40, 40, 50, 50, 30]\n",
      "Frequency of the elements in the List :  Counter({10: 4, 20: 4, 40: 2, 50: 2, 30: 1})\n"
     ]
    }
   ],
   "source": [
    "import collections\n",
    "my_list = [10,10,10,10,20,20,20,20,40,40,50,50,30]\n",
    "print(\"Original List : \",my_list)\n",
    "ctr = collections.Counter(my_list)\n",
    "print(\"Frequency of the elements in the List : \",ctr)"
   ]
  },
  {
   "cell_type": "markdown",
   "metadata": {},
   "source": [
    "### Count the number of elements in a list within a specified range"
   ]
  },
  {
   "cell_type": "code",
   "execution_count": 64,
   "metadata": {},
   "outputs": [
    {
     "name": "stdout",
     "output_type": "stream",
     "text": [
      "6\n",
      "5\n"
     ]
    }
   ],
   "source": [
    "def count_range_in_list(li, min, max):\n",
    "\tctr = 0\n",
    "\tfor x in li:\n",
    "\t\tif min <= x <= max:\n",
    "\t\t\tctr += 1\n",
    "\treturn ctr\n",
    "\n",
    "list1 = [10,20,30,40,40,40,70,80,99]\n",
    "print(count_range_in_list(list1, 40, 100))\n",
    "\n",
    "list2 = ['a','b','c','d','e','f']\n",
    "print(count_range_in_list(list2, 'a', 'e'))"
   ]
  },
  {
   "cell_type": "markdown",
   "metadata": {},
   "source": [
    "### Check whether a list is sublist of another list"
   ]
  },
  {
   "cell_type": "code",
   "execution_count": 65,
   "metadata": {},
   "outputs": [
    {
     "name": "stdout",
     "output_type": "stream",
     "text": [
      "True\n",
      "False\n"
     ]
    }
   ],
   "source": [
    "def is_Sublist(l, s):\n",
    "\tsub_set = False\n",
    "\tif s == []:\n",
    "\t\tsub_set = True\n",
    "\telif s == l:\n",
    "\t\tsub_set = True\n",
    "\telif len(s) > len(l):\n",
    "\t\tsub_set = False\n",
    "\n",
    "\telse:\n",
    "\t\tfor i in range(len(l)):\n",
    "\t\t\tif l[i] == s[0]:\n",
    "\t\t\t\tn = 1\n",
    "\t\t\t\twhile (n < len(s)) and (l[i+n] == s[n]):\n",
    "\t\t\t\t\tn += 1\n",
    "\t\t\t\t\n",
    "\t\t\t\tif n == len(s):\n",
    "\t\t\t\t\tsub_set = True\n",
    "\n",
    "\treturn sub_set\n",
    "\n",
    "a = [2,4,3,5,7]\n",
    "b = [4,3]\n",
    "c = [3,7]\n",
    "print(is_Sublist(a, b))\n",
    "print(is_Sublist(a, c))"
   ]
  },
  {
   "cell_type": "markdown",
   "metadata": {},
   "source": [
    "### Generate all sublists of a list"
   ]
  },
  {
   "cell_type": "code",
   "execution_count": 66,
   "metadata": {},
   "outputs": [],
   "source": [
    "from itertools import combinations\n",
    "def sub_lists(my_list):\n",
    "\tsubs = []\n",
    "\tfor i in range(0, len(my_list)+1):\n",
    "\t  temp = [list(x) for x in combinations(my_list, i)]\n",
    "\t  if len(temp)>0:\n",
    "\t    subs.extend(temp)\n",
    "\treturn subs"
   ]
  },
  {
   "cell_type": "code",
   "execution_count": 67,
   "metadata": {},
   "outputs": [
    {
     "name": "stdout",
     "output_type": "stream",
     "text": [
      "Original list:\n",
      "[10, 20, 30, 40]\n",
      "S\n",
      "[[], [10], [20], [30], [40], [10, 20], [10, 30], [10, 40], [20, 30], [20, 40], [30, 40], [10, 20, 30], [10, 20, 40], [10, 30, 40], [20, 30, 40], [10, 20, 30, 40]]\n",
      "Sublists of the said list:\n",
      "[[], [10], [20], [30], [40], [10, 20], [10, 30], [10, 40], [20, 30], [20, 40], [30, 40], [10, 20, 30], [10, 20, 40], [10, 30, 40], [20, 30, 40], [10, 20, 30, 40]]\n",
      "\n",
      "Original list:\n",
      "['X', 'Y', 'Z']\n",
      "Sublists of the said list:\n",
      "[[], ['X'], ['Y'], ['Z'], ['X', 'Y'], ['X', 'Z'], ['Y', 'Z'], ['X', 'Y', 'Z']]\n"
     ]
    }
   ],
   "source": [
    "l1 = [10, 20, 30, 40]\n",
    "l2 = ['X', 'Y', 'Z']\n",
    "print(\"Original list:\")\n",
    "print(l1)\n",
    "print(\"S\")\n",
    "print(sub_lists(l1))\n",
    "print(\"Sublists of the said list:\")\n",
    "print(sub_lists(l1))\n",
    "print(\"\\nOriginal list:\")\n",
    "print(l2)\n",
    "print(\"Sublists of the said list:\")\n",
    "print(sub_lists(l2))"
   ]
  },
  {
   "cell_type": "markdown",
   "metadata": {},
   "source": [
    "### Write a Python program to create a list by concatenating a given list which range goes from 1 to n"
   ]
  },
  {
   "cell_type": "raw",
   "metadata": {},
   "source": [
    "Sample list : ['p', 'q']\n",
    "n =5\n",
    "Sample Output : ['p1', 'q1', 'p2', 'q2', 'p3', 'q3', 'p4', 'q4', 'p5', 'q5']"
   ]
  },
  {
   "cell_type": "code",
   "execution_count": 68,
   "metadata": {},
   "outputs": [],
   "source": [
    "lst = ['p', 'q']"
   ]
  },
  {
   "cell_type": "code",
   "execution_count": 78,
   "metadata": {},
   "outputs": [
    {
     "data": {
      "text/plain": [
       "['p1', 'q1', 'p2', 'q2', 'p3', 'q3', 'p4', 'q4', 'p5', 'q5']"
      ]
     },
     "execution_count": 78,
     "metadata": {},
     "output_type": "execute_result"
    }
   ],
   "source": [
    "final_list = []\n",
    "n = 5\n",
    "for i in range(1,n+1):\n",
    "    for item in lst:\n",
    "        final_list.append(item+str(i))\n",
    "final_list"
   ]
  },
  {
   "cell_type": "code",
   "execution_count": 77,
   "metadata": {},
   "outputs": [
    {
     "name": "stdout",
     "output_type": "stream",
     "text": [
      "['p1', 'q1', 'p2', 'q2', 'p3', 'q3', 'p4', 'q4', 'p5', 'q5']\n"
     ]
    }
   ],
   "source": [
    "#USing List COmprehension\n",
    "my_list = ['p', 'q']\n",
    "n = 5\n",
    "new_list = ['{}{}'.format(x, y) for y in range(1, n+1) for x in my_list]\n",
    "print(new_list)\n"
   ]
  },
  {
   "cell_type": "markdown",
   "metadata": {},
   "source": [
    "### Write a Python program to get variable unique identification number or string."
   ]
  },
  {
   "cell_type": "code",
   "execution_count": 79,
   "metadata": {},
   "outputs": [
    {
     "name": "stdout",
     "output_type": "stream",
     "text": [
      "7ff805ac9fa0\n",
      "2de25d3ce70\n"
     ]
    }
   ],
   "source": [
    "x = 100\n",
    "print(format(id(x), 'x'))\n",
    "s = 'w3resource'\n",
    "print(format(id(s), 'x'))"
   ]
  },
  {
   "cell_type": "markdown",
   "metadata": {},
   "source": [
    "### Find common items from two lists"
   ]
  },
  {
   "cell_type": "code",
   "execution_count": 80,
   "metadata": {},
   "outputs": [
    {
     "name": "stdout",
     "output_type": "stream",
     "text": [
      "{'Green', 'White'}\n"
     ]
    }
   ],
   "source": [
    "color1 = [\"Red\", \"Green\", \"Orange\", \"White\"]\n",
    "color2 = [\"Black\", \"Green\", \"White\", \"Pink\"]\n",
    "print(set(color1).intersection(set(color2)))"
   ]
  },
  {
   "cell_type": "markdown",
   "metadata": {},
   "source": [
    "### Write a Python program to change the position of every n-th value with the (n+1)th in a list"
   ]
  },
  {
   "cell_type": "raw",
   "metadata": {},
   "source": [
    "Sample list: [0,1,2,3,4,5]\n",
    "Expected Output: [1, 0, 3, 2, 5, 4]"
   ]
  },
  {
   "cell_type": "code",
   "execution_count": 98,
   "metadata": {},
   "outputs": [
    {
     "data": {
      "text/plain": [
       "[1, 0, 3, 2, 5, 4]"
      ]
     },
     "execution_count": 98,
     "metadata": {},
     "output_type": "execute_result"
    }
   ],
   "source": [
    "lst = [0,1,2,3,4,5]\n",
    "from itertools import zip_longest, chain\n",
    "zipped_list = zip_longest(lst[1::2],lst[::2])\n",
    "zip_list = list(zipped_list)\n",
    "list(chain(*zip_list))"
   ]
  },
  {
   "cell_type": "markdown",
   "metadata": {},
   "source": [
    "### Split a list based on first character of word"
   ]
  },
  {
   "cell_type": "code",
   "execution_count": 99,
   "metadata": {},
   "outputs": [
    {
     "name": "stdout",
     "output_type": "stream",
     "text": [
      "a\n",
      "ask\n",
      "b\n",
      "be\n",
      "c\n",
      "call\n",
      "come\n",
      "d\n",
      "do\n",
      "f\n",
      "feel\n",
      "find\n",
      "g\n",
      "get\n",
      "give\n",
      "go\n",
      "h\n",
      "have\n",
      "k\n",
      "know\n",
      "l\n",
      "leave\n",
      "look\n",
      "m\n",
      "make\n",
      "s\n",
      "say\n",
      "see\n",
      "seem\n",
      "t\n",
      "take\n",
      "tell\n",
      "think\n",
      "u\n",
      "use\n",
      "w\n",
      "want\n",
      "work\n"
     ]
    }
   ],
   "source": [
    "from itertools import groupby\n",
    "from operator import itemgetter\n",
    "\n",
    "word_list = ['be','have','do','say','get','make','go','know','take','see','come','think',\n",
    "     'look','want','give','use','find','tell','ask','work','seem','feel','leave','call']\n",
    "\n",
    "for letter, words in groupby(sorted(word_list), key=itemgetter(0)):\n",
    "    print(letter)\n",
    "    for word in words:\n",
    "        print(word)\n"
   ]
  },
  {
   "cell_type": "markdown",
   "metadata": {},
   "source": [
    "### Write a Python program to split a list into different variables."
   ]
  },
  {
   "cell_type": "code",
   "execution_count": 100,
   "metadata": {},
   "outputs": [
    {
     "name": "stdout",
     "output_type": "stream",
     "text": [
      "('Black', '#000000', 'rgb(0, 0, 0)')\n",
      "('Red', '#FF0000', 'rgb(255, 0, 0)')\n",
      "('Yellow', '#FFFF00', 'rgb(255, 255, 0)')\n"
     ]
    }
   ],
   "source": [
    "color = [(\"Black\", \"#000000\", \"rgb(0, 0, 0)\"), (\"Red\", \"#FF0000\", \"rgb(255, 0, 0)\"),\n",
    "         (\"Yellow\", \"#FFFF00\", \"rgb(255, 255, 0)\")]\n",
    "var1, var2, var3 = color\n",
    "print(var1)\n",
    "print(var2)\n",
    "print(var3)\n"
   ]
  },
  {
   "cell_type": "markdown",
   "metadata": {},
   "source": [
    "### Generate groups of five consecutive numbers in a list"
   ]
  },
  {
   "cell_type": "code",
   "execution_count": 104,
   "metadata": {},
   "outputs": [
    {
     "name": "stdout",
     "output_type": "stream",
     "text": [
      "[[1, 2, 3, 4, 5], [6, 7, 8, 9, 10], [11, 12, 13, 14, 15], [16, 17, 18, 19, 20], [21, 22, 23, 24, 25]]\n"
     ]
    }
   ],
   "source": [
    "inner_list = []\n",
    "outer_list=[]\n",
    "for i in range(5):\n",
    "    inner_list=[]\n",
    "    for j in range(1,6):\n",
    "        inner_list.append(5*i+j)\n",
    "    outer_list.append(inner_list)\n",
    "print(outer_list)"
   ]
  },
  {
   "cell_type": "code",
   "execution_count": 105,
   "metadata": {},
   "outputs": [
    {
     "name": "stdout",
     "output_type": "stream",
     "text": [
      "[[1, 2, 3, 4, 5], [6, 7, 8, 9, 10], [11, 12, 13, 14, 15], [16, 17, 18, 19, 20], [21, 22, 23, 24, 25]]\n"
     ]
    }
   ],
   "source": [
    "#Using list comprehension\n",
    "l = [[5*i + j for j in range(1,6)] for i in range(5)]\n",
    "print(l)"
   ]
  },
  {
   "cell_type": "code",
   "execution_count": null,
   "metadata": {},
   "outputs": [],
   "source": []
  }
 ],
 "metadata": {
  "kernelspec": {
   "display_name": "Python 3",
   "language": "python",
   "name": "python3"
  },
  "language_info": {
   "codemirror_mode": {
    "name": "ipython",
    "version": 3
   },
   "file_extension": ".py",
   "mimetype": "text/x-python",
   "name": "python",
   "nbconvert_exporter": "python",
   "pygments_lexer": "ipython3",
   "version": "3.7.3"
  }
 },
 "nbformat": 4,
 "nbformat_minor": 2
}
