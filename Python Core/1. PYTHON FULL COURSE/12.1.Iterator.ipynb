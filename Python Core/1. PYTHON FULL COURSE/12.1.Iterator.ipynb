{
 "cells": [
  {
   "cell_type": "code",
   "execution_count": 1,
   "metadata": {},
   "outputs": [],
   "source": []
  },
  {
   "cell_type": "raw",
   "metadata": {},
   "source": [
    "Objects that can be used with a for loop are called iterators. An iterator is,\n",
    "therefore, an object that follows the iteration protocol.\n",
    "The built-in iter method can be used to build iterator objects, while the next\n",
    "method can be used to gradually iterate over their content:"
   ]
  },
  {
   "cell_type": "code",
   "execution_count": 9,
   "metadata": {},
   "outputs": [
    {
     "name": "stdout",
     "output_type": "stream",
     "text": [
      "1\n",
      "2\n",
      "3\n"
     ]
    }
   ],
   "source": [
    "my_iter = iter([1, 2, 3])\n",
    "print(next(my_iter))\n",
    "print(next(my_iter))\n",
    "print(next(my_iter))"
   ]
  },
  {
   "cell_type": "code",
   "execution_count": 48,
   "metadata": {},
   "outputs": [],
   "source": [
    "my_iter = iter([1, 2, 3])"
   ]
  },
  {
   "cell_type": "code",
   "execution_count": 49,
   "metadata": {},
   "outputs": [
    {
     "data": {
      "text/plain": [
       "1"
      ]
     },
     "execution_count": 49,
     "metadata": {},
     "output_type": "execute_result"
    }
   ],
   "source": [
    "my_iter.__next__() ## If u run it 4 times it will give stopIteration error"
   ]
  },
  {
   "cell_type": "markdown",
   "metadata": {},
   "source": [
    "### Iterator Classes"
   ]
  },
  {
   "cell_type": "raw",
   "metadata": {},
   "source": [
    "Iterators can be implemented as classes; you just need to implement the __next__ and __iter__ methods. Here’s an example of a class that mimics the\n",
    "range function, returning all values from a to b :"
   ]
  },
  {
   "cell_type": "code",
   "execution_count": 55,
   "metadata": {},
   "outputs": [],
   "source": [
    "class MyRange:\n",
    "    def __init__(self, a, b):\n",
    "        self.a = a\n",
    "        self.b = b\n",
    "    def __iter__(self): # returns the iterator object itself\n",
    "        return self\n",
    "    def __next__(self): # returns the next item in the sequence\n",
    "        if self.a < self.b:\n",
    "            value = self.a\n",
    "            self.a += 1\n",
    "            return value\n",
    "        else:\n",
    "            raise StopIteration\n",
    "myrange = MyRange(1, 4)"
   ]
  },
  {
   "cell_type": "raw",
   "metadata": {},
   "source": [
    "Basically, on every call to next , it moves forward the internal variable a and\n",
    "returns its value. When it reaches b , it raises the StopIteration exception. You\n",
    "can observe this behavior by uncommenting the last line."
   ]
  },
  {
   "cell_type": "code",
   "execution_count": 56,
   "metadata": {},
   "outputs": [
    {
     "name": "stdout",
     "output_type": "stream",
     "text": [
      "1\n",
      "2\n",
      "3\n"
     ]
    }
   ],
   "source": [
    "## Iteration Process 1\n",
    "print (myrange.__next__())\n",
    "print (myrange.__next__())\n",
    "print (myrange.__next__())\n",
    "##print (myrange.__next__())"
   ]
  },
  {
   "cell_type": "code",
   "execution_count": 57,
   "metadata": {},
   "outputs": [],
   "source": [
    "class MyRange:\n",
    "    def __init__(self, a, b):\n",
    "        self.a = a\n",
    "        self.b = b\n",
    "    def __iter__(self): # returns the iterator object itself\n",
    "        return self\n",
    "    def __next__(self): # returns the next item in the sequence\n",
    "        if self.a < self.b:\n",
    "            value = self.a\n",
    "            self.a += 1\n",
    "            return value\n",
    "        else:\n",
    "            raise StopIteration\n",
    "myrange = MyRange(1, 4)"
   ]
  },
  {
   "cell_type": "code",
   "execution_count": 58,
   "metadata": {},
   "outputs": [
    {
     "name": "stdout",
     "output_type": "stream",
     "text": [
      "1\n",
      "2\n",
      "3\n"
     ]
    }
   ],
   "source": [
    "## Iteration Process 2\n",
    "print (next(myrange))\n",
    "print (next(myrange))\n",
    "print (next(myrange))\n",
    "##print (myrange.__next__())"
   ]
  },
  {
   "cell_type": "code",
   "execution_count": 62,
   "metadata": {},
   "outputs": [],
   "source": [
    "class MyRange:\n",
    "    def __init__(self, a, b):\n",
    "        self.a = a\n",
    "        self.b = b\n",
    "    def __iter__(self): # returns the iterator object itself\n",
    "        return self\n",
    "    def __next__(self): # returns the next item in the sequence\n",
    "        if self.a < self.b:\n",
    "            value = self.a\n",
    "            self.a += 1\n",
    "            return value\n",
    "        else:\n",
    "            raise StopIteration\n",
    "myrange = MyRange(1, 4)"
   ]
  },
  {
   "cell_type": "code",
   "execution_count": 63,
   "metadata": {},
   "outputs": [
    {
     "name": "stdout",
     "output_type": "stream",
     "text": [
      "1\n",
      "2\n",
      "3\n"
     ]
    }
   ],
   "source": [
    "## Iteration Process 3\n",
    "for elem in myrange:\n",
    "    print(elem)"
   ]
  },
  {
   "cell_type": "markdown",
   "metadata": {},
   "source": [
    "#### 1. Problem Statement\n",
    "Edit the following iterator class to return all the positive even numbers from 1 to (n)"
   ]
  },
  {
   "cell_type": "raw",
   "metadata": {},
   "source": [
    "Input #\n",
    "A number n\n",
    "Output #\n",
    "The range of positive even number uptil n\n",
    "Sample Input #\n",
    "8\n",
    "Sample Output #\n",
    "[2, 4, 6, 8]"
   ]
  },
  {
   "cell_type": "code",
   "execution_count": 84,
   "metadata": {},
   "outputs": [
    {
     "name": "stdout",
     "output_type": "stream",
     "text": [
      "[2, 4, 6, 8]\n"
     ]
    }
   ],
   "source": [
    "class MyRange:\n",
    "    i = 1\n",
    "    def __init__(self, n):\n",
    "        self.n = n\n",
    "    def __iter__(self):\n",
    "        return self\n",
    "    def next(self):\n",
    "        arr1 = []\n",
    "        while self.n+1 > self.i:\n",
    "            value = self.i\n",
    "            if(value%2 ==0):\n",
    "                arr1.append(value)                \n",
    "            self.i +=1\n",
    "        return arr1\n",
    "\n",
    "myrange = MyRange(8)\n",
    "print (myrange.next())"
   ]
  },
  {
   "cell_type": "markdown",
   "metadata": {},
   "source": [
    "#### 2. Problem Statement\n",
    "Edit the following class, such that it returns all numbers from n down to 0."
   ]
  },
  {
   "cell_type": "raw",
   "metadata": {},
   "source": [
    "Input #\n",
    "A number n\n",
    "Output #\n",
    "The range of numbers from n down to 0\n",
    "Sample Input #\n",
    "8\n",
    "Sample Output #\n",
    "[8, 7, 6, 5, 4, 3, 2, 1, 0]"
   ]
  },
  {
   "cell_type": "code",
   "execution_count": 87,
   "metadata": {},
   "outputs": [
    {
     "name": "stdout",
     "output_type": "stream",
     "text": [
      "[8, 7, 6, 5, 4, 3, 2, 1, 0]\n"
     ]
    }
   ],
   "source": [
    "class MyRange:\n",
    "    i = 1\n",
    "    def __init__(self, n):\n",
    "        self.n = n\n",
    "    def __iter__(self):\n",
    "        return self\n",
    "    def next(self):\n",
    "        arr1 = []\n",
    "        for elem in range(self.n,-1,-1):\n",
    "            arr1.append(elem)\n",
    "        return arr1\n",
    "myRange = MyRange(8)\n",
    "print(myRange.next())"
   ]
  },
  {
   "cell_type": "markdown",
   "metadata": {},
   "source": [
    "#### 3. Problem Statement\n",
    "Edit the following iterator class to return the Fibonacci sequence from the first element up to the n th element."
   ]
  },
  {
   "cell_type": "raw",
   "metadata": {},
   "source": [
    "Input #\n",
    "A number n\n",
    "Output #\n",
    "The range of fibonacci numbers from 0 to n\n",
    "Sample Input #\n",
    "8\n",
    "Sample Output #\n",
    "[0, 1, 1, 2, 3, 5, 8, 13]"
   ]
  },
  {
   "cell_type": "code",
   "execution_count": 91,
   "metadata": {},
   "outputs": [
    {
     "name": "stdout",
     "output_type": "stream",
     "text": [
      "[0, 1, 1, 2, 3, 5, 8, 13]\n"
     ]
    }
   ],
   "source": [
    "class Fibonacci:\n",
    "    i = 1\n",
    "    def __init__(self, n):\n",
    "        self.n = n\n",
    "    def __iter__(self):\n",
    "        return self\n",
    "    def next(self):\n",
    "        myArray = []\n",
    "        for i in range(self.n): # from n to 0\n",
    "            if i == 0 or i == 1:\n",
    "                myArray.append(i) # adds the even number to the list\n",
    "            else:\n",
    "                myArray.append(myArray[i-2] + myArray[i-1])\n",
    "        return myArray\n",
    "        \n",
    "        \n",
    "Fibonacci = Fibonacci(8)\n",
    "print(Fibonacci.next())"
   ]
  },
  {
   "cell_type": "code",
   "execution_count": null,
   "metadata": {},
   "outputs": [],
   "source": []
  }
 ],
 "metadata": {
  "kernelspec": {
   "display_name": "Python 3",
   "language": "python",
   "name": "python3"
  },
  "language_info": {
   "codemirror_mode": {
    "name": "ipython",
    "version": 3
   },
   "file_extension": ".py",
   "mimetype": "text/x-python",
   "name": "python",
   "nbconvert_exporter": "python",
   "pygments_lexer": "ipython3",
   "version": "3.8.5"
  }
 },
 "nbformat": 4,
 "nbformat_minor": 4
}
