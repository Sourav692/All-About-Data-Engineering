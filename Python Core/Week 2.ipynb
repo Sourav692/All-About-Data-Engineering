{
 "cells": [
  {
   "cell_type": "markdown",
   "metadata": {},
   "source": [
    "### FOCUS MAINLY ON STRING"
   ]
  },
  {
   "cell_type": "markdown",
   "metadata": {},
   "source": [
    "#### Question 1"
   ]
  },
  {
   "cell_type": "markdown",
   "metadata": {},
   "source": [
    "#### STRING TO LIST"
   ]
  },
  {
   "cell_type": "code",
   "execution_count": 1,
   "metadata": {},
   "outputs": [
    {
     "data": {
      "text/plain": [
       "['S', 'O', 'U', 'R', 'A', 'V']"
      ]
     },
     "execution_count": 1,
     "metadata": {},
     "output_type": "execute_result"
    }
   ],
   "source": [
    "str1 = \"SOURAV\"\n",
    "lis1 = list(str1)\n",
    "lis1"
   ]
  },
  {
   "cell_type": "code",
   "execution_count": 8,
   "metadata": {},
   "outputs": [
    {
     "data": {
      "text/plain": [
       "['S', 'O', 'U', 'R', 'A', 'V']"
      ]
     },
     "execution_count": 8,
     "metadata": {},
     "output_type": "execute_result"
    }
   ],
   "source": [
    "lis2 = []\n",
    "for s in str1:\n",
    "    lis2.append(s)\n",
    "lis2"
   ]
  },
  {
   "cell_type": "code",
   "execution_count": 14,
   "metadata": {},
   "outputs": [
    {
     "data": {
      "text/plain": [
       "['S', 'O', 'U', 'R', 'A', 'V']"
      ]
     },
     "execution_count": 14,
     "metadata": {},
     "output_type": "execute_result"
    }
   ],
   "source": [
    "str2 = \"S,O,U,R,A,V\"\n",
    "lis2 = str2.split(\",\")\n",
    "lis2"
   ]
  },
  {
   "cell_type": "code",
   "execution_count": 19,
   "metadata": {},
   "outputs": [
    {
     "data": {
      "text/plain": [
       "['S', 'O', 'U', 'R', 'A', 'V']"
      ]
     },
     "execution_count": 19,
     "metadata": {},
     "output_type": "execute_result"
    }
   ],
   "source": [
    "lis2 = []\n",
    "for s in str2:\n",
    "    if s !=\",\":\n",
    "        lis2.append(s)\n",
    "lis2"
   ]
  },
  {
   "cell_type": "markdown",
   "metadata": {},
   "source": [
    "#### Question 2"
   ]
  },
  {
   "cell_type": "markdown",
   "metadata": {},
   "source": [
    "#### LIST TO STRING"
   ]
  },
  {
   "cell_type": "code",
   "execution_count": 22,
   "metadata": {},
   "outputs": [
    {
     "data": {
      "text/plain": [
       "'PYTHON'"
      ]
     },
     "execution_count": 22,
     "metadata": {},
     "output_type": "execute_result"
    }
   ],
   "source": [
    "lis3 = [\"P\",\"Y\",\"T\",\"H\",\"O\",\"N\"]\n",
    "str3 = \"\".join(lis3)\n",
    "str3"
   ]
  },
  {
   "cell_type": "markdown",
   "metadata": {},
   "source": [
    "#### Question 3"
   ]
  },
  {
   "cell_type": "code",
   "execution_count": 38,
   "metadata": {},
   "outputs": [
    {
     "data": {
      "text/plain": [
       "['the', 'quick', 'brown', 'fox', 'jumps', 'over', 'the', 'lazy', 'dog.']"
      ]
     },
     "execution_count": 38,
     "metadata": {},
     "output_type": "execute_result"
    }
   ],
   "source": [
    "#split word in a sentence\n",
    "sentence = 'the quick brown fox jumps over the lazy dog.'\n",
    "lis4 = sentence.split(\" \")\n",
    "lis4"
   ]
  },
  {
   "cell_type": "markdown",
   "metadata": {},
   "source": [
    "#### Question 4"
   ]
  },
  {
   "cell_type": "code",
   "execution_count": 4,
   "metadata": {},
   "outputs": [
    {
     "name": "stdout",
     "output_type": "stream",
     "text": [
      "['the', 'quick', 'brown', 'fox', 'jumps', 'over', 'the', 'lazy', 'dog.']\n"
     ]
    }
   ],
   "source": [
    "#  Write a Python program to count the occurrences of each word in a given sentence\n",
    "\n",
    "sentence = 'the quick brown fox jumps over the lazy dog.'\n",
    "\n",
    "freq = {}\n",
    "lis5 = sentence.split(\" \")\n",
    "for elem in lis5:\n",
    "    freq[elem] = freq.get(elem,0) +1\n",
    "freq\n",
    "print(lis5)\n"
   ]
  },
  {
   "cell_type": "markdown",
   "metadata": {},
   "source": [
    "#### Question 5"
   ]
  },
  {
   "cell_type": "code",
   "execution_count": 7,
   "metadata": {},
   "outputs": [
    {
     "name": "stdout",
     "output_type": "stream",
     "text": [
      "{'t': 2, 'h': 2, 'e': 3, 'q': 1, 'u': 2, 'i': 1, 'c': 1, 'k': 1, 'b': 1, 'r': 2, 'o': 4, 'w': 1, 'n': 1, 'f': 1, 'x': 1, 'j': 1, 'm': 1, 'p': 1, 's': 1, 'v': 1, 'l': 1, 'a': 1, 'z': 1, 'y': 1, 'd': 1, 'g': 1, '.': 1}\n",
      "[(0, 't'), (1, 'h'), (2, 'e'), (3, ' '), (4, 'q'), (5, 'u'), (6, 'i'), (7, 'c'), (8, 'k'), (9, ' '), (10, 'b'), (11, 'r'), (12, 'o'), (13, 'w'), (14, 'n'), (15, ' '), (16, 'f'), (17, 'o'), (18, 'x'), (19, ' '), (20, 'j'), (21, 'u'), (22, 'm'), (23, 'p'), (24, 's'), (25, ' '), (26, 'o'), (27, 'v'), (28, 'e'), (29, 'r'), (30, ' '), (31, 't'), (32, 'h'), (33, 'e'), (34, ' '), (35, 'l'), (36, 'a'), (37, 'z'), (38, 'y'), (39, ' '), (40, 'd'), (41, 'o'), (42, 'g'), (43, '.')]\n"
     ]
    }
   ],
   "source": [
    "#Count the number of letter in a given sentence\n",
    "sentence1 = 'the quick brown fox jumps over the lazy dog.'\n",
    "list6 = list(enumerate(sentence1))  ## uSING THIS WE DONT HAVE TO USE 2 LOOPS\n",
    "freq = {}\n",
    "for elem in list6:\n",
    "    if elem[1] != \" \":\n",
    "        freq[elem[1]] = freq.get(elem[1],0) +1\n",
    "    else:\n",
    "        pass\n",
    "    \n",
    "print(freq)\n",
    "print(list6)"
   ]
  },
  {
   "cell_type": "markdown",
   "metadata": {},
   "source": [
    "#### Question 6"
   ]
  },
  {
   "cell_type": "code",
   "execution_count": 56,
   "metadata": {},
   "outputs": [
    {
     "name": "stdout",
     "output_type": "stream",
     "text": [
      "dbca\n"
     ]
    }
   ],
   "source": [
    "# Write a Python program to change a given string to a new string where the first and last chars have been exchanged\n",
    "string1 = \"abcd\"\n",
    "lis7 = list(string1)\n",
    "\n",
    "lis7[0],lis7[-1] = lis7[-1],lis7[0]\n",
    "print(\"\".join(lis7))"
   ]
  },
  {
   "cell_type": "markdown",
   "metadata": {},
   "source": [
    "#### Question 7"
   ]
  },
  {
   "cell_type": "code",
   "execution_count": 1,
   "metadata": {},
   "outputs": [
    {
     "name": "stdout",
     "output_type": "stream",
     "text": [
      "<i>Python</i>\n",
      "<b>Python Tutorial</b>\n"
     ]
    }
   ],
   "source": [
    "# Write a Python function to create the HTML string with tags around the word(s).\n",
    "# Sample function and result : \n",
    "# add_tags('i', 'Python') -> '<i>Python</i>'\n",
    "# add_tags('b', 'Python Tutorial') -> '<b>Python Tutorial </b>'\n",
    "\n",
    "def add_tags(tag, word):\n",
    "\treturn \"<%s>%s</%s>\" % (tag, word, tag)\n",
    "\n",
    "print(add_tags('i', 'Python'))\n",
    "print(add_tags('b', 'Python Tutorial'))"
   ]
  },
  {
   "cell_type": "markdown",
   "metadata": {},
   "source": [
    "#### Question 8"
   ]
  },
  {
   "cell_type": "code",
   "execution_count": 35,
   "metadata": {},
   "outputs": [
    {
     "name": "stdout",
     "output_type": "stream",
     "text": [
      "Longest Word is:  Exercises\n"
     ]
    }
   ],
   "source": [
    "# Write a Python function that takes a list of words and returns the length of the longest one\n",
    "from operator import itemgetter, attrgetter\n",
    "\n",
    "listOfWords = [\"PHP\", \"Exercises\", \"Backend\"]\n",
    "lis1 = []\n",
    "for element in listOfWords:\n",
    "    lis1.append((element,len(element)))\n",
    "print(\"Longest Word is: \",sorted(lis1, key=itemgetter(1),reverse=True)[0][0])    "
   ]
  },
  {
   "cell_type": "markdown",
   "metadata": {},
   "source": [
    "#### Question 9"
   ]
  },
  {
   "cell_type": "code",
   "execution_count": 36,
   "metadata": {},
   "outputs": [
    {
     "name": "stdout",
     "output_type": "stream",
     "text": [
      "ython\n",
      "Pyton\n",
      "Pytho\n"
     ]
    }
   ],
   "source": [
    "# Write a Python program to remove the nth index character from a nonempty string\n",
    "\n",
    "def remove_char(str, n):\n",
    "      first_part = str[:n] \n",
    "      last_pasrt = str[n+1:]\n",
    "      return first_part + last_pasrt\n",
    "    \n",
    "print(remove_char('Python', 0))\n",
    "print(remove_char('Python', 3))\n",
    "print(remove_char('Python', 5))"
   ]
  },
  {
   "cell_type": "markdown",
   "metadata": {},
   "source": [
    "#### Question 10"
   ]
  },
  {
   "cell_type": "code",
   "execution_count": 40,
   "metadata": {},
   "outputs": [
    {
     "name": "stdout",
     "output_type": "stream",
     "text": [
      "dog. lazy the over jumps fox brown quick The\n",
      "Exercises. Python\n"
     ]
    }
   ],
   "source": [
    "# 'The quick brown fox jumps over the lazy dog.'\n",
    "# input : \"The quick brown fox jumps over the lazy dog.\"\n",
    "# output : \"dog. lazy the over jumps fox brown quick The \"\n",
    "\n",
    "def reverse_string_words(sentence):\n",
    "    lis = sentence.split(\" \")\n",
    "    reverse_lis = lis[::-1]\n",
    "    reverse_sentence = \" \".join(reverse_lis)\n",
    "    return reverse_sentence\n",
    "    \n",
    "print(reverse_string_words(\"The quick brown fox jumps over the lazy dog.\"))\n",
    "print(reverse_string_words(\"Python Exercises.\"))"
   ]
  },
  {
   "cell_type": "markdown",
   "metadata": {},
   "source": [
    "#### Question 11"
   ]
  },
  {
   "cell_type": "code",
   "execution_count": 42,
   "metadata": {},
   "outputs": [
    {
     "name": "stdout",
     "output_type": "stream",
     "text": [
      "Input comma separated sequence of words python,awesome,language,python,top\n",
      "awesome,language,python,top\n"
     ]
    }
   ],
   "source": [
    "# Write a Python program that accepts a comma separated sequence of words as input and prints the unique words in sorted form (alphanumerically)\n",
    "\n",
    "items = input(\"Input comma separated sequence of words \")\n",
    "words = [word for word in items.split(\",\")]\n",
    "print(\",\".join(sorted(list(set(words)))))"
   ]
  },
  {
   "cell_type": "code",
   "execution_count": null,
   "metadata": {},
   "outputs": [],
   "source": []
  }
 ],
 "metadata": {
  "kernelspec": {
   "display_name": "Python 3",
   "language": "python",
   "name": "python3"
  },
  "language_info": {
   "codemirror_mode": {
    "name": "ipython",
    "version": 3
   },
   "file_extension": ".py",
   "mimetype": "text/x-python",
   "name": "python",
   "nbconvert_exporter": "python",
   "pygments_lexer": "ipython3",
   "version": "3.8.5"
  }
 },
 "nbformat": 4,
 "nbformat_minor": 4
}
