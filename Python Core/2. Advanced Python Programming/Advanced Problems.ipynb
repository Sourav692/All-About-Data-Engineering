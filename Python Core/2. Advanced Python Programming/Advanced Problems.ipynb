{
 "cells": [
  {
   "cell_type": "markdown",
   "metadata": {},
   "source": [
    "### Exercise 0\n",
    "\n",
    "Print the Python version to the console.\n"
   ]
  },
  {
   "cell_type": "code",
   "execution_count": 5,
   "metadata": {},
   "outputs": [
    {
     "name": "stdout",
     "output_type": "stream",
     "text": [
      "3.8.12\n"
     ]
    }
   ],
   "source": [
    "import sys\n",
    "\n",
    "print(sys.version.split()[0])"
   ]
  },
  {
   "cell_type": "markdown",
   "metadata": {},
   "source": [
    "### Exercise 1\n",
    "\n",
    "All natural numbers divisible by 5 or 7 less than 20 are: [0, 5, 7, 10, 14, 15]. The sum of these numbers is: 51. In this exercise, we treat zero as a natural number.\n",
    "\n",
    "Find the sum of all numbers that are divisible by 5 or 7 less than 100.\n",
    "\n",
    "\n",
    "Present the solution in the form of a function called calculate(). In response, call calculate() function and print the result to the console.\n",
    "\n",
    "Expected result:\n",
    "\n",
    "    1580"
   ]
  },
  {
   "cell_type": "code",
   "execution_count": 7,
   "metadata": {},
   "outputs": [
    {
     "name": "stdout",
     "output_type": "stream",
     "text": [
      "1580\n"
     ]
    }
   ],
   "source": [
    "\n",
    "def calculate():\n",
    "    sum = 0\n",
    "    for elem in range(0,100):\n",
    "        if elem%5 == 0 or elem%7 == 0:\n",
    "            sum += elem\n",
    "    return sum\n",
    "\n",
    "print(calculate())"
   ]
  },
  {
   "cell_type": "markdown",
   "metadata": {},
   "source": [
    "### Exercise 2\n",
    "\n",
    "Consider the Fibonacci sequence. It is a sequence of natural numbers defined recursively as follows:\n",
    "\n",
    "the first element of the sequence is 0\n",
    "\n",
    "the second element of the sequence is 1\n",
    "\n",
    "each next element of the sequence is the sum of the previous two elements\n",
    "\n",
    "\n",
    "\n",
    "The beginning of the Fibonacci sequence:\n",
    "\n",
    "\n",
    "\n",
    "0, 1, 1, 2, 3, 5, 8, 13, 21, 34, 55, ... \n",
    "Find the sum of all even elements of the Fibonacci sequence with values less than 1,000,000 (1 million).\n",
    "\n",
    "\n",
    "\n",
    "Present the solution in the form of a function called calculate(). In response, call calculate() function and print the result to the console.\n",
    "\n",
    "\n",
    "\n",
    "Expected result:\n",
    "\n",
    "\n",
    "\n",
    "1089154"
   ]
  },
  {
   "cell_type": "markdown",
   "metadata": {},
   "source": [
    "Dont use Recurstion here as the input 1000000 is too much for recursion"
   ]
  },
  {
   "cell_type": "code",
   "execution_count": 98,
   "metadata": {},
   "outputs": [
    {
     "data": {
      "text/plain": [
       "44"
      ]
     },
     "execution_count": 98,
     "metadata": {},
     "output_type": "execute_result"
    }
   ],
   "source": [
    "def fibonacci(n):\n",
    "    if n == 0:\n",
    "        return 0\n",
    "    if n == 1 or n == 2:\n",
    "        return 1\n",
    "    \n",
    "    return fibonacci(n-2) + fibonacci(n-1)\n",
    "\n",
    "lis1 = []\n",
    "for n in range(1,10):\n",
    "    lis1.append(fibonacci(n))\n",
    "\n",
    "lis2 = sum([elem for elem in lis1 if elem%2 == 0])\n",
    "lis2\n",
    "\n"
   ]
  },
  {
   "cell_type": "code",
   "execution_count": 99,
   "metadata": {},
   "outputs": [
    {
     "name": "stdout",
     "output_type": "stream",
     "text": [
      "1089154\n"
     ]
    }
   ],
   "source": [
    "def calculate():\n",
    "    total = 0\n",
    "    a = 0\n",
    "    b = 1\n",
    "    while a < 1000000:\n",
    "        if a % 2 == 0:\n",
    "            total += a\n",
    "        a, b = b, a + b\n",
    "    return total\n",
    " \n",
    " \n",
    "print(calculate())"
   ]
  },
  {
   "cell_type": "code",
   "execution_count": 106,
   "metadata": {},
   "outputs": [],
   "source": [
    "def calculate(number):\n",
    "    i = 2\n",
    "    factors = []\n",
    "    while i * i <= number:\n",
    "        if not number % i == 0:\n",
    "            print(f\"i is {i}\")\n",
    "            i += 1\n",
    "        else:\n",
    "            number = number // i\n",
    "            print(number)\n",
    "            factors.append(i)\n",
    "    if number > 1:\n",
    "        factors.append(number)\n",
    "    return factors"
   ]
  },
  {
   "cell_type": "code",
   "execution_count": null,
   "metadata": {},
   "outputs": [],
   "source": []
  }
 ],
 "metadata": {
  "interpreter": {
   "hash": "0012cd877e37c553ce082c8a53dbb8150686811a71a997c633aba52086b562f8"
  },
  "kernelspec": {
   "display_name": "Python 3.8.12 64-bit ('pyspark3': conda)",
   "language": "python",
   "name": "python3"
  },
  "language_info": {
   "codemirror_mode": {
    "name": "ipython",
    "version": 3
   },
   "file_extension": ".py",
   "mimetype": "text/x-python",
   "name": "python",
   "nbconvert_exporter": "python",
   "pygments_lexer": "ipython3",
   "version": "3.8.12"
  },
  "orig_nbformat": 4
 },
 "nbformat": 4,
 "nbformat_minor": 2
}
