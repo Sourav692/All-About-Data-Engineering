{
 "cells": [
  {
   "cell_type": "markdown",
   "metadata": {},
   "source": [
    "1. https://www.geeksforgeeks.org/memory-management-in-python/\n",
    "2. https://realpython.com/python-memory-management/\n",
    "3. https://rushter.com/blog/python-memory-managment/\n",
    "4. https://towardsdatascience.com/memory-management-in-python-6bea0c8aecc9\n",
    "5. https://www.analyticsvidhya.com/blog/2021/04/an-overview-of-python-memory-management/\n",
    "6. https://www.javatpoint.com/python-memory-management ***"
   ]
  },
  {
   "cell_type": "code",
   "execution_count": null,
   "metadata": {},
   "outputs": [],
   "source": []
  }
 ],
 "metadata": {
  "language_info": {
   "name": "python"
  },
  "orig_nbformat": 4
 },
 "nbformat": 4,
 "nbformat_minor": 2
}
