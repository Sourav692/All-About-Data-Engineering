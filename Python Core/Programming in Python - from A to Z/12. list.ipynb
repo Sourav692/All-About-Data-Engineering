{
 "cells": [
  {
   "cell_type": "code",
   "execution_count": 1,
   "metadata": {},
   "outputs": [
    {
     "data": {
      "text/plain": [
       "3"
      ]
     },
     "execution_count": 1,
     "metadata": {},
     "output_type": "execute_result"
    }
   ],
   "source": [
    "1+2"
   ]
  },
  {
   "cell_type": "markdown",
   "metadata": {},
   "source": [
    "### Exercise 57\n",
    "To the given list:\n",
    "\n",
    "    cities = ['Los Angeles', 'New York', 'Chicago']\n",
    "append the city: 'Houston' and print the list to the console.\n",
    "\n",
    "Expected result:\n",
    "\n",
    "    ['Los Angeles', 'New York', 'Chicago', 'Houston']\n"
   ]
  },
  {
   "cell_type": "code",
   "execution_count": 2,
   "metadata": {},
   "outputs": [
    {
     "name": "stdout",
     "output_type": "stream",
     "text": [
      "['Los Angeles', 'New York', 'Chicago', 'Houston']\n"
     ]
    }
   ],
   "source": [
    "cities = ['Los Angeles', 'New York', 'Chicago']\n",
    "cities.append(\"Houston\")\n",
    "print(cities)"
   ]
  },
  {
   "cell_type": "markdown",
   "metadata": {},
   "source": [
    "### Exercise 58\n",
    "The following list is given:\n",
    "\n",
    "    idx = ['001', '002', '001', '003', '001']\n",
    "\n",
    "Using the appropriate method count the occurrences of '001'. Print the result to the console as shown below."
   ]
  },
  {
   "cell_type": "code",
   "execution_count": 44,
   "metadata": {},
   "outputs": [
    {
     "name": "stdout",
     "output_type": "stream",
     "text": [
      "Number of occurrences: 3\n"
     ]
    }
   ],
   "source": [
    "idx = ['001', '002', '001', '003', '001']\n",
    "print(f\"Number of occurrences: {idx.count('001')}\")"
   ]
  },
  {
   "cell_type": "markdown",
   "metadata": {},
   "source": [
    "### Exercise 59\n",
    "The following text is given:\n",
    "\n",
    "    text = 'Python programming'\n",
    "\n",
    "Standardize the text (replace uppercase letters with lowercase). Then create a list of unique characters in the text. Remove the space from this list and sort from a to z. After all print the list to the console.\n",
    "\n",
    "Tip: You can use a set to generate unique characters.\n",
    "\n",
    "Expected result:\n",
    "\n",
    "    ['a', 'g', 'h', 'i', 'm', 'n', 'o', 'p', 'r', 't', 'y']"
   ]
  },
  {
   "cell_type": "code",
   "execution_count": 39,
   "metadata": {},
   "outputs": [
    {
     "name": "stdout",
     "output_type": "stream",
     "text": [
      "['a', 'g', 'h', 'i', 'm', 'n', 'o', 'p', 'r', 't', 'y']\n"
     ]
    }
   ],
   "source": [
    "text = 'Python programming'\n",
    "lis1 = [elem for elem in [char for char in text.lower() if char != \" \"]]\n",
    "print(sorted(set(lis1)))"
   ]
  },
  {
   "cell_type": "markdown",
   "metadata": {},
   "source": [
    "### Exercise 60\n",
    "The following list is given:\n",
    "\n",
    "    filenames = ['view.jpg', 'bear.jpg', 'ball.png']\n",
    "\n",
    "Add the file 'phone.jpg' to this list at the beginning. Then delete the file 'ball.png'. In response, print the filenames list to the console.\n",
    "\n",
    "Expected result:\n",
    "\n",
    "    ['phone.jpg', 'view.jpg', 'bear.jpg']"
   ]
  },
  {
   "cell_type": "code",
   "execution_count": 16,
   "metadata": {},
   "outputs": [
    {
     "name": "stdout",
     "output_type": "stream",
     "text": [
      "['phone.jpg', 'view.jpg', 'bear.jpg']\n"
     ]
    }
   ],
   "source": [
    "filenames = ['view.jpg', 'bear.jpg', 'ball.png']\n",
    "filenames.insert(0, 'phone.jpg')\n",
    "filenames.remove('ball.png')\n",
    "print(filenames)\n"
   ]
  },
  {
   "cell_type": "code",
   "execution_count": 25,
   "metadata": {},
   "outputs": [
    {
     "data": {
      "text/plain": [
       "['view.jpg', 'bear.jpg']"
      ]
     },
     "execution_count": 25,
     "metadata": {},
     "output_type": "execute_result"
    }
   ],
   "source": [
    "filenames = ['view.jpg', 'bear.jpg', 'ball.png']\n",
    "del(filenames[-1])\n",
    "filenames"
   ]
  },
  {
   "cell_type": "markdown",
   "metadata": {},
   "source": [
    "\n",
    "### Exercise 61\n",
    "The following list represents order ids for a given day:\n",
    "\n",
    "    day1 = ['3984', '9042', '4829', '2380']\n",
    "\n",
    "Using the appropriate method, extend this list to the next day:\n",
    "\n",
    "    day2 = ['4231', '5234', '1345', '2455']\n",
    "\n",
    "Print the result to the console.\n",
    "Expected result:\n",
    "\n",
    "    ['3984', '9042', '4829', '2380', '4231', '5234', '1345', '2455']"
   ]
  },
  {
   "cell_type": "code",
   "execution_count": 13,
   "metadata": {},
   "outputs": [
    {
     "data": {
      "text/plain": [
       "['3984', '9042', '4829', '2380', '4231', '5234', '1345', '2455']"
      ]
     },
     "execution_count": 13,
     "metadata": {},
     "output_type": "execute_result"
    }
   ],
   "source": [
    "day1 = ['3984', '9042', '4829', '2380']\n",
    "day2 = ['4231', '5234', '1345', '2455']\n",
    "\n",
    "day1.extend(day2)\n",
    "\n",
    "print(day1)\n"
   ]
  },
  {
   "cell_type": "markdown",
   "metadata": {},
   "source": [
    "### Exercise 62\n",
    "The following tuple is given:\n",
    "\n",
    "    techs = ('python', 'java', 'sql', 'aws')\n",
    "\n",
    "Sort this tuple from a to z and print it to the console.\n",
    "\n",
    "Tip: Tuples are immutable. You have to create a new one.\n",
    "\n",
    "Expected result:\n",
    "\n",
    "    ('aws', 'java', 'python', 'sql')"
   ]
  },
  {
   "cell_type": "code",
   "execution_count": 9,
   "metadata": {},
   "outputs": [
    {
     "name": "stdout",
     "output_type": "stream",
     "text": [
      "('aws', 'java', 'python', 'sql')\n"
     ]
    }
   ],
   "source": [
    "techs = ('python', 'java', 'sql', 'aws')\n",
    "\n",
    "lis1 = list(techs)\n",
    "print(tuple(sorted(lis1)))"
   ]
  },
  {
   "cell_type": "markdown",
   "metadata": {},
   "source": [
    "### Exercise 63\n",
    "\n",
    "The following list is given:\n",
    "\n",
    "    hashtags = ['summer', 'time', 'vibes']\n",
    "\n",
    "Using the appropriate method, combine the elements of the list with the '#' character. Also add this sign to the beginning of the text and print the result to the console as shown below.\n",
    "\n",
    "Expected result:\n",
    "\n",
    "    '#summer#time#vibes'"
   ]
  },
  {
   "cell_type": "code",
   "execution_count": 5,
   "metadata": {},
   "outputs": [
    {
     "name": "stdout",
     "output_type": "stream",
     "text": [
      "#summer#time#vibes\n"
     ]
    }
   ],
   "source": [
    "hashtags = ['summer', 'time', 'vibes']\n",
    "\n",
    "str1 = \"#\"+\"#\".join(hashtags)\n",
    "print(str1)"
   ]
  }
 ],
 "metadata": {
  "interpreter": {
   "hash": "0012cd877e37c553ce082c8a53dbb8150686811a71a997c633aba52086b562f8"
  },
  "kernelspec": {
   "display_name": "Python 3.8.12 64-bit ('pyspark3': conda)",
   "language": "python",
   "name": "python3"
  },
  "language_info": {
   "codemirror_mode": {
    "name": "ipython",
    "version": 3
   },
   "file_extension": ".py",
   "mimetype": "text/x-python",
   "name": "python",
   "nbconvert_exporter": "python",
   "pygments_lexer": "ipython3",
   "version": "3.8.12"
  },
  "orig_nbformat": 4
 },
 "nbformat": 4,
 "nbformat_minor": 2
}
