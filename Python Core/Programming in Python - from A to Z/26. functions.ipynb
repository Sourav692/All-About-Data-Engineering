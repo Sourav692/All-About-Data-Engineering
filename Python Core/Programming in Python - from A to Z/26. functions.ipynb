{
 "cells": [
  {
   "cell_type": "markdown",
   "metadata": {},
   "source": [
    "### Exercise 125\n",
    "\n",
    "Implement a function called maximum() that returns the maximum of two numbers. Use conditional statement.\n",
    "Example:\n",
    "\n",
    "    [IN]: maximum(4, 2)\n",
    "    [OUT]: 4\n",
    "    [IN]: maximum(-4, 2)\n",
    "    [OUT]: 2"
   ]
  },
  {
   "cell_type": "code",
   "execution_count": 1,
   "metadata": {},
   "outputs": [],
   "source": [
    "def maximum(x,y):\n",
    "    if x>=y:\n",
    "        return x\n",
    "    else:\n",
    "        return y"
   ]
  },
  {
   "cell_type": "markdown",
   "metadata": {},
   "source": [
    "### Exercise 126\n",
    "\n",
    "Implement a function called maximum() that returns the maximum of three numbers. Use conditional statement.\n",
    "\n",
    "Example:\n",
    "\n",
    "    [IN]: maximum(4, 2, 1)\n",
    "    [OUT]: 4\n",
    "    [IN]: maximum(-3, 2, 5)\n",
    "    [OUT]: 5\n"
   ]
  },
  {
   "cell_type": "code",
   "execution_count": 2,
   "metadata": {},
   "outputs": [],
   "source": [
    "def maximum(x,y,z):\n",
    "    if x >=y:\n",
    "        if x>=z:\n",
    "            return x\n",
    "        else:\n",
    "            return z\n",
    "    else:\n",
    "        if y>=z:\n",
    "            return y\n",
    "        else:\n",
    "            return z"
   ]
  },
  {
   "cell_type": "code",
   "execution_count": 3,
   "metadata": {},
   "outputs": [
    {
     "data": {
      "text/plain": [
       "5"
      ]
     },
     "execution_count": 3,
     "metadata": {},
     "output_type": "execute_result"
    }
   ],
   "source": [
    "maximum(-3, 2, 5)"
   ]
  },
  {
   "cell_type": "markdown",
   "metadata": {},
   "source": [
    "### Exercise 127\n",
    "\n",
    "Implement a function called multi(), which accepts an iterable object (list, tuple) as an argument and returns the product of all elements of this iterable object.\n",
    "\n",
    "Example:\n",
    "\n",
    "    [IN]: multi((-4, 6, 2))\n",
    "    [OUT]: -48\n",
    "    [IN]: multi([4, 2, -5])\n",
    "    [OUT]: -40"
   ]
  },
  {
   "cell_type": "code",
   "execution_count": 9,
   "metadata": {},
   "outputs": [],
   "source": [
    "def multi(lis1):\n",
    "    import functools\n",
    "    return functools.reduce(lambda x,y:x*y,lis1)"
   ]
  },
  {
   "cell_type": "markdown",
   "metadata": {},
   "source": [
    "### Exercise 128\n",
    "\n",
    "Implement a function map_longest() that accepts the list of words and return the length of the longest word in this list.\n",
    "\n",
    "Example:\n",
    "\n",
    "    [IN]: map_longest(['python', 'sql'])\n",
    "    [OUT]: 6\n",
    "    [IN]: map_longest(['java', 'sql', 'r'])\n",
    "    [OUT]: 4"
   ]
  },
  {
   "cell_type": "code",
   "execution_count": 13,
   "metadata": {},
   "outputs": [],
   "source": [
    "def map_longest(lis1):\n",
    "    l = []\n",
    "    for elem in lis1:\n",
    "        l.append(len(elem))\n",
    "    return max(l)"
   ]
  },
  {
   "cell_type": "code",
   "execution_count": 12,
   "metadata": {},
   "outputs": [
    {
     "data": {
      "text/plain": [
       "4"
      ]
     },
     "execution_count": 12,
     "metadata": {},
     "output_type": "execute_result"
    }
   ],
   "source": [
    "map_longest(['java', 'sql', 'r'])"
   ]
  },
  {
   "cell_type": "markdown",
   "metadata": {},
   "source": [
    "### Exercise 129\n",
    "\n",
    "Implement a function called filter_ge_6() that takes a list of words and returns list of words with the length greater than or equal to 6 characters.\n",
    "\n",
    "Example:\n",
    "\n",
    "    [IN]: filter_ge_6(['programming', 'python', 'java', 'sql'])\n",
    "    [OUT]: ['programming', 'python']\n",
    "    \n",
    "    [IN]: filter_ge_6(['java', 'sql'])\n",
    "    [OUT]: []"
   ]
  },
  {
   "cell_type": "code",
   "execution_count": 14,
   "metadata": {},
   "outputs": [],
   "source": [
    "def filter_ge_6(lis1):\n",
    "    return [elem for elem in lis1 if len(elem) >=6]"
   ]
  },
  {
   "cell_type": "code",
   "execution_count": 18,
   "metadata": {},
   "outputs": [
    {
     "name": "stdout",
     "output_type": "stream",
     "text": [
      "[]\n",
      "['programming', 'python']\n"
     ]
    }
   ],
   "source": [
    "print(filter_ge_6(['java', 'sql']))\n",
    "print(filter_ge_6(['programming', 'python', 'java', 'sql']))"
   ]
  },
  {
   "cell_type": "markdown",
   "metadata": {},
   "source": [
    "### Exercise 130\n",
    "\n",
    "Implement a function called factorial() that calculates the factorial for a given number.\n",
    "\n",
    "Example:\n",
    "\n",
    "    [IN]: factorial(6)\n",
    "    [OUT]: 720\n",
    "    [IN]: factorial(10)\n",
    "    [OUT]: 3628800"
   ]
  },
  {
   "cell_type": "code",
   "execution_count": 19,
   "metadata": {},
   "outputs": [],
   "source": [
    "def factorial(n):\n",
    "    if n ==0:\n",
    "        return 1\n",
    "    return n * factorial(n-1)"
   ]
  },
  {
   "cell_type": "code",
   "execution_count": 20,
   "metadata": {},
   "outputs": [
    {
     "data": {
      "text/plain": [
       "3628800"
      ]
     },
     "execution_count": 20,
     "metadata": {},
     "output_type": "execute_result"
    }
   ],
   "source": [
    "factorial(10)"
   ]
  },
  {
   "cell_type": "markdown",
   "metadata": {},
   "source": [
    "### Exercise 131\n",
    "\n",
    "Implement a function count_str(), which returns the number of str objects in an iterable object (list, tuple, set).\n",
    "\n",
    "Example:\n",
    "\n",
    "    [IN]: count_str(['p', 2, 4.3, None])\n",
    "    [OUT]: 1\n",
    "    [IN]: count_str({'p', 2, 4.3, True, 'True', None})\n",
    "    [OUT]: 2"
   ]
  },
  {
   "cell_type": "code",
   "execution_count": 21,
   "metadata": {},
   "outputs": [],
   "source": [
    "def count_str(lis1):\n",
    "    return len([elem for elem in lis1 if isinstance(elem,str)])"
   ]
  },
  {
   "cell_type": "markdown",
   "metadata": {},
   "source": [
    "### Exercise 132\n",
    "\n",
    "Implement a function count_str(), which returns the number of str objects with a length more than 2 characters from an iterable object (list, tuple, set).\n",
    "Example:\n",
    "\n",
    "    [IN]: count_str([1, '#hello', '', 'python', 'go'])\n",
    "    [OUT]: 2\n",
    "    [IN]: count_str([1, 2, 3, 'python'])\n",
    "    [OUT]: 1"
   ]
  },
  {
   "cell_type": "code",
   "execution_count": 26,
   "metadata": {},
   "outputs": [],
   "source": [
    "def count_str(lis1):\n",
    "    return len([elem for elem in lis1 if isinstance(elem,str) and len(elem) >2])"
   ]
  },
  {
   "cell_type": "code",
   "execution_count": 28,
   "metadata": {},
   "outputs": [
    {
     "data": {
      "text/plain": [
       "1"
      ]
     },
     "execution_count": 28,
     "metadata": {},
     "output_type": "execute_result"
    }
   ],
   "source": [
    "count_str([1, 2, 3, 'python'])"
   ]
  },
  {
   "cell_type": "markdown",
   "metadata": {},
   "source": [
    "### Exercise 133\n",
    "\n",
    "Implement a function remove_duplicates() that removes duplicates from the list (the order of the items in the list does not have to be kept).\n",
    "\n",
    "Example:\n",
    "\n",
    "    [IN]: remove_duplicates([1, 5, 3, 2, 2, 4, 2, 4])\n",
    "    [OUT]: [1, 2, 3, 4, 5]\n",
    "    [IN]: remove_duplicates([1, 1, 1, 1])\n",
    "    [OUT]: [1]"
   ]
  },
  {
   "cell_type": "code",
   "execution_count": 29,
   "metadata": {},
   "outputs": [],
   "source": [
    "def remove_duplicates(lis1):\n",
    "    return list(set(lis1))"
   ]
  },
  {
   "cell_type": "markdown",
   "metadata": {},
   "source": [
    "### Exercise 134\n",
    "Implement a function is_distinct() to check if the list contains unique values.\n",
    "\n",
    "Example:\n",
    "\n",
    "    [IN]: is_distinct([1, 2, 3])\n",
    "    [OUT]: True\n",
    "    [IN]: is_distinct([1, 2, 3, 3])\n",
    "    [OUT]: False\n"
   ]
  },
  {
   "cell_type": "code",
   "execution_count": 30,
   "metadata": {},
   "outputs": [],
   "source": [
    "def is_distinct(lis1):\n",
    "    return len(lis1) == len(list(set(lis1)))"
   ]
  },
  {
   "cell_type": "markdown",
   "metadata": {},
   "source": [
    "### Exercise 135"
   ]
  },
  {
   "cell_type": "code",
   "execution_count": 31,
   "metadata": {},
   "outputs": [
    {
     "name": "stdout",
     "output_type": "stream",
     "text": [
      "[0, 1, 8]\n",
      "['a', 'b', 'c', 0, 1, 8, 27, 64]\n",
      "[0, 1, 8, 0, 1, 8, 27, 64, 125]\n"
     ]
    }
   ],
   "source": [
    "def function(idx, l=[]):\n",
    "    for i in range(idx):\n",
    "        l.append(i ** 3)\n",
    "    print(l)\n",
    "\n",
    "function(3)\n",
    "function(5, ['a', 'b', 'c'])\n",
    "function(6)"
   ]
  },
  {
   "cell_type": "markdown",
   "metadata": {},
   "source": [
    "### Exercise 136"
   ]
  },
  {
   "cell_type": "code",
   "execution_count": 32,
   "metadata": {},
   "outputs": [
    {
     "name": "stdout",
     "output_type": "stream",
     "text": [
      "(3, 4) {}\n",
      "() {'x': 3, 'y': 4}\n",
      "(1, 2) {'x': 3, 'y': 4}\n"
     ]
    }
   ],
   "source": [
    "def function(*args, **kwargs):\n",
    "    print(args, kwargs)\n",
    "\n",
    "function(3, 4)\n",
    "function(x=3, y=4)\n",
    "function(1, 2, x=3, y=4)"
   ]
  },
  {
   "cell_type": "code",
   "execution_count": 33,
   "metadata": {},
   "outputs": [],
   "source": [
    "## Blank kwargs return dictionary and args return tuple"
   ]
  },
  {
   "cell_type": "markdown",
   "metadata": {},
   "source": [
    "### Exercise 137\n",
    "\n",
    "Implement the function is_palindrome(), which takes as an argument str object and checks if this object is a palindrome (expression that sounds the same from left to right and from right to left).\n",
    "\n",
    "If so, the function should return True, on the contrary False.\n",
    "\n",
    "Example:\n",
    "\n",
    "    [IN]: is_palindrome('level')\n",
    "    [OUT]: True\n",
    "    [IN]: is_palindrome('python')\n",
    "    [OUT]: False\n"
   ]
  },
  {
   "cell_type": "code",
   "execution_count": 35,
   "metadata": {},
   "outputs": [],
   "source": [
    "def is_palindrome(str1):\n",
    "    return str1 == str1[::-1]\n"
   ]
  },
  {
   "cell_type": "code",
   "execution_count": 36,
   "metadata": {},
   "outputs": [
    {
     "data": {
      "text/plain": [
       "True"
      ]
     },
     "execution_count": 36,
     "metadata": {},
     "output_type": "execute_result"
    }
   ],
   "source": [
    "is_palindrome('level')\n"
   ]
  },
  {
   "cell_type": "code",
   "execution_count": null,
   "metadata": {},
   "outputs": [],
   "source": []
  }
 ],
 "metadata": {
  "interpreter": {
   "hash": "0012cd877e37c553ce082c8a53dbb8150686811a71a997c633aba52086b562f8"
  },
  "kernelspec": {
   "display_name": "Python 3.8.12 64-bit ('pyspark3': conda)",
   "language": "python",
   "name": "python3"
  },
  "language_info": {
   "codemirror_mode": {
    "name": "ipython",
    "version": 3
   },
   "file_extension": ".py",
   "mimetype": "text/x-python",
   "name": "python",
   "nbconvert_exporter": "python",
   "pygments_lexer": "ipython3",
   "version": "3.8.12"
  },
  "orig_nbformat": 4
 },
 "nbformat": 4,
 "nbformat_minor": 2
}
