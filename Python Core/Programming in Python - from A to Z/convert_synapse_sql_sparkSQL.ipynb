{
 "cells": [
  {
   "cell_type": "code",
   "execution_count": 234,
   "metadata": {},
   "outputs": [],
   "source": [
    "env_config = {}\n",
    "env_config[\"curated_path\"] = \"/mnt/test/\"\n",
    "env_config[\"malcode\"] = \"caedw\""
   ]
  },
  {
   "cell_type": "code",
   "execution_count": 218,
   "metadata": {},
   "outputs": [
    {
     "data": {
      "text/plain": [
       "['create view caedw.access_authnt as select\\n',\n",
       " 'o.order_id\\n',\n",
       " ', o.prod_id\\n',\n",
       " ', p.prod_name\\n',\n",
       " ', o.unit_price\\n',\n",
       " ', p.list_price\\n',\n",
       " 'from \\n',\n",
       " '\\tcaedw.orders o\\n',\n",
       " 'join caedw.product p\\n',\n",
       " 'on o.prod_id = p.prod_id;']"
      ]
     },
     "execution_count": 218,
     "metadata": {},
     "output_type": "execute_result"
    }
   ],
   "source": [
    "with open('./data/sql1.sql','r') as file:\n",
    "    text = file.readlines()\n",
    "text = text[3:]\n",
    "text"
   ]
  },
  {
   "cell_type": "code",
   "execution_count": 232,
   "metadata": {},
   "outputs": [
    {
     "data": {
      "text/plain": [
       "['create or replace view caedw.access_authnt_vw as select',\n",
       " 'o.order_id',\n",
       " ', o.prod_id',\n",
       " ', p.prod_name',\n",
       " ', o.unit_price',\n",
       " ', p.list_price',\n",
       " 'from',\n",
       " 'delta.`/mnt/test/orders` o',\n",
       " 'join delta.`/mnt/test/product` p',\n",
       " 'on o.prod_id = p.prod_id;']"
      ]
     },
     "execution_count": 232,
     "metadata": {},
     "output_type": "execute_result"
    }
   ],
   "source": [
    "text1 = []\n",
    "curated_path = env_config.get(\"curated_path\")\n",
    "for elem in text:\n",
    "    elem_converted = elem.replace(\"\\n\",\"\").replace(\"\\t\",\"\").strip().lower()\n",
    "    if elem.lower().__contains__(\"create view\"):\n",
    "        elem_converted = elem_converted.replace(\"create view\",\"create or replace view\")\n",
    "        elem_converted = elem_converted \\\n",
    "        .replace(elem_converted[(elem_converted.index(\"view\")):int(elem_converted.index(\"as\"))-1]\n",
    "                 ,elem_converted[(elem_converted.index(\"view\")):int(elem_converted.index(\"as\"))-1]+\"_vw\") \n",
    "        #text1.append(elem_converted)\n",
    "    if text.index(elem) != 0 and elem.lower().__contains__(env_config.get(\"malcode\")):\n",
    "        elem_converted = elem.replace(\"\\n\",\"\").replace(\"\\t\",\"\").strip().lower()\n",
    "        start_index = elem.index(env_config.get(\"malcode\"))\n",
    "        end_index = elem.index(\" \",elem.index(env_config.get(\"malcode\")))\n",
    "        job_name_index = elem.index(\".\",elem.index(env_config.get(\"malcode\")))\n",
    "        job_name = elem[job_name_index+1:end_index]        \n",
    "        elem_converted = elem_converted.replace(elem[start_index:end_index],f\"delta.`{curated_path}{job_name}`\")\n",
    "    #elem_converted = elem_converted.replace(\"\\n\",\"\").replace(\"\\t\",\"\").strip().lower()       \n",
    "    #print(elem_converted)        \n",
    "    text1.append(elem_converted)\n",
    "text1"
   ]
  },
  {
   "cell_type": "code",
   "execution_count": 230,
   "metadata": {},
   "outputs": [],
   "source": [
    "f = open(\"./data/sql1_convrted.sql\", \"w\")\n",
    "for item in text1:\n",
    "   f.write(item + \"\\n\")\n",
    "f.close()"
   ]
  },
  {
   "cell_type": "code",
   "execution_count": 198,
   "metadata": {},
   "outputs": [
    {
     "name": "stdout",
     "output_type": "stream",
     "text": [
      "caedw.orders o\n",
      "delta.`/mnt/test/orders` o\n"
     ]
    }
   ],
   "source": [
    "elem = text[7].replace(\"\\n\",\"\").replace(\"\\t\",\"\").strip().lower()\n",
    "start_index = elem.index(\"caedw\")\n",
    "end_index = elem.index(\" \",elem.index(\"caedw\"))\n",
    "job_name = elem.index(\".\",elem.index(\"caedw\"))\n",
    "job_name = elem[job_name+1:end_index]\n",
    "# print(job_name)\n",
    "# elem[start_index:end_index]\n",
    "#print(elem)\n",
    "elem1 = elem.replace(elem[start_index:end_index],f\"delta.`/mnt/test/{job_name}`\")\n",
    "print(elem1)"
   ]
  },
  {
   "cell_type": "code",
   "execution_count": 159,
   "metadata": {},
   "outputs": [
    {
     "name": "stdout",
     "output_type": "stream",
     "text": [
      "['on o', 'prod_id = p', 'prod_id;']\n"
     ]
    },
    {
     "data": {
      "text/plain": [
       "['on o', 'prod_id = p', 'prod_id;']"
      ]
     },
     "execution_count": 159,
     "metadata": {},
     "output_type": "execute_result"
    }
   ],
   "source": [
    "lis1 = elem.split(\".\")\n",
    "print(lis1)\n",
    "\n",
    "# for elem_view_name in lis1:\n",
    "#     if elem_view_name.__contains__(\"as\"):\n",
    "#         print(str(elem_view_name[0:elem_view_name.index(\"as\")-1])+\"_vw\")\n",
    "lis1\n"
   ]
  },
  {
   "cell_type": "code",
   "execution_count": null,
   "metadata": {},
   "outputs": [],
   "source": []
  }
 ],
 "metadata": {
  "interpreter": {
   "hash": "0012cd877e37c553ce082c8a53dbb8150686811a71a997c633aba52086b562f8"
  },
  "kernelspec": {
   "display_name": "Python 3.8.12 64-bit ('pyspark3': conda)",
   "language": "python",
   "name": "python3"
  },
  "language_info": {
   "codemirror_mode": {
    "name": "ipython",
    "version": 3
   },
   "file_extension": ".py",
   "mimetype": "text/x-python",
   "name": "python",
   "nbconvert_exporter": "python",
   "pygments_lexer": "ipython3",
   "version": "3.8.12"
  },
  "orig_nbformat": 4
 },
 "nbformat": 4,
 "nbformat_minor": 2
}
