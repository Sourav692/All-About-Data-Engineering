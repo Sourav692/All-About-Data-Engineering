{
 "cells": [
  {
   "cell_type": "markdown",
   "metadata": {},
   "source": [
    "### Exercise 138\n",
    "The following list of words is given:\n",
    "\n",
    "stocks = ['playway', 'boombit', 'cd projekt']\n",
    "\n",
    "Using the map() function and the lambda expression, transform the given list into a list containing the lengths of each word and print it to the console.\n",
    "\n",
    "Expected result:\n",
    "    \n",
    "    [7, 7, 10]"
   ]
  },
  {
   "cell_type": "code",
   "execution_count": 12,
   "metadata": {},
   "outputs": [
    {
     "data": {
      "text/plain": [
       "[7, 7, 10]"
      ]
     },
     "execution_count": 12,
     "metadata": {},
     "output_type": "execute_result"
    }
   ],
   "source": [
    "stocks = ['playway', 'boombit', 'cd projekt']\n",
    "\n",
    "list(map(lambda x: len(x),stocks))"
   ]
  },
  {
   "cell_type": "markdown",
   "metadata": {},
   "source": [
    "### Exercise 139\n",
    "Implement the sort_list() function that sorts a list of two-element tuple objects according to the second element of the tuple.\n",
    "\n",
    "Example:\n",
    "\n",
    "    [IN]: sort_list([(1, 3), (4, 1), (4, 2), (0, 7)])\n",
    "    [OUT]: [(4, 1), (4, 2), (1, 3), (0, 7)]\n",
    "    [IN]: sort_list([('a', 'b'), ('g', 'a'), ('z', 'd')])\n",
    "    [OUT]: [('g', 'a'), ('a', 'b'), ('z', 'd')]"
   ]
  },
  {
   "cell_type": "code",
   "execution_count": 14,
   "metadata": {},
   "outputs": [
    {
     "data": {
      "text/plain": [
       "[(4, 1), (4, 2), (1, 3), (0, 7)]"
      ]
     },
     "execution_count": 14,
     "metadata": {},
     "output_type": "execute_result"
    }
   ],
   "source": [
    "def sort_list(items):\n",
    "    return sorted(items, key=lambda item: item[1])\n",
    "\n",
    "sort_list([(1, 3), (4, 1), (4, 2), (0, 7)])"
   ]
  },
  {
   "cell_type": "markdown",
   "metadata": {},
   "source": [
    "### Exercise 140\n",
    "The func_1() function is defined below:\n",
    "\n",
    "def func_1(x, y):\n",
    "    \n",
    "        return x + y + 2\n",
    "\n",
    "Using the lambda expression, define an analogous function and assign it to the variable func_2."
   ]
  },
  {
   "cell_type": "code",
   "execution_count": 15,
   "metadata": {},
   "outputs": [],
   "source": [
    "def func_1(x, y):\n",
    "    return x + y + 2\n",
    "\n",
    "func_2 = lambda x,y: x + y + 2\n"
   ]
  },
  {
   "cell_type": "markdown",
   "metadata": {},
   "source": [
    "### Exercise 141\n",
    "The following list is given:\n",
    "\n",
    "items = [(3, 4), (2, 5), (1, 4), (6, 1)]\n",
    "\n",
    "Sort the list by the growing sum of squares of numbers in each tuple. Use the sort() method and the lambda expression and print sorted list to the console.\n",
    "\n",
    "Expected result:\n",
    "\n",
    "    [(1, 4), (3, 4), (2, 5), (6, 1)"
   ]
  },
  {
   "cell_type": "code",
   "execution_count": 16,
   "metadata": {},
   "outputs": [
    {
     "name": "stdout",
     "output_type": "stream",
     "text": [
      "[(1, 4), (3, 4), (2, 5), (6, 1)]\n"
     ]
    }
   ],
   "source": [
    "items = [(3, 4), (2, 5), (1, 4), (6, 1)]\n",
    "items.sort(key=lambda item: item[0]**2 + item[1]**2)\n",
    "print(items)"
   ]
  },
  {
   "cell_type": "markdown",
   "metadata": {},
   "source": [
    "### Exercise 142\n",
    "Sort the given list of dictionaries by price key:\n",
    "\n",
    "stocks =\n",
    "\n",
    "    [\n",
    "        {'index': 'mWIG40', 'name': 'TEN', 'price': 304},\n",
    "        {'index': 'mWIG40', 'name': 'PLW', 'price': 309},\n",
    "        {'index': 'sWIG80', 'name': 'BBT', 'price': 22}\n",
    "    ]\n",
    "\n",
    "\n",
    "Print sorted list to the console."
   ]
  },
  {
   "cell_type": "code",
   "execution_count": 17,
   "metadata": {},
   "outputs": [
    {
     "name": "stdout",
     "output_type": "stream",
     "text": [
      "[{'index': 'sWIG80', 'name': 'BBT', 'price': 22}, {'index': 'mWIG40', 'name': 'TEN', 'price': 304}, {'index': 'mWIG40', 'name': 'PLW', 'price': 309}]\n"
     ]
    }
   ],
   "source": [
    "stocks = [\n",
    "    {'index': 'mWIG40', 'name': 'TEN', 'price': 304},\n",
    "    {'index': 'mWIG40', 'name': 'PLW', 'price': 309},\n",
    "    {'index': 'sWIG80', 'name': 'BBT', 'price': 22}\n",
    "]\n",
    " \n",
    "stocks.sort(key=lambda item: item['price'])\n",
    "print(stocks)"
   ]
  },
  {
   "cell_type": "markdown",
   "metadata": {},
   "source": [
    "### Exercise 143\n",
    "The following list is given:\n",
    "\n",
    "stocks = \n",
    "\n",
    "    [\n",
    "        {'index': 'mWIG40', 'name': 'TEN', 'price': 304},\n",
    "        {'index': 'mWIG40', 'name': 'PLW', 'price': 309},\n",
    "        {'index': 'sWIG80', 'name': 'BBT', 'price': 22}\n",
    "    ]\n",
    "Extract companies from the 'mWIG40' index and print the result to the console."
   ]
  },
  {
   "cell_type": "code",
   "execution_count": 18,
   "metadata": {},
   "outputs": [
    {
     "name": "stdout",
     "output_type": "stream",
     "text": [
      "[{'index': 'mWIG40', 'name': 'TEN', 'price': 304}, {'index': 'mWIG40', 'name': 'PLW', 'price': 309}]\n"
     ]
    }
   ],
   "source": [
    "stocks = [\n",
    "    {'index': 'mWIG40', 'name': 'TEN', 'price': 304},\n",
    "    {'index': 'mWIG40', 'name': 'PLW', 'price': 309},\n",
    "    {'index': 'sWIG80', 'name': 'BBT', 'price': 22}\n",
    "]\n",
    " \n",
    "print(list(filter(lambda item: item['index'] == 'mWIG40', stocks)))"
   ]
  },
  {
   "cell_type": "markdown",
   "metadata": {},
   "source": [
    "### Exercise 144\n",
    "The following list is given:\n",
    "\n",
    "stocks = \n",
    "\n",
    "    [\n",
    "        {'index': 'mWIG40', 'name': 'TEN', 'price': 304},\n",
    "        {'index': 'mWIG40', 'name': 'PLW', 'price': 309},\n",
    "        {'index': 'sWIG80', 'name': 'BBT', 'price': 22}\n",
    "    ]\n",
    "\n",
    "Convert the list to a list of boolean values (True, False). True if the company belongs to the 'mWIG40' index, False on the contrary and print the result to the console.\n",
    "\n",
    "Output : [True,True,False]"
   ]
  },
  {
   "cell_type": "code",
   "execution_count": 19,
   "metadata": {},
   "outputs": [
    {
     "name": "stdout",
     "output_type": "stream",
     "text": [
      "[True, True, False]\n"
     ]
    }
   ],
   "source": [
    "stocks = [\n",
    "    {'index': 'mWIG40', 'name': 'TEN', 'price': 304},\n",
    "    {'index': 'mWIG40', 'name': 'PLW', 'price': 309},\n",
    "    {'index': 'sWIG80', 'name': 'BBT', 'price': 22}\n",
    "]\n",
    " \n",
    "print(list(map(lambda x: x['index'] == 'mWIG40', stocks)))"
   ]
  },
  {
   "cell_type": "markdown",
   "metadata": {},
   "source": [
    "### Exercise 145\n",
    "The following list is given:\n",
    "\n",
    "items = ['P-1', 'R-2', 'D-4', 'F-6']\n",
    "\n",
    "Using the map() function and the lambda expression, get rid of the '-' (dash) from each element and print items list on the console.\n",
    "\n",
    "Expected result:\n",
    "\n",
    "    ['P1', 'R2', 'D4', 'F6']"
   ]
  },
  {
   "cell_type": "code",
   "execution_count": 21,
   "metadata": {},
   "outputs": [
    {
     "name": "stdout",
     "output_type": "stream",
     "text": [
      "['P1', 'R2', 'D4', 'F6']\n"
     ]
    }
   ],
   "source": [
    "items = ['P-1', 'R-2', 'D-4', 'F-6']\n",
    "print(list(map(lambda item: item.replace('-', ''), items)))"
   ]
  },
  {
   "cell_type": "markdown",
   "metadata": {},
   "source": [
    "### Exercise 146\n",
    "Two lists are given:\n",
    "\n",
    "    num1 = [4, 2, 6, 2, 11]\n",
    "\n",
    "    num2 = [5, 2, 3, 3, 9]\n",
    "\n",
    "Using the map() function and lambda expression, create a list containing the remainders of dividing the first list by the second (elementwise).\n",
    "\n",
    "Expected result:\n",
    "\n",
    "    [4, 0, 0, 2, 2]"
   ]
  },
  {
   "cell_type": "code",
   "execution_count": 22,
   "metadata": {},
   "outputs": [
    {
     "name": "stdout",
     "output_type": "stream",
     "text": [
      "[4, 0, 0, 2, 2]\n"
     ]
    }
   ],
   "source": [
    "num1 = [4, 2, 6, 2, 11]\n",
    "num2 = [5, 2, 3, 3, 9]\n",
    " \n",
    "print(list(map(lambda x, y: x % y, num1, num2)))"
   ]
  },
  {
   "cell_type": "code",
   "execution_count": null,
   "metadata": {},
   "outputs": [],
   "source": []
  }
 ],
 "metadata": {
  "interpreter": {
   "hash": "0012cd877e37c553ce082c8a53dbb8150686811a71a997c633aba52086b562f8"
  },
  "kernelspec": {
   "display_name": "Python 3.8.12 64-bit ('pyspark3': conda)",
   "language": "python",
   "name": "python3"
  },
  "language_info": {
   "codemirror_mode": {
    "name": "ipython",
    "version": 3
   },
   "file_extension": ".py",
   "mimetype": "text/x-python",
   "name": "python",
   "nbconvert_exporter": "python",
   "pygments_lexer": "ipython3",
   "version": "3.8.12"
  },
  "orig_nbformat": 4
 },
 "nbformat": 4,
 "nbformat_minor": 2
}
