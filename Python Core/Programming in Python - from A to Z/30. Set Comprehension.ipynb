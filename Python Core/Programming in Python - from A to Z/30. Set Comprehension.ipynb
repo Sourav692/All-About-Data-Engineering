{
 "cells": [
  {
   "cell_type": "markdown",
   "metadata": {},
   "source": [
    "### Exercise:150\n",
    "### Consider the two-roll of the dice. \n",
    "### Create the probability space (omega) and count the probability of getting a sum of points higher than 10. Use set comprehension."
   ]
  },
  {
   "cell_type": "code",
   "execution_count": 5,
   "metadata": {},
   "outputs": [
    {
     "name": "stdout",
     "output_type": "stream",
     "text": [
      "Probability: 0.08\n"
     ]
    }
   ],
   "source": [
    "omega = {(i, j) for i in range(1, 7) for j in range(1, 7)}\n",
    "sum_gt_10 = {pair for pair in omega if pair[0] + pair[1] > 10}\n",
    "print(f'Probability: {len(sum_gt_10) / len(omega):.2f}')"
   ]
  },
  {
   "cell_type": "markdown",
   "metadata": {},
   "source": [
    "### Exercise 2\n",
    "\n",
    "    The following text is given:\n",
    "    desc = \"Playway: Playway is a producer of computer games.\"\n",
    "    Change all characters to lowercase, remove the colon, period and then split the text into words.\n",
    "    Create a set of unique words and print the length of this set to the console."
   ]
  },
  {
   "cell_type": "code",
   "execution_count": 7,
   "metadata": {},
   "outputs": [
    {
     "name": "stdout",
     "output_type": "stream",
     "text": [
      "Playway:\n",
      "Playway\n",
      "is\n",
      "a\n",
      "producer\n",
      "of\n",
      "computer\n",
      "games.\n"
     ]
    }
   ],
   "source": [
    "desc = \"Playway: Playway is a producer of computer games.\"\n",
    "set1 = {}\n",
    "for elem in desc.split(\" \"):    \n",
    "    elem.replace(':','')\n",
    "    print(elem)\n",
    "    # for char in \":.\":\n",
    "    #     elem.replace(char,'')\n",
    "    #     print(elem)\n",
    "\n",
    "# lis1 = desc.split(\":\")\n",
    "# lis1"
   ]
  },
  {
   "cell_type": "code",
   "execution_count": null,
   "metadata": {},
   "outputs": [],
   "source": []
  }
 ],
 "metadata": {
  "interpreter": {
   "hash": "0012cd877e37c553ce082c8a53dbb8150686811a71a997c633aba52086b562f8"
  },
  "kernelspec": {
   "display_name": "Python 3.8.12 64-bit ('pyspark3': conda)",
   "language": "python",
   "name": "python3"
  },
  "language_info": {
   "codemirror_mode": {
    "name": "ipython",
    "version": 3
   },
   "file_extension": ".py",
   "mimetype": "text/x-python",
   "name": "python",
   "nbconvert_exporter": "python",
   "pygments_lexer": "ipython3",
   "version": "3.8.12"
  },
  "orig_nbformat": 4
 },
 "nbformat": 4,
 "nbformat_minor": 2
}
