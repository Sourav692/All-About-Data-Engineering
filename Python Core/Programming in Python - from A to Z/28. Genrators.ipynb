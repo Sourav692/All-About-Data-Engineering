{
 "cells": [
  {
   "cell_type": "markdown",
   "metadata": {},
   "source": [
    "### Exercise 147\n",
    "\n",
    "Implement a generator named file_gen(), which selects only those names of files with the '.txt' extension from the list.\n",
    "\n",
    "    Example:\n",
    "    fnames = ['data1.txt', 'data2.txt', 'data3.txt', 'view.jpg']\n",
    "    list(file_gen(fnames))\n",
    "    ['data1.txt', 'data2.txt', 'data3.txt']"
   ]
  },
  {
   "cell_type": "code",
   "execution_count": 10,
   "metadata": {},
   "outputs": [
    {
     "name": "stdout",
     "output_type": "stream",
     "text": [
      "<generator object file_gen at 0x0000020388B670B0>\n",
      "['data1.txt', 'data2.txt', 'data3.txt']\n"
     ]
    }
   ],
   "source": [
    "\n",
    "def file_gen(fnames):\n",
    "    for fname in fnames:\n",
    "        if fname.endswith('.txt'):\n",
    "            yield fname\n",
    "\n",
    "fnames = ['data1.txt', 'data2.txt', 'data3.txt', 'view.jpg']\n",
    "print(file_gen(fnames))\n",
    "print(list(file_gen(fnames)))"
   ]
  },
  {
   "cell_type": "code",
   "execution_count": 6,
   "metadata": {},
   "outputs": [
    {
     "name": "stdout",
     "output_type": "stream",
     "text": [
      "data1.txt\n",
      "data2.txt\n",
      "data3.txt\n"
     ]
    }
   ],
   "source": [
    "fnames = ['data1.txt', 'data2.txt', 'data3.txt', 'view.jpg']\n",
    "\n",
    "for fname in fnames:\n",
    "    if fname.endswith('.txt'):\n",
    "        print(fname) "
   ]
  },
  {
   "cell_type": "markdown",
   "metadata": {},
   "source": [
    "### Exercise 148\n",
    "Implement a generator called enum() that works just like the enumerate() built-in function.\n",
    "\n",
    "For simplicity, the function gets an iterable object and returns a tuple (index, element).\n",
    "\n",
    "\n",
    "\n",
    "Example:\n",
    "\n",
    "    [IN]: list(enum(['TEN', 'CDR', 'BBT']))\n",
    "    [OUT]: [(0, 'TEN'), (1, 'CDR'), (2, 'BBT')]"
   ]
  },
  {
   "cell_type": "code",
   "execution_count": 12,
   "metadata": {},
   "outputs": [
    {
     "data": {
      "text/plain": [
       "[(0, 'TEN'), (1, 'CDR'), (2, 'BBT')]"
      ]
     },
     "execution_count": 12,
     "metadata": {},
     "output_type": "execute_result"
    }
   ],
   "source": [
    "def enum(lis1):\n",
    "    for i in range(0,len(lis1)):\n",
    "        yield(i,lis1[i])\n",
    "\n",
    "list(enum(['TEN', 'CDR', 'BBT']))"
   ]
  },
  {
   "cell_type": "markdown",
   "metadata": {},
   "source": [
    "### Exercise 149\n",
    "Implement a generator named dayname() that accepts the index of the element from the following list:\n",
    "    days = ['Mon', 'Tue', 'Wed', 'Thu', 'Fri', 'Sat', 'Sun']\n",
    "and allows us to iterate over 3 days (previous day, present day, next day).\n",
    "\n",
    "Example:\n",
    "\n",
    "[IN]:\n",
    "\n",
    "    for pair in dayname(0):\n",
    "        print(pair)\n",
    "[OUT]:\n",
    "\n",
    "    Sun\n",
    "    Mon\n",
    "    Tue"
   ]
  },
  {
   "cell_type": "code",
   "execution_count": 13,
   "metadata": {},
   "outputs": [
    {
     "name": "stdout",
     "output_type": "stream",
     "text": [
      "Sun\n",
      "Mon\n",
      "Tue\n"
     ]
    }
   ],
   "source": [
    "def dayname(index):\n",
    "    days = ['Mon', 'Tue', 'Wed', 'Thu', 'Fri', 'Sat', 'Sun']\n",
    "    yield days[index - 1]\n",
    "    yield days[index]\n",
    "    yield days[(index + 1) % 7] ## This is for print in circular . We divide by 7\n",
    "    \n",
    "for pair in dayname(0):\n",
    "        print(pair)"
   ]
  },
  {
   "cell_type": "code",
   "execution_count": null,
   "metadata": {},
   "outputs": [],
   "source": []
  }
 ],
 "metadata": {
  "interpreter": {
   "hash": "0012cd877e37c553ce082c8a53dbb8150686811a71a997c633aba52086b562f8"
  },
  "kernelspec": {
   "display_name": "Python 3.8.12 64-bit ('pyspark3': conda)",
   "language": "python",
   "name": "python3"
  },
  "language_info": {
   "codemirror_mode": {
    "name": "ipython",
    "version": 3
   },
   "file_extension": ".py",
   "mimetype": "text/x-python",
   "name": "python",
   "nbconvert_exporter": "python",
   "pygments_lexer": "ipython3",
   "version": "3.8.12"
  },
  "orig_nbformat": 4
 },
 "nbformat": 4,
 "nbformat_minor": 2
}
