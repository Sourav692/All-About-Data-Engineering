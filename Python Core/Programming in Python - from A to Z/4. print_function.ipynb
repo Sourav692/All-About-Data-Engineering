{
 "cells": [
  {
   "cell_type": "markdown",
   "metadata": {},
   "source": [
    "### Exercise 1\n",
    "\n",
    "Using the print() function, print to the console: 'Learn Python!'"
   ]
  },
  {
   "cell_type": "code",
   "execution_count": 15,
   "metadata": {},
   "outputs": [
    {
     "name": "stdout",
     "output_type": "stream",
     "text": [
      "Learn Python!\n"
     ]
    }
   ],
   "source": [
    "print('Learn Python!')"
   ]
  },
  {
   "cell_type": "markdown",
   "metadata": {},
   "source": [
    "### Exercise 2\n",
    "\n",
    "Assign to the variable age number 20. Using the age variable and the print() function print to the console the following text:\n",
    "\n",
    "    I am 20 years old."
   ]
  },
  {
   "cell_type": "code",
   "execution_count": 14,
   "metadata": {},
   "outputs": [
    {
     "name": "stdout",
     "output_type": "stream",
     "text": [
      "I am 20 years old.\n"
     ]
    }
   ],
   "source": [
    "age = 20\n",
    "print(f\"I am {age} years old.\")"
   ]
  },
  {
   "cell_type": "markdown",
   "metadata": {},
   "source": [
    "### Exercise 3\n",
    "Create two variables (you can freely choose the names) and assign to them following values:\n",
    "\n",
    "    'Python'\n",
    "    '3.8'\n",
    "\n",
    "Using these variables and the print() function, print to the console the following text:\n",
    "\n",
    "    I am learning Python version 3.8"
   ]
  },
  {
   "cell_type": "code",
   "execution_count": 13,
   "metadata": {},
   "outputs": [
    {
     "name": "stdout",
     "output_type": "stream",
     "text": [
      "I am learning Python version 3.8\n"
     ]
    }
   ],
   "source": [
    "language = \"Python\"\n",
    "version = \"3.8\"\n",
    "\n",
    "print(f\"I am learning {language} version {version}\")\n"
   ]
  },
  {
   "cell_type": "markdown",
   "metadata": {},
   "source": [
    "### Exercise 4\n",
    "Assign 199.99 to the price variable and check the solution.\n",
    "\n",
    "Expected result:\n",
    "\n",
    "    This costs 199.99"
   ]
  },
  {
   "cell_type": "code",
   "execution_count": 12,
   "metadata": {},
   "outputs": [
    {
     "name": "stdout",
     "output_type": "stream",
     "text": [
      "This costs 199.99\n"
     ]
    }
   ],
   "source": [
    "price = 199.99\n",
    "print('This costs', price)"
   ]
  },
  {
   "cell_type": "markdown",
   "metadata": {},
   "source": [
    "### Exercise 6\n",
    "Assign two variables that store the following values:\n",
    "\n",
    "    $ 34.99 - product price (float)\n",
    "\n",
    "    20 lbs - product weight (int)\n",
    "\n",
    "\n",
    "Using the f-string formatting style print to the console the following message:\n",
    "\n",
    "    Price: $34.99. Weight: 20 lbs."
   ]
  },
  {
   "cell_type": "code",
   "execution_count": 11,
   "metadata": {},
   "outputs": [
    {
     "name": "stdout",
     "output_type": "stream",
     "text": [
      "Price: $34.99. Weight: 20 lbs\n"
     ]
    }
   ],
   "source": [
    "prod_price = 34.99\n",
    "prod_weight = 20\n",
    "\n",
    "print(f\"Price: ${prod_price}. Weight: {prod_weight} lbs.\")"
   ]
  },
  {
   "cell_type": "markdown",
   "metadata": {},
   "source": [
    "### Exercise 7\n",
    "Below is an approximation of pi:\n",
    "\n",
    "    pi = 3.1415926535\n",
    "\n",
    "Using f-string formatting, print the approximation of pi to two decimal places as shown below.\n",
    "\n",
    "Expected result:\n",
    "\n",
    "    Pi: 3.14"
   ]
  },
  {
   "cell_type": "code",
   "execution_count": 6,
   "metadata": {},
   "outputs": [
    {
     "name": "stdout",
     "output_type": "stream",
     "text": [
      "Pi: 3.14\n"
     ]
    }
   ],
   "source": [
    "pi = 3.1415926535\n",
    "print(f'Pi: {pi:.2f}')"
   ]
  },
  {
   "cell_type": "markdown",
   "metadata": {},
   "source": [
    "### Exercise 8\n",
    "\n",
    "Using three print() function (one line - one function) print the following text:\n",
    "\n",
    "    ----------------------------------------\n",
    "    VERSION: 1.0.1\n",
    "    ----------------------------------------\n",
    "\n",
    "Tip: The lines consist of 40 dash characters: '-'."
   ]
  },
  {
   "cell_type": "code",
   "execution_count": 5,
   "metadata": {},
   "outputs": [
    {
     "name": "stdout",
     "output_type": "stream",
     "text": [
      "----------------------------------------\n",
      "VERSION: 1.0.1\n",
      "----------------------------------------\n"
     ]
    }
   ],
   "source": [
    "print(\"-\"*40)\n",
    "print(\"VERSION: 1.0.1\")\n",
    "print(\"-\"*40)"
   ]
  },
  {
   "cell_type": "markdown",
   "metadata": {},
   "source": [
    "### Exercise 9\n",
    "Using the four print() function (one line - one function) print the following text:\n",
    "\n",
    "    ========================================\n",
    "    author: johnsmith@sample.com\n",
    "    date: 01-01-2021\n",
    "    \n",
    "\n",
    "\n",
    "Tip: The lines consist of 40 equal signs: '='."
   ]
  },
  {
   "cell_type": "code",
   "execution_count": 4,
   "metadata": {},
   "outputs": [
    {
     "name": "stdout",
     "output_type": "stream",
     "text": [
      "========================================\n",
      "author: johnsmith@sample.com\n",
      "date: 01-01-2021\n",
      "========================================\n"
     ]
    }
   ],
   "source": [
    "print(\"=\"*40)\n",
    "print(\"author: johnsmith@sample.com\")\n",
    "print(\"date: 01-01-2021\")\n",
    "print(\"=\"*40)"
   ]
  },
  {
   "cell_type": "markdown",
   "metadata": {},
   "source": [
    "### Exercise 10\n",
    "Using the print() function and the sep argument set to '#' print the following text:\n",
    "\n",
    "    'summer#time#holiday'"
   ]
  },
  {
   "cell_type": "code",
   "execution_count": 1,
   "metadata": {},
   "outputs": [
    {
     "name": "stdout",
     "output_type": "stream",
     "text": [
      "summer#time#holiday\n"
     ]
    }
   ],
   "source": [
    "print('summer', 'time', 'holiday', sep='#')"
   ]
  }
 ],
 "metadata": {
  "interpreter": {
   "hash": "0012cd877e37c553ce082c8a53dbb8150686811a71a997c633aba52086b562f8"
  },
  "kernelspec": {
   "display_name": "Python 3.8.12 64-bit ('pyspark3': conda)",
   "language": "python",
   "name": "python3"
  },
  "language_info": {
   "codemirror_mode": {
    "name": "ipython",
    "version": 3
   },
   "file_extension": ".py",
   "mimetype": "text/x-python",
   "name": "python",
   "nbconvert_exporter": "python",
   "pygments_lexer": "ipython3",
   "version": "3.8.12"
  },
  "orig_nbformat": 4
 },
 "nbformat": 4,
 "nbformat_minor": 2
}
