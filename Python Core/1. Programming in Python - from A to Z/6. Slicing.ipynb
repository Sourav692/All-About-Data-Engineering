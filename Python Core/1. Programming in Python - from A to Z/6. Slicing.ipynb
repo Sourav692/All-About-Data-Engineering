{
 "cells": [
  {
   "cell_type": "markdown",
   "metadata": {},
   "source": [
    "### Exercise 23\n",
    "From the given file name:\n",
    "\n",
    "    filename = 'view.jpg'\n",
    "\n",
    "extract extension and print it to the console.\n",
    "\n",
    "Expected result:\n",
    "\n",
    "    jpg"
   ]
  },
  {
   "cell_type": "code",
   "execution_count": 6,
   "metadata": {},
   "outputs": [
    {
     "name": "stdout",
     "output_type": "stream",
     "text": [
      "jpg\n"
     ]
    }
   ],
   "source": [
    "filename = 'view.jpg'\n",
    "print(filename[-3:])"
   ]
  },
  {
   "cell_type": "markdown",
   "metadata": {},
   "source": [
    "### Exercise 24\n",
    "From the following text:\n",
    "\n",
    "    string = 'PKV-89415-PLN'\n",
    "\n",
    "extract the code containing the first three and last three characters. Print the result to the console.\n",
    "\n",
    "Expected result:\n",
    "\n",
    "    PKVPLN"
   ]
  },
  {
   "cell_type": "code",
   "execution_count": 8,
   "metadata": {},
   "outputs": [
    {
     "name": "stdout",
     "output_type": "stream",
     "text": [
      "PKVPLN\n"
     ]
    }
   ],
   "source": [
    "string = 'PKV-89415-PLN'\n",
    "\n",
    "print(string[0:3]+string[-3:])"
   ]
  },
  {
   "cell_type": "markdown",
   "metadata": {},
   "source": [
    "### Exercise 25\n",
    "\n",
    "From the following text:\n",
    "\n",
    "    string = '1 0 0 1 0 1'\n",
    "\n",
    "remove spaces using slicing. Then convert the result to decimal notation and print to the console as shown below.\n",
    "\n",
    "Expected result:\n",
    "\n",
    "    Number found: 37"
   ]
  },
  {
   "cell_type": "code",
   "execution_count": 18,
   "metadata": {},
   "outputs": [
    {
     "name": "stdout",
     "output_type": "stream",
     "text": [
      "Number found: 37\n"
     ]
    }
   ],
   "source": [
    "string = '1 0 0 1 0 1'\n",
    "string = string[0:len(string):2]\n",
    "number = int(string, 2)\n",
    "print(f'Number found: {number}')"
   ]
  },
  {
   "cell_type": "markdown",
   "metadata": {},
   "source": [
    "### Exercise 4\n",
    "\n",
    "Using the slicing, reverse the order of the characters in the following text:\n",
    "\n",
    "    text = 'Python Course'\n",
    "\n",
    "Print the result to the console as shown below.\n",
    "Expected result:\n",
    "\n",
    "    esruoC nohtyP"
   ]
  },
  {
   "cell_type": "code",
   "execution_count": 19,
   "metadata": {},
   "outputs": [
    {
     "name": "stdout",
     "output_type": "stream",
     "text": [
      "esruoC nohtyP\n"
     ]
    }
   ],
   "source": [
    "text = 'Python Course'\n",
    "print(text[::-1])  ## This is important"
   ]
  }
 ],
 "metadata": {
  "interpreter": {
   "hash": "0012cd877e37c553ce082c8a53dbb8150686811a71a997c633aba52086b562f8"
  },
  "kernelspec": {
   "display_name": "Python 3.8.12 64-bit ('pyspark3': conda)",
   "language": "python",
   "name": "python3"
  },
  "language_info": {
   "codemirror_mode": {
    "name": "ipython",
    "version": 3
   },
   "file_extension": ".py",
   "mimetype": "text/x-python",
   "name": "python",
   "nbconvert_exporter": "python",
   "pygments_lexer": "ipython3",
   "version": "3.8.12"
  },
  "orig_nbformat": 4
 },
 "nbformat": 4,
 "nbformat_minor": 2
}
