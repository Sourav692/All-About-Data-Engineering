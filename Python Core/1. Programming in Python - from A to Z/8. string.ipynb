{
 "cells": [
  {
   "cell_type": "markdown",
   "metadata": {},
   "source": [
    "### Exercise 30\n",
    "The following text is given:\n",
    "\n",
    "    text = 'python is a popular programming language.'\n",
    "    \n",
    "    Use the appropriate method to replace the first letter of the text with uppercase. Print the result to the console.\n",
    "\n",
    "Expected result:\n",
    "\n",
    "    Python is a popular programming language."
   ]
  },
  {
   "cell_type": "code",
   "execution_count": 6,
   "metadata": {},
   "outputs": [
    {
     "data": {
      "text/plain": [
       "'Python is a popular programming language.'"
      ]
     },
     "execution_count": 6,
     "metadata": {},
     "output_type": "execute_result"
    }
   ],
   "source": [
    "text = 'python is a popular programming language.'\n",
    "text[0].upper()+text[1:]"
   ]
  },
  {
   "cell_type": "code",
   "execution_count": 7,
   "metadata": {},
   "outputs": [
    {
     "data": {
      "text/plain": [
       "'2010-12-21'"
      ]
     },
     "execution_count": 7,
     "metadata": {},
     "output_type": "execute_result"
    }
   ],
   "source": [
    "str1 = \"21/12/2010\"\n",
    "\n",
    "day = str1[0:2]\n",
    "month = str1[3:5]\n",
    "year = str1[6:10]\n",
    "year\n",
    "str2 = f\"{year}-{month}-{day}\"\n",
    "str2"
   ]
  },
  {
   "cell_type": "code",
   "execution_count": 8,
   "metadata": {},
   "outputs": [
    {
     "name": "stdout",
     "output_type": "stream",
     "text": [
      "Python is a popular programming language.\n"
     ]
    }
   ],
   "source": [
    "print(text.capitalize())\n"
   ]
  },
  {
   "cell_type": "markdown",
   "metadata": {},
   "source": [
    "### Exercise 31\n",
    "The following text is given:\n",
    "\n",
    "    text = 'python is a popular programming language.'\n",
    "    Using the appropriate method count the number of occurrences of the letter 'p' and print the result to the console as shown below.\n",
    "    \n",
    "Expected result:\n",
    "\n",
    "    Number of occurrences: 4"
   ]
  },
  {
   "cell_type": "code",
   "execution_count": 9,
   "metadata": {},
   "outputs": [
    {
     "name": "stdout",
     "output_type": "stream",
     "text": [
      "4\n"
     ]
    }
   ],
   "source": [
    "text = \"python is a popular programming language.\"\n",
    "print(text.count(\"p\"))"
   ]
  },
  {
   "cell_type": "markdown",
   "metadata": {},
   "source": [
    "### Exercise 32\n",
    "The following codes are given:\n",
    "\n",
    "    code1 = 'FVNISJND-XX-2020'\n",
    "    code2 = 'FVNISJND-XY-2019'\n",
    "\n",
    "Using the appropriate method check if the codes end in '2020'. Print the result to the console as shown below.\n",
    "\n",
    "Expected result:\n",
    "\n",
    "    code1: True\n",
    "    code2: False"
   ]
  },
  {
   "cell_type": "code",
   "execution_count": 10,
   "metadata": {},
   "outputs": [
    {
     "name": "stdout",
     "output_type": "stream",
     "text": [
      "code1: True\n",
      "code2: False\n"
     ]
    }
   ],
   "source": [
    "code1 = 'FVNISJND-XX-2020'\n",
    "code2 = 'FVNISJND-XY-2019'\n",
    "print(\"code1:\",code1.endswith('2020'))\n",
    "print(\"code2:\",code2.endswith('2020'))"
   ]
  },
  {
   "cell_type": "markdown",
   "metadata": {},
   "source": [
    "### Exercise 33\n",
    "The following paths are given:\n",
    "\n",
    "    path1 = 'youtube.com/watch?v=5EhRztVxums'\n",
    "\n",
    "    path2 = 'google.com/search?q=car'\n",
    "\n",
    "Using the appropriate method check if the paths refer to YouTube (e.g. start with 'youtube'). Print the result to the console as shown below.\n",
    "\n",
    "Expected result:\n",
    "\n",
    "    path1: True\n",
    "    path2: False"
   ]
  },
  {
   "cell_type": "code",
   "execution_count": 11,
   "metadata": {},
   "outputs": [
    {
     "name": "stdout",
     "output_type": "stream",
     "text": [
      "path1: True\n",
      "path2: False\n"
     ]
    }
   ],
   "source": [
    "path1 = 'youtube.com/watch?v=5EhRztVxums'\n",
    "\n",
    "path2 = 'google.com/search?q=car'\n",
    "\n",
    "print(\"path1:\",path1.startswith(\"youtube\"))\n",
    "print(\"path2:\",path2.startswith(\"youtube\"))"
   ]
  },
  {
   "cell_type": "markdown",
   "metadata": {},
   "source": [
    "### Exercise 34\n",
    "The following paths are given:\n",
    "\n",
    "    path1 = 'https://e-smartdata.teachable.com/p/sciezka-data-scientist-machine-learning-engineer'\n",
    "    path2 = 'https://e-smartdata.teachable.com/p/sciezka-data-scientist-deep-learning-engineer'\n",
    "    path3 = 'https://e-smartdata.teachable.com/p/sciezka-bi-analyst-data-analyst'\n",
    "\n",
    "\n",
    "Using the appropriate method, find the word 'scientist' in the given paths, returning the index for the first letter of the found word. If the word is not in the path, the method should return -1. Print the result to the console as shown below.\n",
    "\n",
    "Expected result:\n",
    "\n",
    "    path1: 49\n",
    "    path2: 49\n",
    "    path3: -1"
   ]
  },
  {
   "cell_type": "code",
   "execution_count": 12,
   "metadata": {},
   "outputs": [
    {
     "name": "stdout",
     "output_type": "stream",
     "text": [
      "path1: 49\n",
      "path2: 49\n",
      "path3: -1\n"
     ]
    }
   ],
   "source": [
    "path1 = 'https://e-smartdata.teachable.com/p/sciezka-data-scientist-machine-learning-engineer'\n",
    "path2 = 'https://e-smartdata.teachable.com/p/sciezka-data-scientist-deep-learning-engineer'\n",
    "path3 = 'https://e-smartdata.teachable.com/p/sciezka-bi-analyst-data-analyst'\n",
    "\n",
    "def find_scientist(text):\n",
    "    try:\n",
    "        return text.index(\"scientist\")\n",
    "    except:\n",
    "        return -1\n",
    "    \n",
    "print(\"path1:\",find_scientist(path1))\n",
    "print(\"path2:\",find_scientist(path2))\n",
    "print(\"path3:\",find_scientist(path3))"
   ]
  },
  {
   "cell_type": "code",
   "execution_count": 13,
   "metadata": {},
   "outputs": [
    {
     "name": "stdout",
     "output_type": "stream",
     "text": [
      "path1: 49\n",
      "path2: 49\n",
      "path3: -1\n"
     ]
    }
   ],
   "source": [
    "## Other Solution using find:\n",
    "\n",
    "print(f\"path1: {path1.find('scientist')}\")\n",
    "print(f\"path2: {path2.find('scientist')}\")\n",
    "print(f\"path3: {path3.find('scientist')}\")"
   ]
  },
  {
   "cell_type": "markdown",
   "metadata": {},
   "source": [
    "### Exercise 35\n",
    "The following codes are given:\n",
    "\n",
    "    code1 = 'FVNISJND-20'\n",
    "    code2 = 'FVNISJND20'\n",
    "\n",
    "Using the appropriate method, check whether the codes consist only of alphanumeric characters (numbers + letters). Print the result to the console as shown below.\n",
    "\n",
    "Expected result:\n",
    "\n",
    "    code1: False\n",
    "    code2: True"
   ]
  },
  {
   "cell_type": "code",
   "execution_count": 14,
   "metadata": {},
   "outputs": [
    {
     "name": "stdout",
     "output_type": "stream",
     "text": [
      "code1: False\n",
      "code2: True\n"
     ]
    }
   ],
   "source": [
    "code1 = 'FVNISJND-20'\n",
    "code2 = 'FVNISJND20'\n",
    "print(f'code1: {code1.isalnum()}')\n",
    "print(f'code2: {code2.isalnum()}')"
   ]
  },
  {
   "cell_type": "markdown",
   "metadata": {},
   "source": [
    "### Exercise 36\n",
    "The following text is given:\n",
    "\n",
    "    text = 'Google Colab'\n",
    "\n",
    "Using the appropriate method convert all letters to lowercase. Print the result to the console.\n",
    "\n",
    "Expected result:\n",
    "\n",
    "    google colab"
   ]
  },
  {
   "cell_type": "code",
   "execution_count": 15,
   "metadata": {},
   "outputs": [
    {
     "name": "stdout",
     "output_type": "stream",
     "text": [
      "google colab\n"
     ]
    }
   ],
   "source": [
    "text = 'Google Colab'\n",
    "print(text.lower())"
   ]
  },
  {
   "cell_type": "markdown",
   "metadata": {},
   "source": [
    "### Exercise 37\n",
    "The following text is given:\n",
    "\n",
    "    text = 'Google Colab'\n",
    "\n",
    "Using the appropriate method convert all letters to uppercase. Print the result to the console.\n",
    "\n",
    "Expected result:\n",
    "\n",
    "    GOOGLE COLAB"
   ]
  },
  {
   "cell_type": "code",
   "execution_count": 16,
   "metadata": {},
   "outputs": [
    {
     "name": "stdout",
     "output_type": "stream",
     "text": [
      "GOOGLE COLAB\n"
     ]
    }
   ],
   "source": [
    "text = 'Google Colab'\n",
    "print(text.upper())"
   ]
  },
  {
   "cell_type": "markdown",
   "metadata": {},
   "source": [
    "### Exercise 38\n",
    "The following text is given:\n",
    "\n",
    "    text = '  Google Colab   '\n",
    "\n",
    "Using the appropriate method remove whitespace characters around the text. Print the result to the console.\n",
    "\n",
    "Expected result:\n",
    "\n",
    "    Google Colab"
   ]
  },
  {
   "cell_type": "code",
   "execution_count": 17,
   "metadata": {},
   "outputs": [
    {
     "name": "stdout",
     "output_type": "stream",
     "text": [
      "Google Colab\n"
     ]
    }
   ],
   "source": [
    "text = '  Google Colab   '\n",
    "print(text.strip())"
   ]
  },
  {
   "cell_type": "markdown",
   "metadata": {},
   "source": [
    "### Exercise 39\n",
    "The following code is given:\n",
    "\n",
    "    code = 'FVNISJND-XX'\n",
    "    \n",
    "Using the appropriate method replace the dash with a space. Print the result to the console.\n",
    "\n",
    "Expected result:\n",
    "\n",
    "    FVNISJND XX"
   ]
  },
  {
   "cell_type": "code",
   "execution_count": 18,
   "metadata": {},
   "outputs": [
    {
     "name": "stdout",
     "output_type": "stream",
     "text": [
      "FVNISJND XX\n"
     ]
    }
   ],
   "source": [
    "code = 'FVNISJND-XX'\n",
    "print(code.replace(\"-\",\" \"))"
   ]
  },
  {
   "cell_type": "markdown",
   "metadata": {},
   "source": [
    "### Exercise 40\n",
    "\n",
    "The following text is given:\n",
    "\n",
    "    text = '340-23-245-235'\n",
    "Using the appropriate method remove all dashes from the text. Print the result to the console.\n",
    "\n",
    "Expected result:\n",
    "\n",
    "    34023245235"
   ]
  },
  {
   "cell_type": "code",
   "execution_count": 19,
   "metadata": {},
   "outputs": [
    {
     "name": "stdout",
     "output_type": "stream",
     "text": [
      "34023245235\n"
     ]
    }
   ],
   "source": [
    "text = '340-23-245-235'\n",
    "print(text.replace(\"-\",\"\"))"
   ]
  },
  {
   "cell_type": "markdown",
   "metadata": {},
   "source": [
    "### Exercise 41\n",
    "\n",
    "The following text is given:\n",
    "\n",
    "    text = 'Open,High,Low,Close'\n",
    "    \n",
    "Using the appropriate method split the text by comma. Print the result as a list to the console as shown below.\n",
    "\n",
    "Expected result:\n",
    "\n",
    "    ['Open', 'High', 'Low', 'Close']"
   ]
  },
  {
   "cell_type": "code",
   "execution_count": 20,
   "metadata": {},
   "outputs": [
    {
     "name": "stdout",
     "output_type": "stream",
     "text": [
      "['Open', 'High', 'Low', 'Close']\n"
     ]
    }
   ],
   "source": [
    "text = 'Open,High,Low,Close'\n",
    "print(text.split(\",\"))"
   ]
  },
  {
   "cell_type": "markdown",
   "metadata": {},
   "source": [
    "### Exercise 42\n",
    "The following text is given:\n",
    "\n",
    "    text = \"\"\"Python is a general-purpose language.\n",
    "            Python is popular.\"\"\"\n",
    "Using the appropriate method, split the text into sentences. Print the result as a list to the console.\n",
    "\n",
    "Expected result:\n",
    "\n",
    "    ['Python is a general-purpose language.', 'Python is popular.']"
   ]
  },
  {
   "cell_type": "code",
   "execution_count": 21,
   "metadata": {},
   "outputs": [
    {
     "name": "stdout",
     "output_type": "stream",
     "text": [
      "['Python is a general-purpose language.', 'Python is popular.']\n"
     ]
    }
   ],
   "source": [
    "text = \"\"\"Python is a general-purpose language.\n",
    "Python is popular.\"\"\"\n",
    "\n",
    "print(text.split(\"\\n\"))"
   ]
  },
  {
   "cell_type": "code",
   "execution_count": 22,
   "metadata": {},
   "outputs": [
    {
     "name": "stdout",
     "output_type": "stream",
     "text": [
      "['Python is a general-purpose language.', 'Python is popular.']\n"
     ]
    }
   ],
   "source": [
    "print(text.splitlines())"
   ]
  },
  {
   "cell_type": "markdown",
   "metadata": {},
   "source": [
    "### Exercise 43\n",
    "The following variable is given:\n",
    "\n",
    "    num = 34\n",
    "\n",
    "Using the appropriate method for an object of type str, print the variable num preceded by four zeros to the console as shown below.\n",
    "\n",
    "Expected result:\n",
    "\n",
    "    000034"
   ]
  },
  {
   "cell_type": "code",
   "execution_count": 23,
   "metadata": {},
   "outputs": [
    {
     "name": "stdout",
     "output_type": "stream",
     "text": [
      "000034\n"
     ]
    }
   ],
   "source": [
    "num = 34\n",
    "\n",
    "print(f\"0000{str(num)}\")"
   ]
  },
  {
   "cell_type": "code",
   "execution_count": 24,
   "metadata": {},
   "outputs": [
    {
     "name": "stdout",
     "output_type": "stream",
     "text": [
      "000034\n"
     ]
    }
   ],
   "source": [
    "print(str(num).zfill(6))"
   ]
  },
  {
   "cell_type": "markdown",
   "metadata": {},
   "source": [
    "### Exercise 44\n",
    "From the given url:\n",
    "\n",
    "    url = 'https://e-smartdata.teachable.com/p/sciezka-data-scientist-machine-learning-engineer'\n",
    "\n",
    "extract the slug after the last character '/'. Then replace all dashes with spaces and print the result to the console as shown below.\n",
    "\n",
    "Expected result:\n",
    "    \n",
    "    sciezka data scientist machine learning engineer"
   ]
  },
  {
   "cell_type": "code",
   "execution_count": 25,
   "metadata": {},
   "outputs": [
    {
     "name": "stdout",
     "output_type": "stream",
     "text": [
      "sciezka data scientist machine learning engineer\n"
     ]
    }
   ],
   "source": [
    "url = 'https://e-smartdata.teachable.com/p/sciezka-data-scientist-machine-learning-engineer'\n",
    "\n",
    "print(url.split(\"/\")[-1].replace(\"-\",\" \"))"
   ]
  },
  {
   "cell_type": "code",
   "execution_count": null,
   "metadata": {},
   "outputs": [],
   "source": []
  }
 ],
 "metadata": {
  "interpreter": {
   "hash": "0012cd877e37c553ce082c8a53dbb8150686811a71a997c633aba52086b562f8"
  },
  "kernelspec": {
   "display_name": "Python 3.8.12 64-bit ('pyspark3': conda)",
   "language": "python",
   "name": "python3"
  },
  "language_info": {
   "codemirror_mode": {
    "name": "ipython",
    "version": 3
   },
   "file_extension": ".py",
   "mimetype": "text/x-python",
   "name": "python",
   "nbconvert_exporter": "python",
   "pygments_lexer": "ipython3",
   "version": "3.8.12"
  },
  "orig_nbformat": 4
 },
 "nbformat": 4,
 "nbformat_minor": 2
}
